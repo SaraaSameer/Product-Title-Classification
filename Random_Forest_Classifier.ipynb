{
 "cells": [
  {
   "cell_type": "code",
   "execution_count": 3,
   "metadata": {
    "id": "It_iLAhRyhO2"
   },
   "outputs": [],
   "source": [
    "# import sys#THIS IS FOR GOOGLE COLAB USERS ONLY\n",
    "# from google.colab import files\n",
    "# sys.path.insert(0,'/content/drive/MyDrive/Product-Title-Classification')"
   ]
  },
  {
   "cell_type": "code",
   "execution_count": 5,
   "metadata": {
    "id": "OEOZZIowzWvq"
   },
   "outputs": [],
   "source": [
    "# import sys                                                                  #THIS IS FOR GOOGLE COLAB USERS ONLY\n",
    "# from google.colab import files\n",
    "# sys.path.insert(0,'/content/drive/MyDrive/Product-Title-Classification')\n",
    "# !cp /content/drive/MyDrive/Product-Title-Classification/Utilities.py /content           #THIS IS FOR GOOGLE COLAB USERS ONLY\n",
    "# !cp /content/drive/MyDrive/Product-Title-Classification/KNNImpute.py /content"
   ]
  },
  {
   "cell_type": "code",
   "execution_count": 6,
   "metadata": {
    "colab": {
     "base_uri": "https://localhost:8080/"
    },
    "id": "XoRQHEOczoPR",
    "outputId": "8a501c6e-1613-42bf-d759-2e068bacb42e"
   },
   "outputs": [
    {
     "name": "stdout",
     "output_type": "stream",
     "text": [
      "Drive already mounted at /content/drive; to attempt to forcibly remount, call drive.mount(\"/content/drive\", force_remount=True).\n"
     ]
    }
   ],
   "source": [
    "# from google.colab import drive\n",
    "# drive.mount('/content/drive')"
   ]
  },
  {
   "cell_type": "markdown",
   "metadata": {
    "id": "4ASeZPbf1a7q"
   },
   "source": [
    "Importing Local Files"
   ]
  },
  {
   "cell_type": "code",
   "execution_count": 7,
   "metadata": {
    "id": "lslb0WZqzkiq"
   },
   "outputs": [],
   "source": [
    "# import KNNImpute\n",
    "# import Utilities"
   ]
  },
  {
   "cell_type": "code",
   "execution_count": 6,
   "metadata": {},
   "outputs": [
    {
     "name": "stdout",
     "output_type": "stream",
     "text": [
      "Collecting sklearn\n",
      "  Downloading sklearn-0.0.tar.gz (1.1 kB)\n",
      "Collecting scikit-learn\n",
      "  Downloading scikit_learn-1.1.0-cp38-cp38-manylinux_2_17_x86_64.manylinux2014_x86_64.whl (31.0 MB)\n",
      "\u001b[K     |████████████████████████████████| 31.0 MB 124 kB/s eta 0:00:01     |████████████████████            | 19.3 MB 174 kB/s eta 0:01:07     |███████████████████████████████▋| 30.7 MB 731 kB/s eta 0:00:01\n",
      "\u001b[?25hRequirement already satisfied: joblib>=1.0.0 in /home/mustafa/.local/lib/python3.8/site-packages (from scikit-learn->sklearn) (1.1.0)\n",
      "Requirement already satisfied: numpy>=1.17.3 in /home/mustafa/.local/lib/python3.8/site-packages (from scikit-learn->sklearn) (1.22.3)\n",
      "Collecting threadpoolctl>=2.0.0\n",
      "  Downloading threadpoolctl-3.1.0-py3-none-any.whl (14 kB)\n",
      "Collecting scipy>=1.3.2\n",
      "  Downloading scipy-1.8.0-cp38-cp38-manylinux_2_17_x86_64.manylinux2014_x86_64.whl (41.6 MB)\n",
      "\u001b[K     |████████████████████████████████| 41.6 MB 49 kB/s  eta 0:00:01     |████████████████████████▉       | 32.3 MB 10 kB/s eta 0:14:19\n",
      "\u001b[?25hBuilding wheels for collected packages: sklearn\n",
      "  Building wheel for sklearn (setup.py) ... \u001b[?25ldone\n",
      "\u001b[?25h  Created wheel for sklearn: filename=sklearn-0.0-py2.py3-none-any.whl size=1315 sha256=3d38ad744d36d150a99d67071fefc46974d96824fce525bd128de29f5a011f02\n",
      "  Stored in directory: /home/mustafa/.cache/pip/wheels/22/0b/40/fd3f795caaa1fb4c6cb738bc1f56100be1e57da95849bfc897\n",
      "Successfully built sklearn\n",
      "Installing collected packages: threadpoolctl, scipy, scikit-learn, sklearn\n",
      "Successfully installed scikit-learn-1.1.0 scipy-1.8.0 sklearn-0.0 threadpoolctl-3.1.0\n",
      "Note: you may need to restart the kernel to use updated packages.\n"
     ]
    }
   ],
   "source": [
    "pip install sklearn"
   ]
  },
  {
   "cell_type": "markdown",
   "metadata": {
    "id": "Kn7L4vI71emG"
   },
   "source": [
    "Importing Local Files"
   ]
  },
  {
   "cell_type": "code",
   "execution_count": 1,
   "metadata": {},
   "outputs": [],
   "source": [
    "from KNNImpute import *\n",
    "from Utilities import *"
   ]
  },
  {
   "cell_type": "markdown",
   "metadata": {},
   "source": [
    "## Importing Packages"
   ]
  },
  {
   "cell_type": "code",
   "execution_count": 2,
   "metadata": {
    "colab": {
     "base_uri": "https://localhost:8080/"
    },
    "id": "aI0jVSGd1WMK",
    "outputId": "ee4a8581-a41a-43c3-9991-2a2939d2ce57"
   },
   "outputs": [
    {
     "name": "stderr",
     "output_type": "stream",
     "text": [
      "[nltk_data] Downloading package stopwords to\n",
      "[nltk_data]     /home/mustafa/nltk_data...\n",
      "[nltk_data]   Package stopwords is already up-to-date!\n"
     ]
    }
   ],
   "source": [
    "import pandas as pd\n",
    "import numpy as np\n",
    "import nltk\n",
    "nltk.download('stopwords')\n",
    "from sklearn.naive_bayes import GaussianNB\n",
    "from sklearn.linear_model import LogisticRegression\n",
    "from sklearn.model_selection import train_test_split"
   ]
  },
  {
   "cell_type": "markdown",
   "metadata": {
    "id": "ZrxcLfH73Lv_"
   },
   "source": [
    "## Splitting Data Into Training Data and Testing Data"
   ]
  },
  {
   "cell_type": "code",
   "execution_count": 20,
   "metadata": {
    "id": "j_5etXox1t00"
   },
   "outputs": [
    {
     "name": "stdout",
     "output_type": "stream",
     "text": [
      "0        Adana Gallery Suri Square Hijab – Light Pink <...\n",
      "1        Cuba Heartbreaker Eau De Parfum Spray 100ml/3....\n",
      "2        Andoer 150cm Cellphone Smartphone Mini Dual-He...\n",
      "3        ANMYNA Complaint Silky Set 柔顺洗发配套 (Shampoo 520...\n",
      "4        Argital Argiltubo Green Clay For Face and Body...\n",
      "                               ...                        \n",
      "36278    SADES K10 LED Backlit Wired USB Mechanical Gam...\n",
      "36279    SONA 20L Electric Oven SEO 2220 <ul> <li>&nbsp...\n",
      "36280    OP1001 Portable Wireless Bluetooth 2.1 Speaker...\n",
      "36281    Woot-Woot TicTacToe Pillow Case (White) <ul> <...\n",
      "36282    New Smart Wristband D21 Smart Bracelet Heart R...\n",
      "Name: titleDescp, Length: 36283, dtype: object\n",
      "                           category_lvl1 category_lvl2  \\\n",
      "0                                Fashion         Women   \n",
      "1                        Health & Beauty   Bath & Body   \n",
      "2  TV, Audio / Video, Gaming & Wearables         Audio   \n",
      "3                        Health & Beauty     Hair Care   \n",
      "4                        Health & Beauty    Men's Care   \n",
      "\n",
      "             category_lvl3                                         titleDescp  \n",
      "0              Muslim Wear  adana galleri suri squar hijab light pink ul l...  \n",
      "1         Hand & Foot Care  cuba heartbreak eau de parfum spray ml oz form...  \n",
      "2       Live Sound & Stage  andoer cm cellphon smartphon mini dual head om...  \n",
      "3  Shampoos & Conditioners  anmyna complaint silki set shampoo ml conditio...  \n",
      "4       Body and Skin Care  argit argiltubo green clay face bodi ml ul li ...  \n"
     ]
    }
   ],
   "source": [
    "# labels=[\"country\", \"sku_id\", \"title\", \"category_lvl1\",\"category_lvl2\",\"category_lvl3\", \"description\", \"price\", \"type\"]\n",
    "\n",
    "# def getTrainingDataset():\n",
    "#     return pd.read_csv('data_train.csv', header=None, names=labels)  \n",
    "\n",
    "\n",
    "# raw_data = getTrainingDataset()\n",
    "# train_df,Y1,Y2,Y3= Cleaning_Data_Utility(raw_data) #Utilities. hatadena yahan se \n",
    "# print(train_df.head())"
   ]
  },
  {
   "cell_type": "markdown",
   "metadata": {
    "id": "v9Z4wo4E5KQR"
   },
   "source": [
    "# Imputing Null Values"
   ]
  },
  {
   "cell_type": "code",
   "execution_count": 21,
   "metadata": {
    "id": "RGqIH1Md2Yiq"
   },
   "outputs": [
    {
     "name": "stdout",
     "output_type": "stream",
     "text": [
      "category_lvl1       0\n",
      "category_lvl2       0\n",
      "category_lvl3    2135\n",
      "titleDescp          0\n",
      "dtype: int64\n",
      "\n",
      "The missing data percent is: 1.4710746079431138\n"
     ]
    },
    {
     "name": "stderr",
     "output_type": "stream",
     "text": [
      "/home/mustafa/.local/lib/python3.8/site-packages/sklearn/preprocessing/_label.py:115: DataConversionWarning: A column-vector y was passed when a 1d array was expected. Please change the shape of y to (n_samples, ), for example using ravel().\n",
      "  y = column_or_1d(y, warn=True)\n"
     ]
    },
    {
     "name": "stdout",
     "output_type": "stream",
     "text": [
      "category_lvl1    0\n",
      "category_lvl2    0\n",
      "category_lvl3    0\n",
      "Title_desc       0\n",
      "dtype: int64\n",
      "\n",
      "The missing data percent is: 0.0\n"
     ]
    }
   ],
   "source": [
    "# def NullStatistics(df):\n",
    "#     missing_val = df.isnull().sum()\n",
    "#     print(missing_val)\n",
    "#     total_cells = np.product(df.shape)\n",
    "#     missing_percent = (missing_val.sum()/total_cells) *100\n",
    "#     print(f'\\nThe missing data percent is: {missing_percent}')\n",
    "\n",
    "# NullStatistics(train_df)\n",
    "\n",
    "# unique_label_c1, unique_label_c2, unique_label_c3 = preserve_label(train_df) #It has all unique values lying in ctg1 , 2 , 3 column\n",
    "# encode(['category_lvl1', 'category_lvl2', 'category_lvl3'],train_df)        #Performed encoding for CTGLVL3 KNN\n",
    "# train_df_imputed = impute(train_df)\n",
    "# train_df_imputed =  clean_csv(train_df_imputed,train_df)\n",
    "# NullStatistics(train_df_imputed)"
   ]
  },
  {
   "cell_type": "code",
   "execution_count": 22,
   "metadata": {},
   "outputs": [],
   "source": [
    "temp = train_df_imputed "
   ]
  },
  {
   "cell_type": "markdown",
   "metadata": {},
   "source": [
    "## Directly Reading From File"
   ]
  },
  {
   "cell_type": "code",
   "execution_count": 26,
   "metadata": {},
   "outputs": [],
   "source": [
    "train_df_imputed = temp\n",
    "train_df_imputed.to_csv(\"clean_training_data.csv\" , index=False)"
   ]
  },
  {
   "cell_type": "code",
   "execution_count": 3,
   "metadata": {},
   "outputs": [
    {
     "data": {
      "text/html": [
       "<div>\n",
       "<style scoped>\n",
       "    .dataframe tbody tr th:only-of-type {\n",
       "        vertical-align: middle;\n",
       "    }\n",
       "\n",
       "    .dataframe tbody tr th {\n",
       "        vertical-align: top;\n",
       "    }\n",
       "\n",
       "    .dataframe thead th {\n",
       "        text-align: right;\n",
       "    }\n",
       "</style>\n",
       "<table border=\"1\" class=\"dataframe\">\n",
       "  <thead>\n",
       "    <tr style=\"text-align: right;\">\n",
       "      <th></th>\n",
       "      <th>category_lvl1</th>\n",
       "      <th>category_lvl2</th>\n",
       "      <th>category_lvl3</th>\n",
       "      <th>Title_desc</th>\n",
       "    </tr>\n",
       "  </thead>\n",
       "  <tbody>\n",
       "    <tr>\n",
       "      <th>0</th>\n",
       "      <td>2.0</td>\n",
       "      <td>56.0</td>\n",
       "      <td>113.0</td>\n",
       "      <td>adana galleri suri squar hijab light pink ul l...</td>\n",
       "    </tr>\n",
       "    <tr>\n",
       "      <th>1</th>\n",
       "      <td>3.0</td>\n",
       "      <td>3.0</td>\n",
       "      <td>67.0</td>\n",
       "      <td>cuba heartbreak eau de parfum spray ml oz form...</td>\n",
       "    </tr>\n",
       "    <tr>\n",
       "      <th>2</th>\n",
       "      <td>7.0</td>\n",
       "      <td>1.0</td>\n",
       "      <td>95.0</td>\n",
       "      <td>andoer cm cellphon smartphon mini dual head om...</td>\n",
       "    </tr>\n",
       "    <tr>\n",
       "      <th>3</th>\n",
       "      <td>3.0</td>\n",
       "      <td>23.0</td>\n",
       "      <td>147.0</td>\n",
       "      <td>anmyna complaint silki set shampoo ml conditio...</td>\n",
       "    </tr>\n",
       "    <tr>\n",
       "      <th>4</th>\n",
       "      <td>3.0</td>\n",
       "      <td>36.0</td>\n",
       "      <td>23.0</td>\n",
       "      <td>argit argiltubo green clay face bodi ml ul li ...</td>\n",
       "    </tr>\n",
       "  </tbody>\n",
       "</table>\n",
       "</div>"
      ],
      "text/plain": [
       "   category_lvl1  category_lvl2  category_lvl3  \\\n",
       "0            2.0           56.0          113.0   \n",
       "1            3.0            3.0           67.0   \n",
       "2            7.0            1.0           95.0   \n",
       "3            3.0           23.0          147.0   \n",
       "4            3.0           36.0           23.0   \n",
       "\n",
       "                                          Title_desc  \n",
       "0  adana galleri suri squar hijab light pink ul l...  \n",
       "1  cuba heartbreak eau de parfum spray ml oz form...  \n",
       "2  andoer cm cellphon smartphon mini dual head om...  \n",
       "3  anmyna complaint silki set shampoo ml conditio...  \n",
       "4  argit argiltubo green clay face bodi ml ul li ...  "
      ]
     },
     "execution_count": 3,
     "metadata": {},
     "output_type": "execute_result"
    }
   ],
   "source": [
    "train_df_imputed = pd.read_csv(\"clean_training_data.csv\" , )\n",
    "train_df_imputed.head() "
   ]
  },
  {
   "cell_type": "markdown",
   "metadata": {
    "id": "K3e0zrh05LAR"
   },
   "source": [
    "Splitting Data Into Training And Testing"
   ]
  },
  {
   "cell_type": "code",
   "execution_count": 4,
   "metadata": {
    "id": "8HHY7OjR5OS-"
   },
   "outputs": [],
   "source": [
    "X = train_df_imputed['Title_desc']\n",
    "Y1 = train_df_imputed['category_lvl1']\n",
    "Y2 = train_df_imputed['category_lvl2']\n",
    "Y3 = train_df_imputed['category_lvl3']\n",
    "X_train, X_test , Y_train , Y_test = train_test_split(X, Y1, test_size = 0.3, random_state=3 , stratify = Y1)"
   ]
  },
  {
   "cell_type": "code",
   "execution_count": 5,
   "metadata": {
    "colab": {
     "base_uri": "https://localhost:8080/"
    },
    "id": "jpBcL0kL5bPm",
    "outputId": "85fe4709-7403-47cb-d970-947fe2b2a8c6"
   },
   "outputs": [
    {
     "data": {
      "text/plain": [
       "(25398,)"
      ]
     },
     "execution_count": 5,
     "metadata": {},
     "output_type": "execute_result"
    }
   ],
   "source": [
    "Y_train.shape"
   ]
  },
  {
   "cell_type": "markdown",
   "metadata": {
    "id": "8wh_fVbY5ky-"
   },
   "source": [
    "Feature Extraction"
   ]
  },
  {
   "cell_type": "code",
   "execution_count": 6,
   "metadata": {
    "id": "0zhtq-np4Ubf"
   },
   "outputs": [],
   "source": [
    "from sklearn.feature_extraction.text import TfidfVectorizer\n",
    "\n",
    "feature_extraction = TfidfVectorizer(min_df = 1, stop_words = 'english' , lowercase = 'True')\n",
    "\n",
    "X_train_features = feature_extraction.fit_transform(X_train.values.astype('U'))\n",
    "X_test_features = feature_extraction.transform(X_test.values.astype('U'))"
   ]
  },
  {
   "cell_type": "code",
   "execution_count": 7,
   "metadata": {
    "colab": {
     "base_uri": "https://localhost:8080/"
    },
    "id": "cr7lLRmm5zT8",
    "outputId": "f65afdab-6ed6-47b9-e0ac-afa453286949"
   },
   "outputs": [
    {
     "name": "stdout",
     "output_type": "stream",
     "text": [
      "  (0, 16981)\t0.062143522561221916\n",
      "  (0, 14825)\t0.06190906261845123\n",
      "  (0, 20846)\t0.10084698010861086\n",
      "  (0, 5964)\t0.07674462784092914\n",
      "  (0, 7146)\t0.10037996161500964\n",
      "  (0, 13896)\t0.11750587658197595\n",
      "  (0, 4902)\t0.07102430542943922\n",
      "  (0, 19123)\t0.0953740004541301\n",
      "  (0, 23523)\t0.13021981306142558\n",
      "  (0, 3363)\t0.07006688061804335\n",
      "  (0, 18186)\t0.0687015109331191\n",
      "  (0, 24295)\t0.056675062787309036\n",
      "  (0, 13151)\t0.08949346886584825\n",
      "  (0, 5828)\t0.12354929384162018\n",
      "  (0, 7347)\t0.09719456795824254\n",
      "  (0, 15679)\t0.049508410152838835\n",
      "  (0, 2840)\t0.05190585061900028\n",
      "  (0, 18817)\t0.09075895909681381\n",
      "  (0, 13916)\t0.09682612994152978\n",
      "  (0, 3481)\t0.07612744439066685\n",
      "  (0, 23906)\t0.16039581233877792\n",
      "  (0, 2812)\t0.6772696503457704\n",
      "  (0, 14893)\t0.07912429466908961\n",
      "  (0, 1987)\t0.14079388300515713\n",
      "  (0, 513)\t0.38332973942736503\n",
      "  :\t:\n",
      "  (25397, 7967)\t0.08652623916287899\n",
      "  (25397, 7011)\t0.0640816697773495\n",
      "  (25397, 750)\t0.044484526165596096\n",
      "  (25397, 11477)\t0.18598660552966553\n",
      "  (25397, 14424)\t0.05581947916479948\n",
      "  (25397, 25588)\t0.08591930503427664\n",
      "  (25397, 21390)\t0.0668849455088819\n",
      "  (25397, 19536)\t0.07201084016039155\n",
      "  (25397, 19131)\t0.11150399591448265\n",
      "  (25397, 15537)\t0.14745591314673331\n",
      "  (25397, 25635)\t0.094203002609411\n",
      "  (25397, 23907)\t0.043621403417996814\n",
      "  (25397, 2434)\t0.037573646487607436\n",
      "  (25397, 10696)\t0.1644160636024282\n",
      "  (25397, 1779)\t0.056524865465372415\n",
      "  (25397, 12492)\t0.1462882477196815\n",
      "  (25397, 15597)\t0.06853262968735178\n",
      "  (25397, 21117)\t0.0656168064667934\n",
      "  (25397, 6806)\t0.12085453233893184\n",
      "  (25397, 10650)\t0.05716832232650811\n",
      "  (25397, 13128)\t0.14355442318849063\n",
      "  (25397, 23981)\t0.028735780266451103\n",
      "  (25397, 4323)\t0.11822591925852792\n",
      "  (25397, 16981)\t0.046944285742388604\n",
      "  (25397, 24295)\t0.04281331717773381\n"
     ]
    }
   ],
   "source": [
    "print(X_train_features)"
   ]
  },
  {
   "cell_type": "markdown",
   "metadata": {
    "id": "pD9RgSPUF97v"
   },
   "source": [
    "Applying Random Forest Classifier"
   ]
  },
  {
   "cell_type": "code",
   "execution_count": 8,
   "metadata": {
    "colab": {
     "base_uri": "https://localhost:8080/"
    },
    "id": "lU0g-aGaVhGv",
    "outputId": "4bba24c8-04f5-46c6-c604-6d29596c07dd"
   },
   "outputs": [
    {
     "name": "stdout",
     "output_type": "stream",
     "text": [
      "159\n"
     ]
    }
   ],
   "source": [
    "import math\n",
    "X_train.shape\n",
    "number_of_trees = X_train.shape\n",
    "estimated_trees = math.sqrt(number_of_trees[0])\n",
    "estimated_trees = int(math.floor(estimated_trees))\n",
    "print(estimated_trees)"
   ]
  },
  {
   "cell_type": "code",
   "execution_count": 9,
   "metadata": {
    "colab": {
     "base_uri": "https://localhost:8080/"
    },
    "id": "pS1qnlQmFMno",
    "outputId": "fffb9327-ead1-48d4-84a0-45d7de85be8c"
   },
   "outputs": [
    {
     "data": {
      "text/html": [
       "<style>#sk-container-id-1 {color: black;background-color: white;}#sk-container-id-1 pre{padding: 0;}#sk-container-id-1 div.sk-toggleable {background-color: white;}#sk-container-id-1 label.sk-toggleable__label {cursor: pointer;display: block;width: 100%;margin-bottom: 0;padding: 0.3em;box-sizing: border-box;text-align: center;}#sk-container-id-1 label.sk-toggleable__label-arrow:before {content: \"▸\";float: left;margin-right: 0.25em;color: #696969;}#sk-container-id-1 label.sk-toggleable__label-arrow:hover:before {color: black;}#sk-container-id-1 div.sk-estimator:hover label.sk-toggleable__label-arrow:before {color: black;}#sk-container-id-1 div.sk-toggleable__content {max-height: 0;max-width: 0;overflow: hidden;text-align: left;background-color: #f0f8ff;}#sk-container-id-1 div.sk-toggleable__content pre {margin: 0.2em;color: black;border-radius: 0.25em;background-color: #f0f8ff;}#sk-container-id-1 input.sk-toggleable__control:checked~div.sk-toggleable__content {max-height: 200px;max-width: 100%;overflow: auto;}#sk-container-id-1 input.sk-toggleable__control:checked~label.sk-toggleable__label-arrow:before {content: \"▾\";}#sk-container-id-1 div.sk-estimator input.sk-toggleable__control:checked~label.sk-toggleable__label {background-color: #d4ebff;}#sk-container-id-1 div.sk-label input.sk-toggleable__control:checked~label.sk-toggleable__label {background-color: #d4ebff;}#sk-container-id-1 input.sk-hidden--visually {border: 0;clip: rect(1px 1px 1px 1px);clip: rect(1px, 1px, 1px, 1px);height: 1px;margin: -1px;overflow: hidden;padding: 0;position: absolute;width: 1px;}#sk-container-id-1 div.sk-estimator {font-family: monospace;background-color: #f0f8ff;border: 1px dotted black;border-radius: 0.25em;box-sizing: border-box;margin-bottom: 0.5em;}#sk-container-id-1 div.sk-estimator:hover {background-color: #d4ebff;}#sk-container-id-1 div.sk-parallel-item::after {content: \"\";width: 100%;border-bottom: 1px solid gray;flex-grow: 1;}#sk-container-id-1 div.sk-label:hover label.sk-toggleable__label {background-color: #d4ebff;}#sk-container-id-1 div.sk-serial::before {content: \"\";position: absolute;border-left: 1px solid gray;box-sizing: border-box;top: 0;bottom: 0;left: 50%;z-index: 0;}#sk-container-id-1 div.sk-serial {display: flex;flex-direction: column;align-items: center;background-color: white;padding-right: 0.2em;padding-left: 0.2em;position: relative;}#sk-container-id-1 div.sk-item {position: relative;z-index: 1;}#sk-container-id-1 div.sk-parallel {display: flex;align-items: stretch;justify-content: center;background-color: white;position: relative;}#sk-container-id-1 div.sk-item::before, #sk-container-id-1 div.sk-parallel-item::before {content: \"\";position: absolute;border-left: 1px solid gray;box-sizing: border-box;top: 0;bottom: 0;left: 50%;z-index: -1;}#sk-container-id-1 div.sk-parallel-item {display: flex;flex-direction: column;z-index: 1;position: relative;background-color: white;}#sk-container-id-1 div.sk-parallel-item:first-child::after {align-self: flex-end;width: 50%;}#sk-container-id-1 div.sk-parallel-item:last-child::after {align-self: flex-start;width: 50%;}#sk-container-id-1 div.sk-parallel-item:only-child::after {width: 0;}#sk-container-id-1 div.sk-dashed-wrapped {border: 1px dashed gray;margin: 0 0.4em 0.5em 0.4em;box-sizing: border-box;padding-bottom: 0.4em;background-color: white;}#sk-container-id-1 div.sk-label label {font-family: monospace;font-weight: bold;display: inline-block;line-height: 1.2em;}#sk-container-id-1 div.sk-label-container {text-align: center;}#sk-container-id-1 div.sk-container {/* jupyter's `normalize.less` sets `[hidden] { display: none; }` but bootstrap.min.css set `[hidden] { display: none !important; }` so we also need the `!important` here to be able to override the default hidden behavior on the sphinx rendered scikit-learn.org. See: https://github.com/scikit-learn/scikit-learn/issues/21755 */display: inline-block !important;position: relative;}#sk-container-id-1 div.sk-text-repr-fallback {display: none;}</style><div id=\"sk-container-id-1\" class=\"sk-top-container\"><div class=\"sk-text-repr-fallback\"><pre>RandomForestClassifier(n_estimators=159)</pre><b>In a Jupyter environment, please rerun this cell to show the HTML representation or trust the notebook. <br />On GitHub, the HTML representation is unable to render, please try loading this page with nbviewer.org.</b></div><div class=\"sk-container\" hidden><div class=\"sk-item\"><div class=\"sk-estimator sk-toggleable\"><input class=\"sk-toggleable__control sk-hidden--visually\" id=\"sk-estimator-id-1\" type=\"checkbox\" checked><label for=\"sk-estimator-id-1\" class=\"sk-toggleable__label sk-toggleable__label-arrow\">RandomForestClassifier</label><div class=\"sk-toggleable__content\"><pre>RandomForestClassifier(n_estimators=159)</pre></div></div></div></div></div>"
      ],
      "text/plain": [
       "RandomForestClassifier(n_estimators=159)"
      ]
     },
     "execution_count": 9,
     "metadata": {},
     "output_type": "execute_result"
    }
   ],
   "source": [
    "from sklearn.ensemble import RandomForestClassifier\n",
    "model_cat_1 = RandomForestClassifier(n_estimators = estimated_trees) \n",
    "model_cat_1.fit(X_train_features, Y_train)"
   ]
  },
  {
   "cell_type": "code",
   "execution_count": 10,
   "metadata": {
    "colab": {
     "base_uri": "https://localhost:8080/"
    },
    "id": "tudh5rTIF6pB",
    "outputId": "ca867eb5-8999-4f4e-f7c8-ab18daf54b8e"
   },
   "outputs": [
    {
     "name": "stdout",
     "output_type": "stream",
     "text": [
      "0.9990944168832192\n"
     ]
    }
   ],
   "source": [
    "#Predicting On Training Data\n",
    "\n",
    "prediction_on_training_data = model_cat_1.predict(X_train_features)\n",
    "accuracy_on_training_data = accuracy_score(Y_train , prediction_on_training_data)\n",
    "print(accuracy_on_training_data)"
   ]
  },
  {
   "cell_type": "code",
   "execution_count": 11,
   "metadata": {
    "colab": {
     "base_uri": "https://localhost:8080/"
    },
    "id": "42bOV8BHGO7P",
    "outputId": "3df638fb-88be-421f-da1b-d95d25cde231"
   },
   "outputs": [
    {
     "name": "stdout",
     "output_type": "stream",
     "text": [
      "0.9029857602204869\n"
     ]
    }
   ],
   "source": [
    "#Predicting On Testing Data\n",
    "\n",
    "prediction_on_testing_data = model_cat_1.predict(X_test_features)\n",
    "accuracy_on_testing_data = accuracy_score(Y_test , prediction_on_testing_data)\n",
    "print(accuracy_on_testing_data)"
   ]
  },
  {
   "cell_type": "code",
   "execution_count": 49,
   "metadata": {
    "colab": {
     "base_uri": "https://localhost:8080/"
    },
    "id": "GA1mISvWG47w",
    "outputId": "6ea4a306-29f3-4f9b-8bf5-f994e66df293"
   },
   "outputs": [
    {
     "name": "stdout",
     "output_type": "stream",
     "text": [
      "Accuracy score with Random Forest Classifier is : \n",
      "90.32613688562242\n",
      "[[ 503   11    5    2   34    1   29    1    0]\n",
      " [   5  747    1    2   25    2   54   41    1]\n",
      " [   0    1 1628   12   52    0   11    1   14]\n",
      " [   0    0   34 1053  107    4    5    5    4]\n",
      " [   6    8   49   41 1658    6   25    8   13]\n",
      " [   0    0    2   11  114  342    6    0    0]\n",
      " [   6    8    3    3   21    1 2118   21    2]\n",
      " [   7   21    2    6   58    2   60  580   17]\n",
      " [   2    0   18    3   28    0    7    4 1203]]\n"
     ]
    }
   ],
   "source": [
    "from sklearn import metrics\n",
    "from sklearn.metrics import confusion_matrix\n",
    "\n",
    "print('Accuracy score with Random Forest Classifier is : ')\n",
    "print(metrics.accuracy_score(Y_test, prediction_on_testing_data)*100)\n",
    "mat = confusion_matrix(Y_test, prediction_on_testing_data)\n",
    "print(mat)"
   ]
  },
  {
   "cell_type": "code",
   "execution_count": 50,
   "metadata": {
    "colab": {
     "base_uri": "https://localhost:8080/"
    },
    "id": "kluUuuZcTcjC",
    "outputId": "fdfb66dd-f3d4-42b5-b236-38c859539f2a"
   },
   "outputs": [
    {
     "name": "stdout",
     "output_type": "stream",
     "text": [
      "              precision    recall  f1-score   support\n",
      "\n",
      "         0.0       0.95      0.86      0.90       586\n",
      "         1.0       0.94      0.85      0.89       878\n",
      "         2.0       0.93      0.95      0.94      1719\n",
      "         3.0       0.93      0.87      0.90      1212\n",
      "         4.0       0.79      0.91      0.85      1814\n",
      "         5.0       0.96      0.72      0.82       475\n",
      "         6.0       0.91      0.97      0.94      2183\n",
      "         7.0       0.88      0.77      0.82       753\n",
      "         8.0       0.96      0.95      0.96      1265\n",
      "\n",
      "    accuracy                           0.90     10885\n",
      "   macro avg       0.92      0.87      0.89     10885\n",
      "weighted avg       0.91      0.90      0.90     10885\n",
      "\n"
     ]
    }
   ],
   "source": [
    "# Printing Classification Report\n",
    "\n",
    "from sklearn.metrics import classification_report\n",
    "print(classification_report(Y_test, prediction_on_testing_data))"
   ]
  },
  {
   "cell_type": "markdown",
   "metadata": {
    "id": "4cSuVekrZKYu"
   },
   "source": [
    "## CATEGORY LEVEL 2"
   ]
  },
  {
   "cell_type": "code",
   "execution_count": 59,
   "metadata": {},
   "outputs": [],
   "source": [
    "X = train_df_imputed['Title_desc']\n",
    "Y1 = train_df_imputed['category_lvl1']\n",
    "Y2 = train_df_imputed['category_lvl2']\n",
    "Y3 = train_df_imputed['category_lvl3']\n",
    "X_train, X_test , Y_train , Y_test = train_test_split(X, Y2, test_size = 0.3, random_state=3 , stratify = Y2)"
   ]
  },
  {
   "cell_type": "markdown",
   "metadata": {},
   "source": [
    "Feature Extraction"
   ]
  },
  {
   "cell_type": "code",
   "execution_count": 61,
   "metadata": {},
   "outputs": [
    {
     "name": "stdout",
     "output_type": "stream",
     "text": [
      "  (0, 23719)\t0.1121815911455606\n",
      "  (0, 21916)\t0.165843922602542\n",
      "  (0, 21080)\t0.16314642624619388\n",
      "  (0, 20795)\t0.14266694982120026\n",
      "  (0, 20768)\t0.4540205756824182\n",
      "  (0, 20641)\t0.09753398231263447\n",
      "  (0, 20352)\t0.1719445991665768\n",
      "  (0, 18875)\t0.1940325100893119\n",
      "  (0, 16817)\t0.1331402248498774\n",
      "  (0, 14214)\t0.129445894319038\n",
      "  (0, 13960)\t0.0795637343615029\n",
      "  (0, 13565)\t0.17375177314638093\n",
      "  (0, 13346)\t0.27287705896965436\n",
      "  (0, 12974)\t0.1307712728515241\n",
      "  (0, 8390)\t0.12818724209190857\n",
      "  (0, 8056)\t0.10080934942966051\n",
      "  (0, 6514)\t0.16600916707170177\n",
      "  (0, 5064)\t0.14187488607322638\n",
      "  (0, 4590)\t0.0935538231595422\n",
      "  (0, 4565)\t0.18181095630667324\n",
      "  (0, 3684)\t0.14047609735665126\n",
      "  (0, 3181)\t0.1484313169258753\n",
      "  (0, 2806)\t0.5248971787175488\n",
      "  (0, 2487)\t0.1847747462569313\n",
      "  (1, 25329)\t0.11951897199288575\n",
      "  :\t:\n",
      "  (10884, 23793)\t0.05005704486302929\n",
      "  (10884, 23318)\t0.18694686009179287\n",
      "  (10884, 20641)\t0.06634897697753309\n",
      "  (10884, 20594)\t0.12275958424836705\n",
      "  (10884, 18086)\t0.1468251272822115\n",
      "  (10884, 17408)\t0.08996818559378193\n",
      "  (10884, 16577)\t0.22888260822346373\n",
      "  (10884, 16564)\t0.12214676418259256\n",
      "  (10884, 15369)\t0.10814230336149243\n",
      "  (10884, 13960)\t0.054124442109589534\n",
      "  (10884, 13728)\t0.09857752023826423\n",
      "  (10884, 13060)\t0.3001293602980869\n",
      "  (10884, 12875)\t0.15408011227849563\n",
      "  (10884, 12422)\t0.23560553043540705\n",
      "  (10884, 10294)\t0.13927401584198015\n",
      "  (10884, 9756)\t0.1097666711876246\n",
      "  (10884, 9394)\t0.1036317799262895\n",
      "  (10884, 8654)\t0.3041990900807211\n",
      "  (10884, 7203)\t0.15692450024438975\n",
      "  (10884, 5971)\t0.3867268566857858\n",
      "  (10884, 4316)\t0.43911268040576257\n",
      "  (10884, 3512)\t0.1671851684050508\n",
      "  (10884, 2783)\t0.10641873769680431\n",
      "  (10884, 2616)\t0.10378559819011364\n",
      "  (10884, 1414)\t0.1886129955611017\n"
     ]
    }
   ],
   "source": [
    "from sklearn.feature_extraction.text import TfidfVectorizer\n",
    "\n",
    "feature_extraction = TfidfVectorizer(min_df = 1, stop_words = 'english' , lowercase = 'True')\n",
    "\n",
    "X_train_features = feature_extraction.fit_transform(X_train.values.astype('U'))\n",
    "X_test_features = feature_extraction.transform(X_test.values.astype('U'))\n",
    "print(X_test_features)"
   ]
  },
  {
   "cell_type": "code",
   "execution_count": 62,
   "metadata": {},
   "outputs": [
    {
     "data": {
      "text/plain": [
       "(25398, 26119)"
      ]
     },
     "execution_count": 62,
     "metadata": {},
     "output_type": "execute_result"
    }
   ],
   "source": [
    "X_train_features.shape"
   ]
  },
  {
   "cell_type": "code",
   "execution_count": 63,
   "metadata": {},
   "outputs": [
    {
     "data": {
      "text/plain": [
       "(10885, 26119)"
      ]
     },
     "execution_count": 63,
     "metadata": {},
     "output_type": "execute_result"
    }
   ],
   "source": [
    "X_test_features.shape"
   ]
  },
  {
   "cell_type": "code",
   "execution_count": 64,
   "metadata": {},
   "outputs": [
    {
     "name": "stdout",
     "output_type": "stream",
     "text": [
      "159\n"
     ]
    }
   ],
   "source": [
    "import math\n",
    "X_train.shape\n",
    "number_of_trees = X_train.shape\n",
    "estimated_trees = math.sqrt(number_of_trees[0])\n",
    "estimated_trees = int(math.floor(estimated_trees))\n",
    "print(estimated_trees)"
   ]
  },
  {
   "cell_type": "code",
   "execution_count": 66,
   "metadata": {},
   "outputs": [
    {
     "data": {
      "text/html": [
       "<style>#sk-container-id-4 {color: black;background-color: white;}#sk-container-id-4 pre{padding: 0;}#sk-container-id-4 div.sk-toggleable {background-color: white;}#sk-container-id-4 label.sk-toggleable__label {cursor: pointer;display: block;width: 100%;margin-bottom: 0;padding: 0.3em;box-sizing: border-box;text-align: center;}#sk-container-id-4 label.sk-toggleable__label-arrow:before {content: \"▸\";float: left;margin-right: 0.25em;color: #696969;}#sk-container-id-4 label.sk-toggleable__label-arrow:hover:before {color: black;}#sk-container-id-4 div.sk-estimator:hover label.sk-toggleable__label-arrow:before {color: black;}#sk-container-id-4 div.sk-toggleable__content {max-height: 0;max-width: 0;overflow: hidden;text-align: left;background-color: #f0f8ff;}#sk-container-id-4 div.sk-toggleable__content pre {margin: 0.2em;color: black;border-radius: 0.25em;background-color: #f0f8ff;}#sk-container-id-4 input.sk-toggleable__control:checked~div.sk-toggleable__content {max-height: 200px;max-width: 100%;overflow: auto;}#sk-container-id-4 input.sk-toggleable__control:checked~label.sk-toggleable__label-arrow:before {content: \"▾\";}#sk-container-id-4 div.sk-estimator input.sk-toggleable__control:checked~label.sk-toggleable__label {background-color: #d4ebff;}#sk-container-id-4 div.sk-label input.sk-toggleable__control:checked~label.sk-toggleable__label {background-color: #d4ebff;}#sk-container-id-4 input.sk-hidden--visually {border: 0;clip: rect(1px 1px 1px 1px);clip: rect(1px, 1px, 1px, 1px);height: 1px;margin: -1px;overflow: hidden;padding: 0;position: absolute;width: 1px;}#sk-container-id-4 div.sk-estimator {font-family: monospace;background-color: #f0f8ff;border: 1px dotted black;border-radius: 0.25em;box-sizing: border-box;margin-bottom: 0.5em;}#sk-container-id-4 div.sk-estimator:hover {background-color: #d4ebff;}#sk-container-id-4 div.sk-parallel-item::after {content: \"\";width: 100%;border-bottom: 1px solid gray;flex-grow: 1;}#sk-container-id-4 div.sk-label:hover label.sk-toggleable__label {background-color: #d4ebff;}#sk-container-id-4 div.sk-serial::before {content: \"\";position: absolute;border-left: 1px solid gray;box-sizing: border-box;top: 0;bottom: 0;left: 50%;z-index: 0;}#sk-container-id-4 div.sk-serial {display: flex;flex-direction: column;align-items: center;background-color: white;padding-right: 0.2em;padding-left: 0.2em;position: relative;}#sk-container-id-4 div.sk-item {position: relative;z-index: 1;}#sk-container-id-4 div.sk-parallel {display: flex;align-items: stretch;justify-content: center;background-color: white;position: relative;}#sk-container-id-4 div.sk-item::before, #sk-container-id-4 div.sk-parallel-item::before {content: \"\";position: absolute;border-left: 1px solid gray;box-sizing: border-box;top: 0;bottom: 0;left: 50%;z-index: -1;}#sk-container-id-4 div.sk-parallel-item {display: flex;flex-direction: column;z-index: 1;position: relative;background-color: white;}#sk-container-id-4 div.sk-parallel-item:first-child::after {align-self: flex-end;width: 50%;}#sk-container-id-4 div.sk-parallel-item:last-child::after {align-self: flex-start;width: 50%;}#sk-container-id-4 div.sk-parallel-item:only-child::after {width: 0;}#sk-container-id-4 div.sk-dashed-wrapped {border: 1px dashed gray;margin: 0 0.4em 0.5em 0.4em;box-sizing: border-box;padding-bottom: 0.4em;background-color: white;}#sk-container-id-4 div.sk-label label {font-family: monospace;font-weight: bold;display: inline-block;line-height: 1.2em;}#sk-container-id-4 div.sk-label-container {text-align: center;}#sk-container-id-4 div.sk-container {/* jupyter's `normalize.less` sets `[hidden] { display: none; }` but bootstrap.min.css set `[hidden] { display: none !important; }` so we also need the `!important` here to be able to override the default hidden behavior on the sphinx rendered scikit-learn.org. See: https://github.com/scikit-learn/scikit-learn/issues/21755 */display: inline-block !important;position: relative;}#sk-container-id-4 div.sk-text-repr-fallback {display: none;}</style><div id=\"sk-container-id-4\" class=\"sk-top-container\"><div class=\"sk-text-repr-fallback\"><pre>RandomForestClassifier(n_estimators=159)</pre><b>In a Jupyter environment, please rerun this cell to show the HTML representation or trust the notebook. <br />On GitHub, the HTML representation is unable to render, please try loading this page with nbviewer.org.</b></div><div class=\"sk-container\" hidden><div class=\"sk-item\"><div class=\"sk-estimator sk-toggleable\"><input class=\"sk-toggleable__control sk-hidden--visually\" id=\"sk-estimator-id-4\" type=\"checkbox\" checked><label for=\"sk-estimator-id-4\" class=\"sk-toggleable__label sk-toggleable__label-arrow\">RandomForestClassifier</label><div class=\"sk-toggleable__content\"><pre>RandomForestClassifier(n_estimators=159)</pre></div></div></div></div></div>"
      ],
      "text/plain": [
       "RandomForestClassifier(n_estimators=159)"
      ]
     },
     "execution_count": 66,
     "metadata": {},
     "output_type": "execute_result"
    }
   ],
   "source": [
    "from sklearn.ensemble import RandomForestClassifier\n",
    "model_cat_2 = RandomForestClassifier(n_estimators = estimated_trees) \n",
    "model_cat_2.fit(X_train_features, Y_train)"
   ]
  },
  {
   "cell_type": "code",
   "execution_count": 67,
   "metadata": {},
   "outputs": [
    {
     "name": "stdout",
     "output_type": "stream",
     "text": [
      "0.9992125364201906\n"
     ]
    }
   ],
   "source": [
    "#Predicting On Training Data\n",
    "\n",
    "from sklearn.metrics import accuracy_score    \n",
    "\n",
    "prediction_on_training_data = model_cat_2.predict(X_train_features)\n",
    "accuracy_on_training_data = accuracy_score(Y_train , prediction_on_training_data)\n",
    "print(accuracy_on_training_data)"
   ]
  },
  {
   "cell_type": "code",
   "execution_count": 68,
   "metadata": {},
   "outputs": [
    {
     "name": "stdout",
     "output_type": "stream",
     "text": [
      "0.8215893431327514\n"
     ]
    }
   ],
   "source": [
    "#Predicting On Testing Data\n",
    "\n",
    "prediction_on_testing_data = model.predict(X_test_features)\n",
    "accuracy_on_testing_data = accuracy_score(Y_test , prediction_on_testing_data)\n",
    "print(accuracy_on_testing_data)"
   ]
  },
  {
   "cell_type": "code",
   "execution_count": null,
   "metadata": {},
   "outputs": [],
   "source": [
    "from sklearn import metrics\n",
    "from sklearn.metrics import confusion_matrix\n",
    "\n",
    "print('Accuracy score with Random Forest Classifier is : ')\n",
    "print(metrics.accuracy_score(Y_test, prediction_on_testing_data)*100)\n",
    "mat = confusion_matrix(Y_test, prediction_on_testing_data)\n",
    "print(mat)"
   ]
  },
  {
   "cell_type": "markdown",
   "metadata": {},
   "source": [
    "# CATEGORY LEVEL 3"
   ]
  },
  {
   "cell_type": "code",
   "execution_count": 8,
   "metadata": {},
   "outputs": [],
   "source": [
    "X = train_df_imputed['Title_desc']\n",
    "Y1 = train_df_imputed['category_lvl1']\n",
    "Y2 = train_df_imputed['category_lvl2']\n",
    "Y3 = train_df_imputed['category_lvl3']\n",
    "X_train, X_test , Y_train , Y_test = train_test_split(X, Y3, test_size = 0.3, random_state=3 , stratify = Y2)"
   ]
  },
  {
   "cell_type": "code",
   "execution_count": 9,
   "metadata": {},
   "outputs": [],
   "source": [
    "from sklearn.feature_extraction.text import TfidfVectorizer\n",
    "\n",
    "feature_extraction = TfidfVectorizer(min_df = 1, stop_words = 'english' , lowercase = 'True')\n",
    "\n",
    "X_train_features = feature_extraction.fit_transform(X_train.values.astype('U'))\n",
    "X_test_features = feature_extraction.transform(X_test.values.astype('U'))"
   ]
  },
  {
   "cell_type": "code",
   "execution_count": 10,
   "metadata": {},
   "outputs": [
    {
     "name": "stdout",
     "output_type": "stream",
     "text": [
      "159\n"
     ]
    }
   ],
   "source": [
    "import math\n",
    "X_train.shape\n",
    "number_of_trees = X_train.shape\n",
    "estimated_trees = math.sqrt(number_of_trees[0])\n",
    "estimated_trees = int(math.floor(estimated_trees))\n",
    "print(estimated_trees)"
   ]
  },
  {
   "cell_type": "code",
   "execution_count": 11,
   "metadata": {},
   "outputs": [
    {
     "data": {
      "text/html": [
       "<style>#sk-container-id-1 {color: black;background-color: white;}#sk-container-id-1 pre{padding: 0;}#sk-container-id-1 div.sk-toggleable {background-color: white;}#sk-container-id-1 label.sk-toggleable__label {cursor: pointer;display: block;width: 100%;margin-bottom: 0;padding: 0.3em;box-sizing: border-box;text-align: center;}#sk-container-id-1 label.sk-toggleable__label-arrow:before {content: \"▸\";float: left;margin-right: 0.25em;color: #696969;}#sk-container-id-1 label.sk-toggleable__label-arrow:hover:before {color: black;}#sk-container-id-1 div.sk-estimator:hover label.sk-toggleable__label-arrow:before {color: black;}#sk-container-id-1 div.sk-toggleable__content {max-height: 0;max-width: 0;overflow: hidden;text-align: left;background-color: #f0f8ff;}#sk-container-id-1 div.sk-toggleable__content pre {margin: 0.2em;color: black;border-radius: 0.25em;background-color: #f0f8ff;}#sk-container-id-1 input.sk-toggleable__control:checked~div.sk-toggleable__content {max-height: 200px;max-width: 100%;overflow: auto;}#sk-container-id-1 input.sk-toggleable__control:checked~label.sk-toggleable__label-arrow:before {content: \"▾\";}#sk-container-id-1 div.sk-estimator input.sk-toggleable__control:checked~label.sk-toggleable__label {background-color: #d4ebff;}#sk-container-id-1 div.sk-label input.sk-toggleable__control:checked~label.sk-toggleable__label {background-color: #d4ebff;}#sk-container-id-1 input.sk-hidden--visually {border: 0;clip: rect(1px 1px 1px 1px);clip: rect(1px, 1px, 1px, 1px);height: 1px;margin: -1px;overflow: hidden;padding: 0;position: absolute;width: 1px;}#sk-container-id-1 div.sk-estimator {font-family: monospace;background-color: #f0f8ff;border: 1px dotted black;border-radius: 0.25em;box-sizing: border-box;margin-bottom: 0.5em;}#sk-container-id-1 div.sk-estimator:hover {background-color: #d4ebff;}#sk-container-id-1 div.sk-parallel-item::after {content: \"\";width: 100%;border-bottom: 1px solid gray;flex-grow: 1;}#sk-container-id-1 div.sk-label:hover label.sk-toggleable__label {background-color: #d4ebff;}#sk-container-id-1 div.sk-serial::before {content: \"\";position: absolute;border-left: 1px solid gray;box-sizing: border-box;top: 0;bottom: 0;left: 50%;z-index: 0;}#sk-container-id-1 div.sk-serial {display: flex;flex-direction: column;align-items: center;background-color: white;padding-right: 0.2em;padding-left: 0.2em;position: relative;}#sk-container-id-1 div.sk-item {position: relative;z-index: 1;}#sk-container-id-1 div.sk-parallel {display: flex;align-items: stretch;justify-content: center;background-color: white;position: relative;}#sk-container-id-1 div.sk-item::before, #sk-container-id-1 div.sk-parallel-item::before {content: \"\";position: absolute;border-left: 1px solid gray;box-sizing: border-box;top: 0;bottom: 0;left: 50%;z-index: -1;}#sk-container-id-1 div.sk-parallel-item {display: flex;flex-direction: column;z-index: 1;position: relative;background-color: white;}#sk-container-id-1 div.sk-parallel-item:first-child::after {align-self: flex-end;width: 50%;}#sk-container-id-1 div.sk-parallel-item:last-child::after {align-self: flex-start;width: 50%;}#sk-container-id-1 div.sk-parallel-item:only-child::after {width: 0;}#sk-container-id-1 div.sk-dashed-wrapped {border: 1px dashed gray;margin: 0 0.4em 0.5em 0.4em;box-sizing: border-box;padding-bottom: 0.4em;background-color: white;}#sk-container-id-1 div.sk-label label {font-family: monospace;font-weight: bold;display: inline-block;line-height: 1.2em;}#sk-container-id-1 div.sk-label-container {text-align: center;}#sk-container-id-1 div.sk-container {/* jupyter's `normalize.less` sets `[hidden] { display: none; }` but bootstrap.min.css set `[hidden] { display: none !important; }` so we also need the `!important` here to be able to override the default hidden behavior on the sphinx rendered scikit-learn.org. See: https://github.com/scikit-learn/scikit-learn/issues/21755 */display: inline-block !important;position: relative;}#sk-container-id-1 div.sk-text-repr-fallback {display: none;}</style><div id=\"sk-container-id-1\" class=\"sk-top-container\"><div class=\"sk-text-repr-fallback\"><pre>RandomForestClassifier(n_estimators=159)</pre><b>In a Jupyter environment, please rerun this cell to show the HTML representation or trust the notebook. <br />On GitHub, the HTML representation is unable to render, please try loading this page with nbviewer.org.</b></div><div class=\"sk-container\" hidden><div class=\"sk-item\"><div class=\"sk-estimator sk-toggleable\"><input class=\"sk-toggleable__control sk-hidden--visually\" id=\"sk-estimator-id-1\" type=\"checkbox\" checked><label for=\"sk-estimator-id-1\" class=\"sk-toggleable__label sk-toggleable__label-arrow\">RandomForestClassifier</label><div class=\"sk-toggleable__content\"><pre>RandomForestClassifier(n_estimators=159)</pre></div></div></div></div></div>"
      ],
      "text/plain": [
       "RandomForestClassifier(n_estimators=159)"
      ]
     },
     "execution_count": 11,
     "metadata": {},
     "output_type": "execute_result"
    }
   ],
   "source": [
    "from sklearn.ensemble import RandomForestClassifier\n",
    "model_cat_3 = RandomForestClassifier(n_estimators = estimated_trees) \n",
    "model_cat_3.fit(X_train_features, Y_train)"
   ]
  },
  {
   "cell_type": "code",
   "execution_count": 12,
   "metadata": {},
   "outputs": [
    {
     "name": "stdout",
     "output_type": "stream",
     "text": [
      "0.9990156705252382\n"
     ]
    }
   ],
   "source": [
    "#Predicting On Training Data\n",
    "\n",
    "from sklearn.metrics import accuracy_score    \n",
    "\n",
    "prediction_on_training_data = model_cat_3.predict(X_train_features)\n",
    "accuracy_on_training_data = accuracy_score(Y_train , prediction_on_training_data)\n",
    "print(accuracy_on_training_data)"
   ]
  },
  {
   "cell_type": "code",
   "execution_count": 14,
   "metadata": {},
   "outputs": [
    {
     "name": "stdout",
     "output_type": "stream",
     "text": [
      "0.733210840606339\n"
     ]
    }
   ],
   "source": [
    "#Predicting On Testing Data\n",
    "\n",
    "prediction_on_testing_data = model_cat_3.predict(X_test_features)\n",
    "accuracy_on_testing_data = accuracy_score(Y_test , prediction_on_testing_data)\n",
    "print(accuracy_on_testing_data)"
   ]
  },
  {
   "cell_type": "code",
   "execution_count": 15,
   "metadata": {},
   "outputs": [
    {
     "name": "stdout",
     "output_type": "stream",
     "text": [
      "Accuracy score with Random Forest Classifier is : \n",
      "73.32108406063391\n",
      "[[  5   0   0 ...   0   0   0]\n",
      " [  0 106   0 ...   0   0   1]\n",
      " [  0   0  13 ...   0   0   0]\n",
      " ...\n",
      " [  0   0   0 ...  16   1   0]\n",
      " [  0   0   0 ...   0   7   0]\n",
      " [  0   0   0 ...   0   0  19]]\n"
     ]
    }
   ],
   "source": [
    "from sklearn import metrics\n",
    "from sklearn.metrics import confusion_matrix\n",
    "\n",
    "print('Accuracy score with Random Forest Classifier is : ')\n",
    "print(metrics.accuracy_score(Y_test, prediction_on_testing_data)*100)\n",
    "mat = confusion_matrix(Y_test, prediction_on_testing_data)\n",
    "print(mat)"
   ]
  },
  {
   "cell_type": "markdown",
   "metadata": {},
   "source": [
    "# TESTING DATA CLEANING"
   ]
  },
  {
   "cell_type": "code",
   "execution_count": 24,
   "metadata": {},
   "outputs": [],
   "source": [
    "title = ['category_lvl1' , 'category_lvl2' , 'category_lvl3' , 'Title_desc']\n",
    "test_df_imputed = pd.read_csv(\"clean_testing_data.csv\" , names=title)\n",
    "# test_df_imputed.head() \n",
    "temp_test_df = test_df_imputed[0:11388]"
   ]
  },
  {
   "cell_type": "markdown",
   "metadata": {},
   "source": [
    "# CATEGORY LEVEL 1"
   ]
  },
  {
   "cell_type": "code",
   "execution_count": 58,
   "metadata": {},
   "outputs": [
    {
     "name": "stdout",
     "output_type": "stream",
     "text": [
      "9\n",
      "57\n",
      "184\n",
      "0    Mobiles & Tablets\n",
      "Name: category_lvl1, dtype: object\n",
      "0    Accessories\n",
      "Name: category_lvl2, dtype: object\n",
      "0    Phone Cases\n",
      "Name: category_lvl3, dtype: object\n"
     ]
    }
   ],
   "source": [
    "labels=[\"country\", \"sku_id\", \"title\", \"category_lvl1\",\"category_lvl2\",\"category_lvl3\", \"description\", \"price\", \"type\"]\n",
    "df = pd.read_csv('data_valid.csv' , header=None, names=labels)\n",
    "print(df['category_lvl1'].nunique()) # 9 distinct classes in category 1\n",
    "print(df['category_lvl2'].nunique()) # 57 distinct classes in category 1\n",
    "print(df['category_lvl3'].nunique())\n",
    "\n",
    "print(df['category_lvl1'].mode())\n",
    "print(df['category_lvl2'].mode())\n",
    "print(df['category_lvl3'].mode())"
   ]
  },
  {
   "cell_type": "code",
   "execution_count": 25,
   "metadata": {},
   "outputs": [],
   "source": [
    "X = temp_test_df['Title_desc']\n",
    "Y1 = temp_test_df['category_lvl1']\n",
    "Y2 = temp_test_df['category_lvl2']\n",
    "Y3 = temp_test_df['category_lvl3']"
   ]
  },
  {
   "cell_type": "code",
   "execution_count": 26,
   "metadata": {},
   "outputs": [],
   "source": [
    "from sklearn.feature_extraction.text import TfidfVectorizer\n",
    "\n",
    "feature_extraction = TfidfVectorizer(min_df = 1, stop_words = 'english' , lowercase = 'True')\n",
    "\n",
    "X_features = feature_extraction.fit_transform(X_train.values.astype('U'))\n",
    "X_test_features = feature_extraction.transform(X_test.values.astype('U'))"
   ]
  },
  {
   "cell_type": "code",
   "execution_count": 27,
   "metadata": {},
   "outputs": [
    {
     "ename": "ValueError",
     "evalue": "Found input variables with inconsistent numbers of samples: [11388, 10885]",
     "output_type": "error",
     "traceback": [
      "\u001b[0;31m---------------------------------------------------------------------------\u001b[0m",
      "\u001b[0;31mValueError\u001b[0m                                Traceback (most recent call last)",
      "Input \u001b[0;32mIn [27]\u001b[0m, in \u001b[0;36m<cell line: 4>\u001b[0;34m()\u001b[0m\n\u001b[1;32m      1\u001b[0m \u001b[38;5;66;03m#Predicting On Testing Data\u001b[39;00m\n\u001b[1;32m      3\u001b[0m prediction_on_testing_data \u001b[38;5;241m=\u001b[39m model_cat_1\u001b[38;5;241m.\u001b[39mpredict(X_test_features)\n\u001b[0;32m----> 4\u001b[0m accuracy_on_testing_data \u001b[38;5;241m=\u001b[39m \u001b[43maccuracy_score\u001b[49m\u001b[43m(\u001b[49m\u001b[43mY1\u001b[49m\u001b[43m,\u001b[49m\u001b[43m \u001b[49m\u001b[43mprediction_on_testing_data\u001b[49m\u001b[43m)\u001b[49m\n\u001b[1;32m      5\u001b[0m \u001b[38;5;28mprint\u001b[39m(accuracy_on_testing_data)\n",
      "File \u001b[0;32m~/.local/lib/python3.8/site-packages/sklearn/metrics/_classification.py:211\u001b[0m, in \u001b[0;36maccuracy_score\u001b[0;34m(y_true, y_pred, normalize, sample_weight)\u001b[0m\n\u001b[1;32m    145\u001b[0m \u001b[38;5;124;03m\"\"\"Accuracy classification score.\u001b[39;00m\n\u001b[1;32m    146\u001b[0m \n\u001b[1;32m    147\u001b[0m \u001b[38;5;124;03mIn multilabel classification, this function computes subset accuracy:\u001b[39;00m\n\u001b[0;32m   (...)\u001b[0m\n\u001b[1;32m    207\u001b[0m \u001b[38;5;124;03m0.5\u001b[39;00m\n\u001b[1;32m    208\u001b[0m \u001b[38;5;124;03m\"\"\"\u001b[39;00m\n\u001b[1;32m    210\u001b[0m \u001b[38;5;66;03m# Compute accuracy for each possible representation\u001b[39;00m\n\u001b[0;32m--> 211\u001b[0m y_type, y_true, y_pred \u001b[38;5;241m=\u001b[39m \u001b[43m_check_targets\u001b[49m\u001b[43m(\u001b[49m\u001b[43my_true\u001b[49m\u001b[43m,\u001b[49m\u001b[43m \u001b[49m\u001b[43my_pred\u001b[49m\u001b[43m)\u001b[49m\n\u001b[1;32m    212\u001b[0m check_consistent_length(y_true, y_pred, sample_weight)\n\u001b[1;32m    213\u001b[0m \u001b[38;5;28;01mif\u001b[39;00m y_type\u001b[38;5;241m.\u001b[39mstartswith(\u001b[38;5;124m\"\u001b[39m\u001b[38;5;124mmultilabel\u001b[39m\u001b[38;5;124m\"\u001b[39m):\n",
      "File \u001b[0;32m~/.local/lib/python3.8/site-packages/sklearn/metrics/_classification.py:84\u001b[0m, in \u001b[0;36m_check_targets\u001b[0;34m(y_true, y_pred)\u001b[0m\n\u001b[1;32m     57\u001b[0m \u001b[38;5;28;01mdef\u001b[39;00m \u001b[38;5;21m_check_targets\u001b[39m(y_true, y_pred):\n\u001b[1;32m     58\u001b[0m     \u001b[38;5;124;03m\"\"\"Check that y_true and y_pred belong to the same classification task.\u001b[39;00m\n\u001b[1;32m     59\u001b[0m \n\u001b[1;32m     60\u001b[0m \u001b[38;5;124;03m    This converts multiclass or binary types to a common shape, and raises a\u001b[39;00m\n\u001b[0;32m   (...)\u001b[0m\n\u001b[1;32m     82\u001b[0m \u001b[38;5;124;03m    y_pred : array or indicator matrix\u001b[39;00m\n\u001b[1;32m     83\u001b[0m \u001b[38;5;124;03m    \"\"\"\u001b[39;00m\n\u001b[0;32m---> 84\u001b[0m     \u001b[43mcheck_consistent_length\u001b[49m\u001b[43m(\u001b[49m\u001b[43my_true\u001b[49m\u001b[43m,\u001b[49m\u001b[43m \u001b[49m\u001b[43my_pred\u001b[49m\u001b[43m)\u001b[49m\n\u001b[1;32m     85\u001b[0m     type_true \u001b[38;5;241m=\u001b[39m type_of_target(y_true, input_name\u001b[38;5;241m=\u001b[39m\u001b[38;5;124m\"\u001b[39m\u001b[38;5;124my_true\u001b[39m\u001b[38;5;124m\"\u001b[39m)\n\u001b[1;32m     86\u001b[0m     type_pred \u001b[38;5;241m=\u001b[39m type_of_target(y_pred, input_name\u001b[38;5;241m=\u001b[39m\u001b[38;5;124m\"\u001b[39m\u001b[38;5;124my_pred\u001b[39m\u001b[38;5;124m\"\u001b[39m)\n",
      "File \u001b[0;32m~/.local/lib/python3.8/site-packages/sklearn/utils/validation.py:383\u001b[0m, in \u001b[0;36mcheck_consistent_length\u001b[0;34m(*arrays)\u001b[0m\n\u001b[1;32m    381\u001b[0m uniques \u001b[38;5;241m=\u001b[39m np\u001b[38;5;241m.\u001b[39munique(lengths)\n\u001b[1;32m    382\u001b[0m \u001b[38;5;28;01mif\u001b[39;00m \u001b[38;5;28mlen\u001b[39m(uniques) \u001b[38;5;241m>\u001b[39m \u001b[38;5;241m1\u001b[39m:\n\u001b[0;32m--> 383\u001b[0m     \u001b[38;5;28;01mraise\u001b[39;00m \u001b[38;5;167;01mValueError\u001b[39;00m(\n\u001b[1;32m    384\u001b[0m         \u001b[38;5;124m\"\u001b[39m\u001b[38;5;124mFound input variables with inconsistent numbers of samples: \u001b[39m\u001b[38;5;132;01m%r\u001b[39;00m\u001b[38;5;124m\"\u001b[39m\n\u001b[1;32m    385\u001b[0m         \u001b[38;5;241m%\u001b[39m [\u001b[38;5;28mint\u001b[39m(l) \u001b[38;5;28;01mfor\u001b[39;00m l \u001b[38;5;129;01min\u001b[39;00m lengths]\n\u001b[1;32m    386\u001b[0m     )\n",
      "\u001b[0;31mValueError\u001b[0m: Found input variables with inconsistent numbers of samples: [11388, 10885]"
     ]
    }
   ],
   "source": [
    "#Predicting On Testing Data\n",
    "\n",
    "prediction_on_testing_data = model_cat_1.predict(X_test_features)\n",
    "accuracy_on_testing_data = accuracy_score(Y1, prediction_on_testing_data)\n",
    "print(accuracy_on_testing_data)"
   ]
  },
  {
   "cell_type": "code",
   "execution_count": null,
   "metadata": {},
   "outputs": [],
   "source": []
  }
 ],
 "metadata": {
  "colab": {
   "collapsed_sections": [],
   "name": "Random Forest Classifier.ipynb",
   "provenance": []
  },
  "kernelspec": {
   "display_name": "Python 3 (ipykernel)",
   "language": "python",
   "name": "python3"
  },
  "language_info": {
   "codemirror_mode": {
    "name": "ipython",
    "version": 3
   },
   "file_extension": ".py",
   "mimetype": "text/x-python",
   "name": "python",
   "nbconvert_exporter": "python",
   "pygments_lexer": "ipython3",
   "version": "3.8.10"
  }
 },
 "nbformat": 4,
 "nbformat_minor": 1
}
