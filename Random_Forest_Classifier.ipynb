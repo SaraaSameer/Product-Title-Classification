{
  "nbformat": 4,
  "nbformat_minor": 0,
  "metadata": {
    "colab": {
      "name": "Random Forest Classifier.ipynb",
      "provenance": [],
      "collapsed_sections": []
    },
    "kernelspec": {
      "name": "python3",
      "display_name": "Python 3"
    },
    "language_info": {
      "name": "python"
    }
  },
  "cells": [
    {
      "cell_type": "code",
      "execution_count": 3,
      "metadata": {
        "id": "It_iLAhRyhO2"
      },
      "outputs": [],
      "source": [
        "import sys#THIS IS FOR GOOGLE COLAB USERS ONLY\n",
        "from google.colab import files\n",
        "sys.path.insert(0,'/content/drive/MyDrive/Product-Title-Classification')"
      ]
    },
    {
      "cell_type": "code",
      "source": [
        "import sys                                                                  #THIS IS FOR GOOGLE COLAB USERS ONLY\n",
        "from google.colab import files\n",
        "sys.path.insert(0,'/content/drive/MyDrive/Product-Title-Classification')\n",
        "!cp /content/drive/MyDrive/Product-Title-Classification/Utilities.py /content           #THIS IS FOR GOOGLE COLAB USERS ONLY\n",
        "!cp /content/drive/MyDrive/Product-Title-Classification/KNNImpute.py /content"
      ],
      "metadata": {
        "id": "OEOZZIowzWvq"
      },
      "execution_count": 5,
      "outputs": []
    },
    {
      "cell_type": "code",
      "source": [
        "from google.colab import drive\n",
        "drive.mount('/content/drive')"
      ],
      "metadata": {
        "colab": {
          "base_uri": "https://localhost:8080/"
        },
        "id": "XoRQHEOczoPR",
        "outputId": "8a501c6e-1613-42bf-d759-2e068bacb42e"
      },
      "execution_count": 6,
      "outputs": [
        {
          "output_type": "stream",
          "name": "stdout",
          "text": [
            "Drive already mounted at /content/drive; to attempt to forcibly remount, call drive.mount(\"/content/drive\", force_remount=True).\n"
          ]
        }
      ]
    },
    {
      "cell_type": "markdown",
      "source": [
        "Importing Local Files"
      ],
      "metadata": {
        "id": "4ASeZPbf1a7q"
      }
    },
    {
      "cell_type": "code",
      "source": [
        "import KNNImpute\n",
        "import Utilities"
      ],
      "metadata": {
        "id": "lslb0WZqzkiq"
      },
      "execution_count": 7,
      "outputs": []
    },
    {
      "cell_type": "markdown",
      "source": [
        "Importing Directories"
      ],
      "metadata": {
        "id": "Kn7L4vI71emG"
      }
    },
    {
      "cell_type": "code",
      "source": [
        "import pandas as pd\n",
        "import numpy as np\n",
        "import nltk\n",
        "nltk.download('stopwords')\n",
        "from sklearn.naive_bayes import GaussianNB\n",
        "from sklearn.linear_model import LogisticRegression\n",
        "from sklearn.model_selection import train_test_split"
      ],
      "metadata": {
        "colab": {
          "base_uri": "https://localhost:8080/"
        },
        "id": "aI0jVSGd1WMK",
        "outputId": "ee4a8581-a41a-43c3-9991-2a2939d2ce57"
      },
      "execution_count": 45,
      "outputs": [
        {
          "output_type": "stream",
          "name": "stdout",
          "text": [
            "[nltk_data] Downloading package stopwords to /root/nltk_data...\n",
            "[nltk_data]   Package stopwords is already up-to-date!\n"
          ]
        }
      ]
    },
    {
      "cell_type": "markdown",
      "source": [
        "Splitting Data Into Training Data and Testing Data"
      ],
      "metadata": {
        "id": "ZrxcLfH73Lv_"
      }
    },
    {
      "cell_type": "code",
      "source": [
        "labels=[\"country\", \"sku_id\", \"title\", \"category_lvl1\",\"category_lvl2\",\"category_lvl3\", \"description\", \"price\", \"type\"]\n",
        "\n",
        "def getTrainingDataset():\n",
        "    return pd.read_csv('data_train.csv', header=None, names=labels)  \n",
        "\n",
        "\n",
        "raw_data = getTrainingDataset()\n",
        "train_df,Y1,Y2,Y3=Utilities.Cleaning_Data_Utility(raw_data) #Utilities. hatadena yahan se \n",
        "print(train_df.head())"
      ],
      "metadata": {
        "id": "j_5etXox1t00"
      },
      "execution_count": null,
      "outputs": []
    },
    {
      "cell_type": "markdown",
      "source": [
        "Imputing Null Values"
      ],
      "metadata": {
        "id": "v9Z4wo4E5KQR"
      }
    },
    {
      "cell_type": "code",
      "source": [
        "def NullStatistics(df):\n",
        "    missing_val = df.isnull().sum()\n",
        "    print(missing_val)\n",
        "    total_cells = np.product(df.shape)\n",
        "    missing_percent = (missing_val.sum()/total_cells) *100\n",
        "    print(f'\\nThe missing data percent is: {missing_percent}')\n",
        "\n",
        "NullStatistics(train_df)\n",
        "\n",
        "unique_label_c1, unique_label_c2, unique_label_c3 = KNNImpute.preserve_label(train_df) #It has all unique values lying in ctg1 , 2 , 3 column\n",
        "KNNImpute.encode(['category_lvl1', 'category_lvl2', 'category_lvl3'],train_df)        #Performed encoding for CTGLVL3 KNN\n",
        "train_df_imputed = KNNImpute.impute(train_df)\n",
        "train_df_imputed =  KNNImpute.clean_csv(train_df_imputed,train_df)\n",
        "NullStatistics(train_df_imputed)"
      ],
      "metadata": {
        "id": "RGqIH1Md2Yiq"
      },
      "execution_count": null,
      "outputs": []
    },
    {
      "cell_type": "markdown",
      "source": [
        "Splitting Data Into Training And Testing"
      ],
      "metadata": {
        "id": "K3e0zrh05LAR"
      }
    },
    {
      "cell_type": "code",
      "source": [
        "X = train_df_imputed['Title_desc']\n",
        "Y1 = train_df_imputed['category_lvl1']\n",
        "Y2 = train_df_imputed['category_lvl2']\n",
        "Y3 = train_df_imputed['category_lvl3']\n",
        "X_train, X_test , Y_train , Y_test = train_test_split(X, Y1, test_size = 0.2, random_state=3 , stratify = Y1)"
      ],
      "metadata": {
        "id": "8HHY7OjR5OS-"
      },
      "execution_count": 93,
      "outputs": []
    },
    {
      "cell_type": "code",
      "source": [
        "X_train"
      ],
      "metadata": {
        "colab": {
          "base_uri": "https://localhost:8080/"
        },
        "id": "jpBcL0kL5bPm",
        "outputId": "85fe4709-7403-47cb-d970-947fe2b2a8c6"
      },
      "execution_count": 94,
      "outputs": [
        {
          "output_type": "execute_result",
          "data": {
            "text/plain": [
              "4353     exceed multi chain bead tassel pendant chain n...\n",
              "11016    wireless bluetooth headset stereo earphon spor...\n",
              "29446    eyebrow style ul li great beauti tool make eye...\n",
              "28291    okdeal nail art rhineston glitter tip manicur ...\n",
              "3603     joyroom fast charg metal data snyc pin usb cab...\n",
              "                               ...                        \n",
              "11210    new women dress print pattern floral parti dre...\n",
              "31349    assassin creed men shirt male assassin short s...\n",
              "16163    zanzea women plu long sleev knit casual loos b...\n",
              "30263    heavi duti rug hybrid dual layer kickstand sho...\n",
              "36042    ufengk uf wlj height chart decal multicolor ul...\n",
              "Name: Title_desc, Length: 29026, dtype: object"
            ]
          },
          "metadata": {},
          "execution_count": 94
        }
      ]
    },
    {
      "cell_type": "markdown",
      "source": [
        "Feature Extraction"
      ],
      "metadata": {
        "id": "8wh_fVbY5ky-"
      }
    },
    {
      "cell_type": "code",
      "source": [
        "from sklearn.feature_extraction.text import TfidfVectorizer\n",
        "\n",
        "feature_extraction = TfidfVectorizer(min_df = 1, stop_words = 'english' , lowercase = 'True')\n",
        "\n",
        "X_train_features = feature_extraction.fit_transform(X_train)\n",
        "X_test_features = feature_extraction.transform(X_test)"
      ],
      "metadata": {
        "id": "0zhtq-np4Ubf"
      },
      "execution_count": 95,
      "outputs": []
    },
    {
      "cell_type": "code",
      "source": [
        "print(X_train_features)"
      ],
      "metadata": {
        "colab": {
          "base_uri": "https://localhost:8080/"
        },
        "id": "cr7lLRmm5zT8",
        "outputId": "f65afdab-6ed6-47b9-e0ac-afa453286949"
      },
      "execution_count": 96,
      "outputs": [
        {
          "output_type": "stream",
          "name": "stdout",
          "text": [
            "  (0, 27412)\t0.05147738236103871\n",
            "  (0, 21725)\t0.1072819594650056\n",
            "  (0, 11535)\t0.08003847281153648\n",
            "  (0, 14080)\t0.27190821365232254\n",
            "  (0, 25732)\t0.034016658777698355\n",
            "  (0, 22260)\t0.13272624252479762\n",
            "  (0, 16715)\t0.7529840422150432\n",
            "  (0, 18344)\t0.26006979133219504\n",
            "  (0, 24384)\t0.2261839511670145\n",
            "  (0, 2234)\t0.19645108647174098\n",
            "  (0, 4188)\t0.341255582202283\n",
            "  (0, 16384)\t0.15400414309073085\n",
            "  (0, 8333)\t0.14893258931139913\n",
            "  (1, 17900)\t0.1187796477332564\n",
            "  (1, 27021)\t0.09095945706100005\n",
            "  (1, 4773)\t0.07144155218168634\n",
            "  (1, 3475)\t0.09541786037198048\n",
            "  (1, 13995)\t0.08633086231216248\n",
            "  (1, 24316)\t0.14876099646713956\n",
            "  (1, 11561)\t0.21184545778201172\n",
            "  (1, 24905)\t0.18212663945171972\n",
            "  (1, 16466)\t0.11824598591148702\n",
            "  (1, 6044)\t0.12187233769088548\n",
            "  (1, 17809)\t0.10713866420304043\n",
            "  (1, 76)\t0.11349203855719031\n",
            "  :\t:\n",
            "  (29025, 4290)\t0.19907250932268616\n",
            "  (29025, 120)\t0.18773123660120625\n",
            "  (29025, 20326)\t0.18576261391464532\n",
            "  (29025, 4995)\t0.14265540393097534\n",
            "  (29025, 21985)\t0.32373904813504456\n",
            "  (29025, 4644)\t0.11931513726294256\n",
            "  (29025, 20608)\t0.17968447554702002\n",
            "  (29025, 5924)\t0.14248149029185614\n",
            "  (29025, 13924)\t0.15195081316084091\n",
            "  (29025, 20693)\t0.20331151458159138\n",
            "  (29025, 6097)\t0.17093637927085897\n",
            "  (29025, 8947)\t0.13771118693145823\n",
            "  (29025, 24022)\t0.13137234355138208\n",
            "  (29025, 282)\t0.11703745015874378\n",
            "  (29025, 20528)\t0.11283228015531623\n",
            "  (29025, 16394)\t0.12770053465885853\n",
            "  (29025, 6987)\t0.13600972205739906\n",
            "  (29025, 11139)\t0.11534445546650965\n",
            "  (29025, 9062)\t0.13962706853888607\n",
            "  (29025, 1237)\t0.30277793206321\n",
            "  (29025, 7323)\t0.08151520069145667\n",
            "  (29025, 22377)\t0.15414237834932756\n",
            "  (29025, 4773)\t0.1721681923516564\n",
            "  (29025, 14080)\t0.2318127376441788\n",
            "  (29025, 25732)\t0.05800115186552612\n"
          ]
        }
      ]
    },
    {
      "cell_type": "markdown",
      "source": [
        "Applying Random Forest Classifier"
      ],
      "metadata": {
        "id": "pD9RgSPUF97v"
      }
    },
    {
      "cell_type": "code",
      "source": [
        "import math\n",
        "X_train.shape\n",
        "number_of_trees = X_train.shape\n",
        "estimated_trees = math.sqrt(number_of_trees[0])\n",
        "estimated_trees = int(math.floor(estimated_trees))\n",
        "print(estimated_trees)"
      ],
      "metadata": {
        "colab": {
          "base_uri": "https://localhost:8080/"
        },
        "id": "lU0g-aGaVhGv",
        "outputId": "4bba24c8-04f5-46c6-c604-6d29596c07dd"
      },
      "execution_count": 97,
      "outputs": [
        {
          "output_type": "stream",
          "name": "stdout",
          "text": [
            "170\n"
          ]
        }
      ]
    },
    {
      "cell_type": "code",
      "source": [
        "from sklearn.ensemble import RandomForestClassifier\n",
        "model = RandomForestClassifier(n_estimators = estimated_trees) \n",
        "model.fit(X_train_features, Y_train)"
      ],
      "metadata": {
        "colab": {
          "base_uri": "https://localhost:8080/"
        },
        "id": "pS1qnlQmFMno",
        "outputId": "fffb9327-ead1-48d4-84a0-45d7de85be8c"
      },
      "execution_count": 98,
      "outputs": [
        {
          "output_type": "execute_result",
          "data": {
            "text/plain": [
              "RandomForestClassifier(n_estimators=170)"
            ]
          },
          "metadata": {},
          "execution_count": 98
        }
      ]
    },
    {
      "cell_type": "code",
      "source": [
        "#Predicting On Training Data\n",
        "\n",
        "prediction_on_training_data = model.predict(X_train_features)\n",
        "accuracy_on_training_data = accuracy_score(Y_train , prediction_on_training_data)\n",
        "print(accuracy_on_training_data)"
      ],
      "metadata": {
        "colab": {
          "base_uri": "https://localhost:8080/"
        },
        "id": "tudh5rTIF6pB",
        "outputId": "ca867eb5-8999-4f4e-f7c8-ab18daf54b8e"
      },
      "execution_count": 99,
      "outputs": [
        {
          "output_type": "stream",
          "name": "stdout",
          "text": [
            "0.9991387032315855\n"
          ]
        }
      ]
    },
    {
      "cell_type": "code",
      "source": [
        "#Predicting On Testing Data\n",
        "\n",
        "prediction_on_testing_data = model.predict(X_test_features)\n",
        "accuracy_on_testing_data = accuracy_score(Y_test , prediction_on_testing_data)\n",
        "print(accuracy_on_testing_data)"
      ],
      "metadata": {
        "colab": {
          "base_uri": "https://localhost:8080/"
        },
        "id": "42bOV8BHGO7P",
        "outputId": "3df638fb-88be-421f-da1b-d95d25cde231"
      },
      "execution_count": 100,
      "outputs": [
        {
          "output_type": "stream",
          "name": "stdout",
          "text": [
            "0.905057186165082\n"
          ]
        }
      ]
    },
    {
      "cell_type": "code",
      "source": [
        "from sklearn import metrics\n",
        "from sklearn.metrics import confusion_matrix\n",
        "\n",
        "print('Accuracy score with Random Forest Classifier is : ')\n",
        "print(metrics.accuracy_score(Y_test, prediction_on_testing_data)*100)\n",
        "mat = confusion_matrix(Y_test, prediction_on_testing_data)\n",
        "print(mat)"
      ],
      "metadata": {
        "colab": {
          "base_uri": "https://localhost:8080/"
        },
        "id": "GA1mISvWG47w",
        "outputId": "6ea4a306-29f3-4f9b-8bf5-f994e66df293"
      },
      "execution_count": 101,
      "outputs": [
        {
          "output_type": "stream",
          "name": "stdout",
          "text": [
            "Accuracy score with Random Forest Classifier is : \n",
            "90.5057186165082\n",
            "[[ 340    8    2    1   21    1   14    2    1]\n",
            " [   2  498    1    1   18    2   35   27    1]\n",
            " [   0    1 1094    2   39    0    5    1    4]\n",
            " [   0    0   24  699   70    5    3    2    5]\n",
            " [   4    5   36   28 1100    5   19    2   11]\n",
            " [   0    1    2    3   75  233    3    0    0]\n",
            " [   4    4    2    1   12    2 1413   17    1]\n",
            " [   1   16    1    3   43    1   39  386   12]\n",
            " [   2    0   14    1   15    0    3    3  805]]\n"
          ]
        }
      ]
    },
    {
      "cell_type": "code",
      "source": [
        "# Printing Classification Report\n",
        "\n",
        "from sklearn.metrics import classification_report\n",
        "print(classification_report(Y_test, prediction_on_testing_data))"
      ],
      "metadata": {
        "colab": {
          "base_uri": "https://localhost:8080/"
        },
        "id": "kluUuuZcTcjC",
        "outputId": "fdfb66dd-f3d4-42b5-b236-38c859539f2a"
      },
      "execution_count": 102,
      "outputs": [
        {
          "output_type": "stream",
          "name": "stdout",
          "text": [
            "              precision    recall  f1-score   support\n",
            "\n",
            "         0.0       0.96      0.87      0.92       390\n",
            "         1.0       0.93      0.85      0.89       585\n",
            "         2.0       0.93      0.95      0.94      1146\n",
            "         3.0       0.95      0.87      0.90       808\n",
            "         4.0       0.79      0.91      0.85      1210\n",
            "         5.0       0.94      0.74      0.82       317\n",
            "         6.0       0.92      0.97      0.95      1456\n",
            "         7.0       0.88      0.77      0.82       502\n",
            "         8.0       0.96      0.95      0.96       843\n",
            "\n",
            "    accuracy                           0.91      7257\n",
            "   macro avg       0.92      0.88      0.89      7257\n",
            "weighted avg       0.91      0.91      0.90      7257\n",
            "\n"
          ]
        }
      ]
    },
    {
      "cell_type": "code",
      "source": [
        ""
      ],
      "metadata": {
        "id": "4cSuVekrZKYu"
      },
      "execution_count": null,
      "outputs": []
    }
  ]
}