{
  "cells": [
    {
      "cell_type": "code",
      "execution_count": 5,
      "metadata": {
        "id": "It_iLAhRyhO2"
      },
      "outputs": [],
      "source": [
        "import sys                                                                              #THIS IS FOR GOOGLE COLAB USERS ONLY\n",
        "from google.colab import files\n",
        "sys.path.insert(0,'/content/drive/MyDrive/Product-Title-Classification')"
      ]
    },
    {
      "cell_type": "code",
      "execution_count": 6,
      "metadata": {
        "id": "OEOZZIowzWvq"
      },
      "outputs": [],
      "source": [
        "import sys                                                                              #THIS IS FOR GOOGLE COLAB USERS ONLY\n",
        "from google.colab import files\n",
        "sys.path.insert(0,'/content/drive/MyDrive/Product-Title-Classification')\n",
        "!cp /content/drive/MyDrive/Product-Title-Classification/Utilities.py /content           #THIS IS FOR GOOGLE COLAB USERS ONLY\n",
        "!cp /content/drive/MyDrive/Product-Title-Classification/KNNImpute.py /content"
      ]
    },
    {
      "cell_type": "code",
      "execution_count": 7,
      "metadata": {
        "colab": {
          "base_uri": "https://localhost:8080/"
        },
        "id": "XoRQHEOczoPR",
        "outputId": "18a00ba6-2dc6-4a36-876d-6d0abaae4139"
      },
      "outputs": [
        {
          "output_type": "stream",
          "name": "stdout",
          "text": [
            "Drive already mounted at /content/drive; to attempt to forcibly remount, call drive.mount(\"/content/drive\", force_remount=True).\n"
          ]
        }
      ],
      "source": [
        "from google.colab import drive\n",
        "drive.mount('/content/drive')"
      ]
    },
    {
      "cell_type": "markdown",
      "metadata": {
        "id": "4ASeZPbf1a7q"
      },
      "source": [
        "Importing Local Files"
      ]
    },
    {
      "cell_type": "code",
      "execution_count": 8,
      "metadata": {
        "id": "lslb0WZqzkiq"
      },
      "outputs": [],
      "source": [
        "import KNNImpute\n",
        "import Utilities"
      ]
    },
    {
      "cell_type": "markdown",
      "metadata": {
        "id": "Kn7L4vI71emG"
      },
      "source": [
        "Importing Local Files"
      ]
    },
    {
      "cell_type": "code",
      "execution_count": null,
      "metadata": {
        "id": "jxkxQIo7YrO_"
      },
      "outputs": [],
      "source": [
        "# from KNNImpute import *\n",
        "# from Utilities import *"
      ]
    },
    {
      "cell_type": "markdown",
      "metadata": {
        "id": "AVn1RudNYrO_"
      },
      "source": [
        "## Importing Packages"
      ]
    },
    {
      "cell_type": "code",
      "execution_count": null,
      "metadata": {
        "id": "aI0jVSGd1WMK"
      },
      "outputs": [],
      "source": [
        "import pandas as pd\n",
        "import numpy as np\n",
        "import nltk\n",
        "nltk.download('stopwords')\n",
        "from sklearn.naive_bayes import GaussianNB\n",
        "from sklearn.linear_model import LogisticRegression\n",
        "from sklearn.ensemble import RandomForestClassifier\n",
        "from sklearn.model_selection import train_test_split\n",
        "from sklearn.feature_extraction.text import TfidfVectorizer\n",
        "from sklearn.metrics import accuracy_score\n",
        "from sklearn import metrics\n",
        "from sklearn.metrics import confusion_matrix\n",
        "from sklearn.metrics import classification_report\n",
        "import math"
      ]
    },
    {
      "cell_type": "markdown",
      "metadata": {
        "id": "ZrxcLfH73Lv_"
      },
      "source": [
        "## Retrieving Training Data"
      ]
    },
    {
      "cell_type": "code",
      "execution_count": null,
      "metadata": {
        "id": "j_5etXox1t00"
      },
      "outputs": [],
      "source": [
        "labels=[\"country\", \"sku_id\", \"title\", \"category_lvl1\",\"category_lvl2\",\"category_lvl3\", \"description\", \"price\", \"type\"]\n",
        "\n",
        "def getTrainingDataset():\n",
        "    return pd.read_csv('/content/drive/MyDrive/Product-Title-Classification/data_train.csv', header=None, names=labels)  \n",
        "\n",
        "\n",
        "raw_data = getTrainingDataset()\n",
        "train_df,Y1,Y2,Y3= Utilities.Cleaning_Data_Utility(raw_data)                              \n",
        "print(train_df.head())"
      ]
    },
    {
      "cell_type": "markdown",
      "metadata": {
        "id": "v9Z4wo4E5KQR"
      },
      "source": [
        "# Imputing Null Values"
      ]
    },
    {
      "cell_type": "code",
      "execution_count": null,
      "metadata": {
        "id": "RGqIH1Md2Yiq"
      },
      "outputs": [],
      "source": [
        "def NullStatistics(df):\n",
        "    missing_val = df.isnull().sum()\n",
        "    print(missing_val)\n",
        "    total_cells = np.product(df.shape)\n",
        "    missing_percent = (missing_val.sum()/total_cells) *100\n",
        "    print(f'\\nThe missing data percent is: {missing_percent}')\n",
        "\n",
        "NullStatistics(train_df)\n",
        "\n",
        "unique_label_c1, unique_label_c2, unique_label_c3 = KNNImpute.preserve_label(train_df) #It has all unique values lying in ctg1 , 2 , 3 column\n",
        "KNNImpute.encode(['category_lvl1', 'category_lvl2', 'category_lvl3'],train_df)        #Performed encoding for CTGLVL3 KNN\n",
        "train_df_imputed = KNNImpute.impute(train_df)\n",
        "train_df_imputed =  KNNImpute.clean_csv(train_df_imputed,train_df)\n",
        "NullStatistics(train_df_imputed)"
      ]
    },
    {
      "cell_type": "markdown",
      "metadata": {
        "id": "K3e0zrh05LAR"
      },
      "source": [
        "#Splitting Data Into Training And Testing"
      ]
    },
    {
      "cell_type": "code",
      "source": [
        "X = train_df_imputed['Title_desc']\n",
        "Y1 = train_df_imputed['category_lvl1']\n",
        "Y2 = train_df_imputed['category_lvl2']\n",
        "Y3 = train_df_imputed['category_lvl3']"
      ],
      "metadata": {
        "id": "9tSjUdXLc7J6"
      },
      "execution_count": 12,
      "outputs": []
    },
    {
      "cell_type": "markdown",
      "metadata": {
        "id": "8wh_fVbY5ky-"
      },
      "source": [
        "#Feature Extraction"
      ]
    },
    {
      "cell_type": "code",
      "execution_count": 13,
      "metadata": {
        "id": "0zhtq-np4Ubf"
      },
      "outputs": [],
      "source": [
        "feature_extraction = TfidfVectorizer(min_df = 1, stop_words = 'english' , lowercase = 'True')\n",
        "\n",
        "X_train_features = feature_extraction.fit_transform(X)"
      ]
    },
    {
      "cell_type": "code",
      "execution_count": 14,
      "metadata": {
        "id": "8HHY7OjR5OS-"
      },
      "outputs": [],
      "source": [
        "#Splitting Data Into Training And Testing\n",
        "\n",
        "X_train, X_test , Y_train_cat_1 , Y_test_cat_1 = train_test_split(X_train_features, Y1, test_size = 0.3, random_state=3 , stratify = Y1)"
      ]
    },
    {
      "cell_type": "markdown",
      "metadata": {
        "id": "pD9RgSPUF97v"
      },
      "source": [
        "#Applying Random Forest Classifier"
      ]
    },
    {
      "cell_type": "code",
      "execution_count": 15,
      "metadata": {
        "colab": {
          "base_uri": "https://localhost:8080/"
        },
        "id": "lU0g-aGaVhGv",
        "outputId": "8046e75a-1d52-4de5-8005-120e1128e8a9"
      },
      "outputs": [
        {
          "output_type": "stream",
          "name": "stdout",
          "text": [
            "159\n"
          ]
        }
      ],
      "source": [
        "#Predicting Value of n_estimators\n",
        "\n",
        "X_train.shape\n",
        "number_of_trees = X_train.shape\n",
        "estimated_trees = math.sqrt(number_of_trees[0])\n",
        "estimated_trees = int(math.floor(estimated_trees))\n",
        "print(estimated_trees)"
      ]
    },
    {
      "cell_type": "code",
      "execution_count": 16,
      "metadata": {
        "colab": {
          "base_uri": "https://localhost:8080/"
        },
        "id": "pS1qnlQmFMno",
        "outputId": "1b873ad2-edc3-4d8a-82e5-4c46b102ef41"
      },
      "outputs": [
        {
          "output_type": "execute_result",
          "data": {
            "text/plain": [
              "RandomForestClassifier(n_estimators=159)"
            ]
          },
          "metadata": {},
          "execution_count": 16
        }
      ],
      "source": [
        "#Training Model For Category 1\n",
        "\n",
        "model_cat_1 = RandomForestClassifier(n_estimators = estimated_trees) \n",
        "model_cat_1.fit(X_train, Y_train_cat_1)"
      ]
    },
    {
      "cell_type": "code",
      "execution_count": 15,
      "metadata": {
        "colab": {
          "base_uri": "https://localhost:8080/"
        },
        "id": "42bOV8BHGO7P",
        "outputId": "e28506a2-2d44-435b-a1ed-ed6a5c77304d"
      },
      "outputs": [
        {
          "output_type": "stream",
          "name": "stdout",
          "text": [
            "0.9032613688562242\n"
          ]
        }
      ],
      "source": [
        "#Predicting On Testing Data\n",
        "\n",
        "Y_pred_cat_1 = model_cat_1.predict(X_test)\n",
        "accuracy_on_testing_data_cat_1 = accuracy_score(Y_test_cat_1 , Y_pred_cat_1)\n",
        "print(accuracy_on_testing_data_cat_1)"
      ]
    },
    {
      "cell_type": "code",
      "execution_count": 16,
      "metadata": {
        "colab": {
          "base_uri": "https://localhost:8080/"
        },
        "id": "GA1mISvWG47w",
        "outputId": "b6b7a619-14e7-402f-fb4e-8183b03e3737"
      },
      "outputs": [
        {
          "output_type": "stream",
          "name": "stdout",
          "text": [
            "Accuracy score with Random Forest Classifier is : \n",
            "90.32613688562242\n",
            "[[ 500   10    5    3   33    1   33    0    1]\n",
            " [   5  747    1    2   25    1   50   46    1]\n",
            " [   0    2 1636   10   53    0    5    1   12]\n",
            " [   0    0   31 1051  110    7    4    5    4]\n",
            " [   5    7   50   37 1664    8   22   10   11]\n",
            " [   0    0    3   11  119  335    7    0    0]\n",
            " [   7    7    5    3   20    1 2115   23    2]\n",
            " [   6   21    1    4   56    3   56  585   21]\n",
            " [   0    0   21    3   30    0    8    4 1199]]\n"
          ]
        }
      ],
      "source": [
        "#Display Confusion Matrix\n",
        "\n",
        "print('Accuracy score with Random Forest Classifier is : ')\n",
        "print(metrics.accuracy_score(Y_test_cat_1 , Y_pred_cat_1)*100)\n",
        "mat_cat_1 = confusion_matrix(Y_test_cat_1, Y_pred_cat_1)\n",
        "print(mat_cat_1)"
      ]
    },
    {
      "cell_type": "code",
      "execution_count": null,
      "metadata": {
        "colab": {
          "base_uri": "https://localhost:8080/"
        },
        "id": "kluUuuZcTcjC",
        "outputId": "fdfb66dd-f3d4-42b5-b236-38c859539f2a"
      },
      "outputs": [
        {
          "name": "stdout",
          "output_type": "stream",
          "text": [
            "              precision    recall  f1-score   support\n",
            "\n",
            "         0.0       0.95      0.86      0.90       586\n",
            "         1.0       0.94      0.85      0.89       878\n",
            "         2.0       0.93      0.95      0.94      1719\n",
            "         3.0       0.93      0.87      0.90      1212\n",
            "         4.0       0.79      0.91      0.85      1814\n",
            "         5.0       0.96      0.72      0.82       475\n",
            "         6.0       0.91      0.97      0.94      2183\n",
            "         7.0       0.88      0.77      0.82       753\n",
            "         8.0       0.96      0.95      0.96      1265\n",
            "\n",
            "    accuracy                           0.90     10885\n",
            "   macro avg       0.92      0.87      0.89     10885\n",
            "weighted avg       0.91      0.90      0.90     10885\n",
            "\n"
          ]
        }
      ],
      "source": [
        "# Printing Classification Report\n",
        "\n",
        "print(classification_report(Y_test_cat_1, Y_pred_cat_1))"
      ]
    },
    {
      "cell_type": "markdown",
      "metadata": {
        "id": "4cSuVekrZKYu"
      },
      "source": [
        "# CATEGORY LEVEL 2"
      ]
    },
    {
      "cell_type": "code",
      "source": [
        "#Splitting Data into Training And Testing\n",
        "\n",
        "X_train, X_test , Y_train_cat_2 , Y_test_cat_2 = train_test_split(X_train_features, Y2 , test_size = 0.3, random_state=3 , stratify = Y2)"
      ],
      "metadata": {
        "id": "ekusjokdCCdq"
      },
      "execution_count": 17,
      "outputs": []
    },
    {
      "cell_type": "code",
      "execution_count": 47,
      "metadata": {
        "id": "pgr58HvJYrPF",
        "outputId": "a5474a25-6459-48e4-bb3d-46fe9b52477b",
        "colab": {
          "base_uri": "https://localhost:8080/"
        }
      },
      "outputs": [
        {
          "output_type": "stream",
          "name": "stdout",
          "text": [
            "159\n"
          ]
        }
      ],
      "source": [
        "#Calculating N Estimators\n",
        "\n",
        "number_of_trees = X_train.shape\n",
        "estimated_trees = math.sqrt(number_of_trees[0])\n",
        "estimated_trees = int(math.floor(estimated_trees))\n",
        "print(estimated_trees)"
      ]
    },
    {
      "cell_type": "code",
      "execution_count": 18,
      "metadata": {
        "id": "vZQ7la1xYrPF",
        "outputId": "06b908b4-b21d-4dad-84f7-6f50e4539562",
        "colab": {
          "base_uri": "https://localhost:8080/"
        }
      },
      "outputs": [
        {
          "output_type": "execute_result",
          "data": {
            "text/plain": [
              "RandomForestClassifier(n_estimators=159)"
            ]
          },
          "metadata": {},
          "execution_count": 18
        }
      ],
      "source": [
        "#Training Model for Category 2\n",
        "\n",
        "model_cat_2 = RandomForestClassifier(n_estimators = estimated_trees) \n",
        "model_cat_2.fit(X_train, Y_train_cat_2)"
      ]
    },
    {
      "cell_type": "code",
      "execution_count": 33,
      "metadata": {
        "id": "N0e27LQ9YrPG",
        "outputId": "df57afde-b393-4204-e8b5-c9d304bf2f1c",
        "colab": {
          "base_uri": "https://localhost:8080/"
        }
      },
      "outputs": [
        {
          "output_type": "stream",
          "name": "stdout",
          "text": [
            "0.8220486908589802\n"
          ]
        }
      ],
      "source": [
        "#Predicting On Testing Data\n",
        "\n",
        "Y_pred_cat_2 = model_cat_2.predict(X_test)\n",
        "accuracy_on_testing_data_cat_2 = accuracy_score(Y_test_cat_2 , Y_pred_cat_2)\n",
        "print(accuracy_on_testing_data_cat_2)"
      ]
    },
    {
      "cell_type": "code",
      "execution_count": null,
      "metadata": {
        "id": "WalRK70pYrPG"
      },
      "outputs": [],
      "source": [
        "#Display Confusion Matrix\n",
        "\n",
        "print('Accuracy score with Random Forest Classifier is : ')\n",
        "print(metrics.accuracy_score(Y_test_cat_2, Y_pred_cat_2)*100)\n",
        "mat_cat_2 = confusion_matrix(Y_test_cat_2, Y_pred_cat_2)\n",
        "print(mat_cat_2)"
      ]
    },
    {
      "cell_type": "markdown",
      "metadata": {
        "id": "p7EgJUy0YrPG"
      },
      "source": [
        "# CATEGORY LEVEL 3"
      ]
    },
    {
      "cell_type": "code",
      "source": [
        "#Splitting Data Into Training and Testing\n",
        "\n",
        "X_train, X_test , Y_train_cat_3 , Y_test_cat_3 = train_test_split(X_train_features, Y3 , test_size = 0.3, random_state=3 , stratify = Y3)"
      ],
      "metadata": {
        "id": "eqPMGsAoEcVR"
      },
      "execution_count": 19,
      "outputs": []
    },
    {
      "cell_type": "code",
      "execution_count": 36,
      "metadata": {
        "id": "PR_W5CH1YrPG",
        "outputId": "fb85f6a1-9a1d-4a01-b96d-9a8e585ca398",
        "colab": {
          "base_uri": "https://localhost:8080/"
        }
      },
      "outputs": [
        {
          "output_type": "stream",
          "name": "stdout",
          "text": [
            "159\n"
          ]
        }
      ],
      "source": [
        "#Calculating N Estimators\n",
        "\n",
        "number_of_trees = X_train.shape\n",
        "estimated_trees = math.sqrt(number_of_trees[0])\n",
        "estimated_trees = int(math.floor(estimated_trees))\n",
        "print(estimated_trees)"
      ]
    },
    {
      "cell_type": "code",
      "execution_count": 20,
      "metadata": {
        "id": "6Bf2C-KrYrPH",
        "outputId": "9b6f22fa-e6ca-473d-b3e8-f1a5a4b71325",
        "colab": {
          "base_uri": "https://localhost:8080/"
        }
      },
      "outputs": [
        {
          "output_type": "execute_result",
          "data": {
            "text/plain": [
              "RandomForestClassifier(n_estimators=159)"
            ]
          },
          "metadata": {},
          "execution_count": 20
        }
      ],
      "source": [
        "#Training Model for Category 3\n",
        "\n",
        "model_cat_3 = RandomForestClassifier(n_estimators = estimated_trees) \n",
        "model_cat_3.fit(X_train, Y_train_cat_3)"
      ]
    },
    {
      "cell_type": "code",
      "execution_count": null,
      "metadata": {
        "id": "bYmumEwrYrPH"
      },
      "outputs": [],
      "source": [
        "#Predicting On Testing Data\n",
        "\n",
        "Y_pred_cat_3 = model_cat_3.predict(X_test)\n",
        "accuracy_on_testing_data_cat_3 = accuracy_score(Y_test_cat_3 , Y_pred_cat_3)\n",
        "print(accuracy_on_testing_data_cat_3)"
      ]
    },
    {
      "cell_type": "code",
      "execution_count": null,
      "metadata": {
        "id": "tDyeBEt3YrPH",
        "outputId": "8d0218f1-98c1-414b-fc98-db1180383266"
      },
      "outputs": [
        {
          "name": "stdout",
          "output_type": "stream",
          "text": [
            "Accuracy score with Random Forest Classifier is : \n",
            "73.32108406063391\n",
            "[[  5   0   0 ...   0   0   0]\n",
            " [  0 106   0 ...   0   0   1]\n",
            " [  0   0  13 ...   0   0   0]\n",
            " ...\n",
            " [  0   0   0 ...  16   1   0]\n",
            " [  0   0   0 ...   0   7   0]\n",
            " [  0   0   0 ...   0   0  19]]\n"
          ]
        }
      ],
      "source": [
        "#Display Confusion Matrix\n",
        "\n",
        "print('Accuracy score with Random Forest Classifier is : ')\n",
        "print(metrics.accuracy_score(Y_test_cat_3 , Y_pred_cat_3)*100)\n",
        "mat_cat_3 = confusion_matrix(Y_test_cat_3, Y_pred_cat_3)\n",
        "print(mat_cat_3)"
      ]
    },
    {
      "cell_type": "markdown",
      "metadata": {
        "id": "BsBxNEbfYrPH"
      },
      "source": [
        "# TESTING DATA CLEANING"
      ]
    },
    {
      "cell_type": "code",
      "execution_count": null,
      "metadata": {
        "id": "5zZHs0kcYrPH"
      },
      "outputs": [],
      "source": [
        "labels=[\"country\", \"sku_id\", \"title\", \"category_lvl1\",\"category_lvl2\",\"category_lvl3\", \"description\", \"price\", \"type\"]\n",
        "\n",
        "def getTestingDataset():\n",
        "    return pd.read_csv('/content/drive/MyDrive/Product-Title-Classification/data_valid.csv', header=None, names=labels)  \n",
        "\n",
        "raw_test_data = getTestingDataset()\n",
        "test_df, Y1 , Y2 , Y3 = Utilities.Cleaning_Data_Utility(raw_test_data) #Utilities. hatadena yahan se "
      ]
    },
    {
      "cell_type": "markdown",
      "metadata": {
        "id": "1gvGVWySNeGA"
      },
      "source": [
        "# Imputing Null Values\n"
      ]
    },
    {
      "cell_type": "code",
      "source": [
        "def NullStatistics(df):\n",
        "    missing_val = df.isnull().sum()\n",
        "    print(missing_val)\n",
        "    total_cells = np.product(df.shape)\n",
        "    missing_percent = (missing_val.sum()/total_cells) *100\n",
        "    print(f'\\nThe missing data percent is: {missing_percent}')\n",
        "\n",
        "NullStatistics(test_df)\n",
        "\n",
        "unique_label_c1, unique_label_c2, unique_label_c3 = KNNImpute.preserve_label(test_df) #It has all unique values lying in ctg1 , 2 , 3 column\n",
        "KNNImpute.encode(['category_lvl1', 'category_lvl2', 'category_lvl3'],test_df)        #Performed encoding for CTGLVL3 KNN\n",
        "test_df_imputed = KNNImpute.impute(test_df)\n",
        "test_df_imputed =  KNNImpute.clean_csv(test_df_imputed,test_df)\n",
        "NullStatistics(test_df_imputed)"
      ],
      "metadata": {
        "id": "c2WE6Gitbm7t"
      },
      "execution_count": null,
      "outputs": []
    },
    {
      "cell_type": "code",
      "execution_count": 23,
      "metadata": {
        "id": "szTAHhoXYrPI"
      },
      "outputs": [],
      "source": [
        "X = test_df_imputed['Title_desc']\n",
        "Y1 = test_df_imputed['category_lvl1']\n",
        "Y2 = test_df_imputed['category_lvl2']\n",
        "Y3 = test_df_imputed['category_lvl3']"
      ]
    },
    {
      "cell_type": "code",
      "execution_count": 25,
      "metadata": {
        "id": "iAAc2z6YYrPI"
      },
      "outputs": [],
      "source": [
        "# Transforming Features\n",
        "\n",
        "X_test_features = feature_extraction.transform(X)"
      ]
    },
    {
      "cell_type": "markdown",
      "metadata": {
        "id": "JPkQrTsTYrPI"
      },
      "source": [
        "# CATEGORY LEVEL 1"
      ]
    },
    {
      "cell_type": "code",
      "execution_count": 26,
      "metadata": {
        "id": "xfTYKLBuYrPI"
      },
      "outputs": [],
      "source": [
        "#Predicting On Testing Data\n",
        "\n",
        "Y_Testing_Cat_1 = model_cat_1.predict(X_test_features)"
      ]
    },
    {
      "cell_type": "code",
      "source": [
        "#Checking Accuracy on Category 1 Model\n",
        "\n",
        "accuracy_on_testing_data_cat_1 = accuracy_score(Y1 , Y_Testing_Cat_1)\n",
        "print(accuracy_on_testing_data_cat_1)"
      ],
      "metadata": {
        "colab": {
          "base_uri": "https://localhost:8080/"
        },
        "id": "STEtj7qxjLha",
        "outputId": "3bb4657c-ca6c-46ef-eb0c-f665ed2a1eed"
      },
      "execution_count": 28,
      "outputs": [
        {
          "output_type": "stream",
          "name": "stdout",
          "text": [
            "0.8989694205102213\n"
          ]
        }
      ]
    },
    {
      "cell_type": "markdown",
      "metadata": {
        "id": "gOptkf07FdJK"
      },
      "source": [
        "# CATEGORY LEVEL 2"
      ]
    },
    {
      "cell_type": "code",
      "source": [
        "#Prediction on Testing Data\n",
        "\n",
        "Y_Testing_Cat_2 = model_cat_2.predict(X_test_features)"
      ],
      "metadata": {
        "id": "3zHeJosh_6C2"
      },
      "execution_count": 29,
      "outputs": []
    },
    {
      "cell_type": "code",
      "source": [
        "#Checking Accuracy on Category 2 Model\n",
        "\n",
        "accuracy_on_testing_data_cat_2 = accuracy_score(Y2 , Y_Testing_Cat_2)\n",
        "print(accuracy_on_testing_data_cat_2)"
      ],
      "metadata": {
        "colab": {
          "base_uri": "https://localhost:8080/"
        },
        "id": "lDJ3Fo4GLEfr",
        "outputId": "75082f01-e5d3-414c-873d-d1f7baa01fd1"
      },
      "execution_count": 30,
      "outputs": [
        {
          "output_type": "stream",
          "name": "stdout",
          "text": [
            "0.8144112181111675\n"
          ]
        }
      ]
    },
    {
      "cell_type": "markdown",
      "metadata": {
        "id": "BesPks0AK6Jz"
      },
      "source": [
        "# CATEGORY LEVEL 3\n"
      ]
    },
    {
      "cell_type": "code",
      "source": [
        "#Prediction on Testing Data\n",
        "\n",
        "Y_Testing_Cat_3 = model_cat_3.predict(X_test_features)"
      ],
      "metadata": {
        "id": "eQqVVh23K81H"
      },
      "execution_count": 31,
      "outputs": []
    },
    {
      "cell_type": "code",
      "source": [
        "#Checking Accuracy on Category 3 Model\n",
        "\n",
        "accuracy_on_testing_data_cat_3 = accuracy_score(Y3 , Y_Testing_Cat_3)\n",
        "print(accuracy_on_testing_data_cat_3)"
      ],
      "metadata": {
        "colab": {
          "base_uri": "https://localhost:8080/"
        },
        "id": "bzltEdFBLWvP",
        "outputId": "e3b3643e-4618-496c-9fc5-a380d68a6ae3"
      },
      "execution_count": 32,
      "outputs": [
        {
          "output_type": "stream",
          "name": "stdout",
          "text": [
            "0.7230106436898125\n"
          ]
        }
      ]
    },
    {
      "cell_type": "code",
      "source": [
        ""
      ],
      "metadata": {
        "id": "TQdj0bC7LcYs"
      },
      "execution_count": null,
      "outputs": []
    }
  ],
  "metadata": {
    "colab": {
      "collapsed_sections": [],
      "name": "Temp_RFF.ipynb",
      "provenance": []
    },
    "kernelspec": {
      "display_name": "Python 3 (ipykernel)",
      "language": "python",
      "name": "python3"
    },
    "language_info": {
      "codemirror_mode": {
        "name": "ipython",
        "version": 3
      },
      "file_extension": ".py",
      "mimetype": "text/x-python",
      "name": "python",
      "nbconvert_exporter": "python",
      "pygments_lexer": "ipython3",
      "version": "3.8.10"
    },
    "accelerator": "GPU"
  },
  "nbformat": 4,
  "nbformat_minor": 0
}