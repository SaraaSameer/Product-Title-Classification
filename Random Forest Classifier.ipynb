{
  "cells": [
    {
      "cell_type": "code",
      "execution_count": null,
      "metadata": {
        "id": "It_iLAhRyhO2"
      },
      "outputs": [],
      "source": [
        "import sys#THIS IS FOR GOOGLE COLAB USERS ONLY\n",
        "from google.colab import files\n",
        "sys.path.insert(0,'/content/drive/MyDrive/Product-Title-Classification')"
      ]
    },
    {
      "cell_type": "code",
      "execution_count": null,
      "metadata": {
        "id": "OEOZZIowzWvq",
        "colab": {
          "base_uri": "https://localhost:8080/"
        },
        "outputId": "28e648af-528a-4c6f-f5f7-553dd3d80383"
      },
      "outputs": [
        {
          "output_type": "stream",
          "name": "stdout",
          "text": [
            "cp: cannot stat '/content/drive/MyDrive/Product-Title-Classification/Utilities.py': No such file or directory\n",
            "cp: cannot stat '/content/drive/MyDrive/Product-Title-Classification/KNNImpute.py': No such file or directory\n"
          ]
        }
      ],
      "source": [
        "import sys                                                                  #THIS IS FOR GOOGLE COLAB USERS ONLY\n",
        "from google.colab import files\n",
        "sys.path.insert(0,'/content/drive/MyDrive/Product-Title-Classification')\n",
        "!cp /content/drive/MyDrive/Product-Title-Classification/Utilities.py /content           #THIS IS FOR GOOGLE COLAB USERS ONLY\n",
        "!cp /content/drive/MyDrive/Product-Title-Classification/KNNImpute.py /content"
      ]
    },
    {
      "cell_type": "code",
      "execution_count": null,
      "metadata": {
        "colab": {
          "base_uri": "https://localhost:8080/"
        },
        "id": "XoRQHEOczoPR",
        "outputId": "e6e9c0ec-82a5-405c-c39d-fbfe03de7cc9"
      },
      "outputs": [
        {
          "output_type": "stream",
          "name": "stdout",
          "text": [
            "Mounted at /content/drive\n"
          ]
        }
      ],
      "source": [
        "from google.colab import drive\n",
        "drive.mount('/content/drive')"
      ]
    },
    {
      "cell_type": "markdown",
      "metadata": {
        "id": "4ASeZPbf1a7q"
      },
      "source": [
        "Importing Local Files"
      ]
    },
    {
      "cell_type": "code",
      "execution_count": null,
      "metadata": {
        "id": "lslb0WZqzkiq"
      },
      "outputs": [],
      "source": [
        "import KNNImpute\n",
        "import Utilities"
      ]
    },
    {
      "cell_type": "code",
      "execution_count": null,
      "metadata": {
        "id": "EkjcieviYrO-",
        "outputId": "66c353b9-f8b4-4855-a20b-d4836d072e70"
      },
      "outputs": [
        {
          "name": "stdout",
          "output_type": "stream",
          "text": [
            "Collecting sklearn\n",
            "  Downloading sklearn-0.0.tar.gz (1.1 kB)\n",
            "Collecting scikit-learn\n",
            "  Downloading scikit_learn-1.1.0-cp38-cp38-manylinux_2_17_x86_64.manylinux2014_x86_64.whl (31.0 MB)\n",
            "\u001b[K     |████████████████████████████████| 31.0 MB 124 kB/s eta 0:00:01     |████████████████████            | 19.3 MB 174 kB/s eta 0:01:07     |███████████████████████████████▋| 30.7 MB 731 kB/s eta 0:00:01\n",
            "\u001b[?25hRequirement already satisfied: joblib>=1.0.0 in /home/mustafa/.local/lib/python3.8/site-packages (from scikit-learn->sklearn) (1.1.0)\n",
            "Requirement already satisfied: numpy>=1.17.3 in /home/mustafa/.local/lib/python3.8/site-packages (from scikit-learn->sklearn) (1.22.3)\n",
            "Collecting threadpoolctl>=2.0.0\n",
            "  Downloading threadpoolctl-3.1.0-py3-none-any.whl (14 kB)\n",
            "Collecting scipy>=1.3.2\n",
            "  Downloading scipy-1.8.0-cp38-cp38-manylinux_2_17_x86_64.manylinux2014_x86_64.whl (41.6 MB)\n",
            "\u001b[K     |████████████████████████████████| 41.6 MB 49 kB/s  eta 0:00:01     |████████████████████████▉       | 32.3 MB 10 kB/s eta 0:14:19\n",
            "\u001b[?25hBuilding wheels for collected packages: sklearn\n",
            "  Building wheel for sklearn (setup.py) ... \u001b[?25ldone\n",
            "\u001b[?25h  Created wheel for sklearn: filename=sklearn-0.0-py2.py3-none-any.whl size=1315 sha256=3d38ad744d36d150a99d67071fefc46974d96824fce525bd128de29f5a011f02\n",
            "  Stored in directory: /home/mustafa/.cache/pip/wheels/22/0b/40/fd3f795caaa1fb4c6cb738bc1f56100be1e57da95849bfc897\n",
            "Successfully built sklearn\n",
            "Installing collected packages: threadpoolctl, scipy, scikit-learn, sklearn\n",
            "Successfully installed scikit-learn-1.1.0 scipy-1.8.0 sklearn-0.0 threadpoolctl-3.1.0\n",
            "Note: you may need to restart the kernel to use updated packages.\n"
          ]
        }
      ],
      "source": [
        "# pip install sklearn"
      ]
    },
    {
      "cell_type": "markdown",
      "metadata": {
        "id": "Kn7L4vI71emG"
      },
      "source": [
        "Importing Local Files"
      ]
    },
    {
      "cell_type": "code",
      "execution_count": null,
      "metadata": {
        "id": "jxkxQIo7YrO_"
      },
      "outputs": [],
      "source": [
        "# from KNNImpute import *\n",
        "# from Utilities import *"
      ]
    },
    {
      "cell_type": "markdown",
      "metadata": {
        "id": "AVn1RudNYrO_"
      },
      "source": [
        "## Importing Packages"
      ]
    },
    {
      "cell_type": "code",
      "execution_count": null,
      "metadata": {
        "colab": {
          "base_uri": "https://localhost:8080/"
        },
        "id": "aI0jVSGd1WMK",
        "outputId": "2d4dbb3b-1823-4ce0-9a3c-6812dd558238"
      },
      "outputs": [
        {
          "output_type": "stream",
          "name": "stdout",
          "text": [
            "[nltk_data] Downloading package stopwords to /root/nltk_data...\n",
            "[nltk_data]   Unzipping corpora/stopwords.zip.\n"
          ]
        }
      ],
      "source": [
        "import pandas as pd\n",
        "import numpy as np\n",
        "import nltk\n",
        "nltk.download('stopwords')\n",
        "from sklearn.naive_bayes import GaussianNB\n",
        "from sklearn.linear_model import LogisticRegression\n",
        "from sklearn.model_selection import train_test_split"
      ]
    },
    {
      "cell_type": "markdown",
      "metadata": {
        "id": "ZrxcLfH73Lv_"
      },
      "source": [
        "## Splitting Data Into Training Data and Testing Data"
      ]
    },
    {
      "cell_type": "code",
      "execution_count": null,
      "metadata": {
        "id": "j_5etXox1t00",
        "colab": {
          "base_uri": "https://localhost:8080/"
        },
        "outputId": "1fe7f6d1-cb24-422b-843e-b660b091ae21"
      },
      "outputs": [
        {
          "output_type": "stream",
          "name": "stdout",
          "text": [
            "0        Adana Gallery Suri Square Hijab – Light Pink <...\n",
            "1        Cuba Heartbreaker Eau De Parfum Spray 100ml/3....\n",
            "2        Andoer 150cm Cellphone Smartphone Mini Dual-He...\n",
            "3        ANMYNA Complaint Silky Set 柔顺洗发配套 (Shampoo 520...\n",
            "4        Argital Argiltubo Green Clay For Face and Body...\n",
            "                               ...                        \n",
            "36278    SADES K10 LED Backlit Wired USB Mechanical Gam...\n",
            "36279    SONA 20L Electric Oven SEO 2220 <ul> <li>&nbsp...\n",
            "36280    OP1001 Portable Wireless Bluetooth 2.1 Speaker...\n",
            "36281    Woot-Woot TicTacToe Pillow Case (White) <ul> <...\n",
            "36282    New Smart Wristband D21 Smart Bracelet Heart R...\n",
            "Name: titleDescp, Length: 36283, dtype: object\n",
            "                           category_lvl1 category_lvl2  \\\n",
            "0                                Fashion         Women   \n",
            "1                        Health & Beauty   Bath & Body   \n",
            "2  TV, Audio / Video, Gaming & Wearables         Audio   \n",
            "3                        Health & Beauty     Hair Care   \n",
            "4                        Health & Beauty    Men's Care   \n",
            "\n",
            "             category_lvl3                                         titleDescp  \n",
            "0              Muslim Wear  adana galleri suri squar hijab light pink ul l...  \n",
            "1         Hand & Foot Care  cuba heartbreak eau de parfum spray ml oz form...  \n",
            "2       Live Sound & Stage  andoer cm cellphon smartphon mini dual head om...  \n",
            "3  Shampoos & Conditioners  anmyna complaint silki set shampoo ml conditio...  \n",
            "4       Body and Skin Care  argit argiltubo green clay face bodi ml ul li ...  \n"
          ]
        }
      ],
      "source": [
        "labels=[\"country\", \"sku_id\", \"title\", \"category_lvl1\",\"category_lvl2\",\"category_lvl3\", \"description\", \"price\", \"type\"]\n",
        "\n",
        "def getTrainingDataset():\n",
        "    return pd.read_csv('/content/drive/MyDrive/Product-Title-Classification/data_train.csv', header=None, names=labels)  \n",
        "\n",
        "\n",
        "raw_data = getTrainingDataset()\n",
        "train_df,Y1,Y2,Y3= Utilities.Cleaning_Data_Utility(raw_data) #Utilities. hatadena yahan se \n",
        "print(train_df.head())"
      ]
    },
    {
      "cell_type": "markdown",
      "metadata": {
        "id": "v9Z4wo4E5KQR"
      },
      "source": [
        "# Imputing Null Values"
      ]
    },
    {
      "cell_type": "code",
      "execution_count": null,
      "metadata": {
        "id": "RGqIH1Md2Yiq",
        "colab": {
          "base_uri": "https://localhost:8080/"
        },
        "outputId": "4f287735-9642-48d1-f03d-c6a84da69fd7"
      },
      "outputs": [
        {
          "output_type": "stream",
          "name": "stdout",
          "text": [
            "category_lvl1       0\n",
            "category_lvl2       0\n",
            "category_lvl3    2135\n",
            "titleDescp          0\n",
            "dtype: int64\n",
            "\n",
            "The missing data percent is: 1.4710746079431138\n"
          ]
        },
        {
          "output_type": "stream",
          "name": "stderr",
          "text": [
            "/usr/local/lib/python3.7/dist-packages/sklearn/preprocessing/_label.py:115: DataConversionWarning: A column-vector y was passed when a 1d array was expected. Please change the shape of y to (n_samples, ), for example using ravel().\n",
            "  y = column_or_1d(y, warn=True)\n"
          ]
        },
        {
          "output_type": "stream",
          "name": "stdout",
          "text": [
            "category_lvl1    0\n",
            "category_lvl2    0\n",
            "category_lvl3    0\n",
            "Title_desc       0\n",
            "dtype: int64\n",
            "\n",
            "The missing data percent is: 0.0\n"
          ]
        }
      ],
      "source": [
        "def NullStatistics(df):\n",
        "    missing_val = df.isnull().sum()\n",
        "    print(missing_val)\n",
        "    total_cells = np.product(df.shape)\n",
        "    missing_percent = (missing_val.sum()/total_cells) *100\n",
        "    print(f'\\nThe missing data percent is: {missing_percent}')\n",
        "\n",
        "NullStatistics(train_df)\n",
        "\n",
        "unique_label_c1, unique_label_c2, unique_label_c3 = KNNImpute.preserve_label(train_df) #It has all unique values lying in ctg1 , 2 , 3 column\n",
        "KNNImpute.encode(['category_lvl1', 'category_lvl2', 'category_lvl3'],train_df)        #Performed encoding for CTGLVL3 KNN\n",
        "train_df_imputed = KNNImpute.impute(train_df)\n",
        "train_df_imputed =  KNNImpute.clean_csv(train_df_imputed,train_df)\n",
        "NullStatistics(train_df_imputed)"
      ]
    },
    {
      "cell_type": "code",
      "execution_count": null,
      "metadata": {
        "id": "GBUrwX3PYrPB"
      },
      "outputs": [],
      "source": [
        "temp = train_df_imputed "
      ]
    },
    {
      "cell_type": "code",
      "source": [
        "train_df_imputed = temp\n",
        "train_df_imputed.shape"
      ],
      "metadata": {
        "colab": {
          "base_uri": "https://localhost:8080/"
        },
        "id": "oR2FCm5WdVmW",
        "outputId": "f646f053-4e72-469b-daa7-58d0bef92792"
      },
      "execution_count": null,
      "outputs": [
        {
          "output_type": "execute_result",
          "data": {
            "text/plain": [
              "(36283, 4)"
            ]
          },
          "metadata": {},
          "execution_count": 34
        }
      ]
    },
    {
      "cell_type": "markdown",
      "metadata": {
        "id": "vFrV-R10YrPB"
      },
      "source": [
        "## Directly Reading From File"
      ]
    },
    {
      "cell_type": "code",
      "execution_count": null,
      "metadata": {
        "id": "E-y8RTItYrPB"
      },
      "outputs": [],
      "source": [
        "# train_df_imputed = temp\n",
        "# train_df_imputed.to_csv(\"clean_training_data.csv\" , index=False)"
      ]
    },
    {
      "cell_type": "code",
      "execution_count": null,
      "metadata": {
        "id": "dvD6RF6NYrPB",
        "outputId": "72cf7510-c17b-41d6-f22b-4aca9216b491"
      },
      "outputs": [
        {
          "data": {
            "text/html": [
              "<div>\n",
              "<style scoped>\n",
              "    .dataframe tbody tr th:only-of-type {\n",
              "        vertical-align: middle;\n",
              "    }\n",
              "\n",
              "    .dataframe tbody tr th {\n",
              "        vertical-align: top;\n",
              "    }\n",
              "\n",
              "    .dataframe thead th {\n",
              "        text-align: right;\n",
              "    }\n",
              "</style>\n",
              "<table border=\"1\" class=\"dataframe\">\n",
              "  <thead>\n",
              "    <tr style=\"text-align: right;\">\n",
              "      <th></th>\n",
              "      <th>category_lvl1</th>\n",
              "      <th>category_lvl2</th>\n",
              "      <th>category_lvl3</th>\n",
              "      <th>Title_desc</th>\n",
              "    </tr>\n",
              "  </thead>\n",
              "  <tbody>\n",
              "    <tr>\n",
              "      <th>0</th>\n",
              "      <td>2.0</td>\n",
              "      <td>56.0</td>\n",
              "      <td>113.0</td>\n",
              "      <td>adana galleri suri squar hijab light pink ul l...</td>\n",
              "    </tr>\n",
              "    <tr>\n",
              "      <th>1</th>\n",
              "      <td>3.0</td>\n",
              "      <td>3.0</td>\n",
              "      <td>67.0</td>\n",
              "      <td>cuba heartbreak eau de parfum spray ml oz form...</td>\n",
              "    </tr>\n",
              "    <tr>\n",
              "      <th>2</th>\n",
              "      <td>7.0</td>\n",
              "      <td>1.0</td>\n",
              "      <td>95.0</td>\n",
              "      <td>andoer cm cellphon smartphon mini dual head om...</td>\n",
              "    </tr>\n",
              "    <tr>\n",
              "      <th>3</th>\n",
              "      <td>3.0</td>\n",
              "      <td>23.0</td>\n",
              "      <td>147.0</td>\n",
              "      <td>anmyna complaint silki set shampoo ml conditio...</td>\n",
              "    </tr>\n",
              "    <tr>\n",
              "      <th>4</th>\n",
              "      <td>3.0</td>\n",
              "      <td>36.0</td>\n",
              "      <td>23.0</td>\n",
              "      <td>argit argiltubo green clay face bodi ml ul li ...</td>\n",
              "    </tr>\n",
              "  </tbody>\n",
              "</table>\n",
              "</div>"
            ],
            "text/plain": [
              "   category_lvl1  category_lvl2  category_lvl3  \\\n",
              "0            2.0           56.0          113.0   \n",
              "1            3.0            3.0           67.0   \n",
              "2            7.0            1.0           95.0   \n",
              "3            3.0           23.0          147.0   \n",
              "4            3.0           36.0           23.0   \n",
              "\n",
              "                                          Title_desc  \n",
              "0  adana galleri suri squar hijab light pink ul l...  \n",
              "1  cuba heartbreak eau de parfum spray ml oz form...  \n",
              "2  andoer cm cellphon smartphon mini dual head om...  \n",
              "3  anmyna complaint silki set shampoo ml conditio...  \n",
              "4  argit argiltubo green clay face bodi ml ul li ...  "
            ]
          },
          "execution_count": 3,
          "metadata": {},
          "output_type": "execute_result"
        }
      ],
      "source": [
        "# train_df_imputed = pd.read_csv(\"clean_training_data.csv\" , )\n",
        "# train_df_imputed.head() "
      ]
    },
    {
      "cell_type": "markdown",
      "metadata": {
        "id": "K3e0zrh05LAR"
      },
      "source": [
        "Splitting Data Into Training And Testing"
      ]
    },
    {
      "cell_type": "code",
      "source": [
        "X = train_df_imputed['Title_desc']\n",
        "Y1 = train_df_imputed['category_lvl1']\n",
        "Y2 = train_df_imputed['category_lvl2']\n",
        "Y3 = train_df_imputed['category_lvl3']"
      ],
      "metadata": {
        "id": "9tSjUdXLc7J6"
      },
      "execution_count": null,
      "outputs": []
    },
    {
      "cell_type": "code",
      "execution_count": null,
      "metadata": {
        "id": "0zhtq-np4Ubf"
      },
      "outputs": [],
      "source": [
        "from sklearn.feature_extraction.text import TfidfVectorizer\n",
        "\n",
        "feature_extraction = TfidfVectorizer(min_df = 1, stop_words = 'english' , lowercase = 'True')\n",
        "\n",
        "X_train_features = feature_extraction.fit_transform(X)\n",
        "# X_test_features = feature_extraction.transform(X_test.values.astype('U'))"
      ]
    },
    {
      "cell_type": "code",
      "execution_count": null,
      "metadata": {
        "id": "8HHY7OjR5OS-"
      },
      "outputs": [],
      "source": [
        "X_train, X_test , Y_train , Y_test = train_test_split(X_train_features, Y1, test_size = 0.3, random_state=3 , stratify = Y1)"
      ]
    },
    {
      "cell_type": "code",
      "execution_count": null,
      "metadata": {
        "colab": {
          "base_uri": "https://localhost:8080/"
        },
        "id": "jpBcL0kL5bPm",
        "outputId": "32efe346-ca1e-4a0b-baa8-87a4566e27d6"
      },
      "outputs": [
        {
          "output_type": "execute_result",
          "data": {
            "text/plain": [
              "(25398,)"
            ]
          },
          "metadata": {},
          "execution_count": 38
        }
      ],
      "source": [
        "Y_train.shape"
      ]
    },
    {
      "cell_type": "markdown",
      "metadata": {
        "id": "8wh_fVbY5ky-"
      },
      "source": [
        "Feature Extraction"
      ]
    },
    {
      "cell_type": "code",
      "execution_count": null,
      "metadata": {
        "colab": {
          "base_uri": "https://localhost:8080/"
        },
        "id": "cr7lLRmm5zT8",
        "outputId": "ac3d375b-a486-4eb4-c2dc-7e408c60f917"
      },
      "outputs": [
        {
          "output_type": "stream",
          "name": "stdout",
          "text": [
            "  (0, 8844)\t0.20669140444780615\n",
            "  (0, 6509)\t0.21996803699368137\n",
            "  (0, 6529)\t0.16898535529139208\n",
            "  (0, 13520)\t0.26353252165855096\n",
            "  (0, 25017)\t0.09569136097916549\n",
            "  (0, 4920)\t0.20363684473882185\n",
            "  (0, 24625)\t0.2749088614258273\n",
            "  (0, 24580)\t0.24936730479422012\n",
            "  (0, 19075)\t0.1519301323425332\n",
            "  (0, 16849)\t0.0780089820671493\n",
            "  (0, 15731)\t0.216601402357855\n",
            "  (0, 28788)\t0.07225424844998868\n",
            "  (0, 20958)\t0.1476446166731313\n",
            "  (0, 15796)\t0.12476995284687205\n",
            "  (0, 12651)\t0.28221774410096967\n",
            "  (0, 25966)\t0.1998311858009805\n",
            "  (0, 26856)\t0.37659487115461027\n",
            "  (0, 11010)\t0.31718340705761777\n",
            "  (0, 273)\t0.37659487115461027\n",
            "  (1, 22811)\t0.2136905935874917\n",
            "  (1, 25350)\t0.14743774062287782\n",
            "  (1, 25476)\t0.1139992217155386\n",
            "  (1, 23090)\t0.20897084135647298\n",
            "  (1, 12102)\t0.26457738829416816\n",
            "  (1, 88)\t0.30830261194693526\n",
            "  :\t:\n",
            "  (36282, 17976)\t0.28162069027997677\n",
            "  (36282, 7514)\t0.16688247220831284\n",
            "  (36282, 19514)\t0.19044165965420964\n",
            "  (36282, 3528)\t0.14815299634208604\n",
            "  (36282, 27849)\t0.05441399525371072\n",
            "  (36282, 6628)\t0.07210573500228198\n",
            "  (36282, 3799)\t0.0904074798134332\n",
            "  (36282, 4021)\t0.2820324495833158\n",
            "  (36282, 7534)\t0.23213549298583022\n",
            "  (36282, 26220)\t0.08588733519505037\n",
            "  (36282, 28252)\t0.18022681562751672\n",
            "  (36282, 3110)\t0.061609657510361966\n",
            "  (36282, 30819)\t0.09278036932304906\n",
            "  (36282, 236)\t0.07541029932207685\n",
            "  (36282, 3408)\t0.0676226096755654\n",
            "  (36282, 18630)\t0.06162190459761556\n",
            "  (36282, 18831)\t0.03731443920466823\n",
            "  (36282, 11771)\t0.058896221776847425\n",
            "  (36282, 24429)\t0.051348157743048184\n",
            "  (36282, 5682)\t0.051653689101907714\n",
            "  (36282, 12102)\t0.05844140295546616\n",
            "  (36282, 13520)\t0.05206986158879944\n",
            "  (36282, 15731)\t0.14265671360954282\n",
            "  (36282, 28788)\t0.02855259527223183\n",
            "  (36282, 15796)\t0.09861028360811205\n"
          ]
        }
      ],
      "source": [
        "print(X_train_features)"
      ]
    },
    {
      "cell_type": "markdown",
      "metadata": {
        "id": "pD9RgSPUF97v"
      },
      "source": [
        "Applying Random Forest Classifier"
      ]
    },
    {
      "cell_type": "code",
      "execution_count": null,
      "metadata": {
        "colab": {
          "base_uri": "https://localhost:8080/"
        },
        "id": "lU0g-aGaVhGv",
        "outputId": "d968dceb-6b3f-42ec-c32c-31ddeff3a216"
      },
      "outputs": [
        {
          "output_type": "stream",
          "name": "stdout",
          "text": [
            "159\n"
          ]
        }
      ],
      "source": [
        "import math\n",
        "X_train.shape\n",
        "number_of_trees = X_train.shape\n",
        "estimated_trees = math.sqrt(number_of_trees[0])\n",
        "estimated_trees = int(math.floor(estimated_trees))\n",
        "print(estimated_trees)"
      ]
    },
    {
      "cell_type": "code",
      "execution_count": null,
      "metadata": {
        "colab": {
          "base_uri": "https://localhost:8080/"
        },
        "id": "pS1qnlQmFMno",
        "outputId": "7a7d2729-8311-48a8-980e-c495b6779305"
      },
      "outputs": [
        {
          "output_type": "execute_result",
          "data": {
            "text/plain": [
              "RandomForestClassifier(n_estimators=159)"
            ]
          },
          "metadata": {},
          "execution_count": 42
        }
      ],
      "source": [
        "from sklearn.ensemble import RandomForestClassifier\n",
        "model_cat_1 = RandomForestClassifier(n_estimators = estimated_trees) \n",
        "model_cat_1.fit(X_train, Y_train)"
      ]
    },
    {
      "cell_type": "code",
      "execution_count": null,
      "metadata": {
        "colab": {
          "base_uri": "https://localhost:8080/"
        },
        "id": "tudh5rTIF6pB",
        "outputId": "ca867eb5-8999-4f4e-f7c8-ab18daf54b8e"
      },
      "outputs": [
        {
          "name": "stdout",
          "output_type": "stream",
          "text": [
            "0.9990944168832192\n"
          ]
        }
      ],
      "source": [
        "# #Predicting On Training Data\n",
        "\n",
        "# prediction_on_training_data = model_cat_1.predict(X_train_features)\n",
        "# accuracy_on_training_data = accuracy_score(Y_train , prediction_on_training_data)\n",
        "# print(accuracy_on_training_data)"
      ]
    },
    {
      "cell_type": "code",
      "execution_count": null,
      "metadata": {
        "colab": {
          "base_uri": "https://localhost:8080/"
        },
        "id": "42bOV8BHGO7P",
        "outputId": "f80aeec2-6b61-4f5d-85a2-9e1e06f89cd3"
      },
      "outputs": [
        {
          "output_type": "stream",
          "name": "stdout",
          "text": [
            "0.9028938906752412\n"
          ]
        }
      ],
      "source": [
        "#Predicting On Testing Data\n",
        "from sklearn.metrics import accuracy_score\n",
        "\n",
        "prediction_on_testing_data = model_cat_1.predict(X_test)\n",
        "accuracy_on_testing_data = accuracy_score(Y_test , prediction_on_testing_data)\n",
        "print(accuracy_on_testing_data)"
      ]
    },
    {
      "cell_type": "code",
      "execution_count": null,
      "metadata": {
        "colab": {
          "base_uri": "https://localhost:8080/"
        },
        "id": "GA1mISvWG47w",
        "outputId": "bdd0e8a5-05b3-4a09-dd94-57abe808389d"
      },
      "outputs": [
        {
          "output_type": "stream",
          "name": "stdout",
          "text": [
            "Accuracy score with Random Forest Classifier is : \n",
            "90.20670647680295\n",
            "[[ 505    8    5    1   35    1   27    2    2]\n",
            " [   4  744    1    2   25    1   57   43    1]\n",
            " [   0    2 1628   13   52    0   10    1   13]\n",
            " [   0    1   37 1049  109    4    5    4    3]\n",
            " [   6    8   50   36 1654    7   31    7   15]\n",
            " [   0    1    2   12  114  340    6    0    0]\n",
            " [   9    6    5    3   17    1 2112   28    2]\n",
            " [   8   19    1    4   54    1   61  586   19]\n",
            " [   2    0   21    3   27    0    7    4 1201]]\n"
          ]
        }
      ],
      "source": [
        "from sklearn import metrics\n",
        "from sklearn.metrics import confusion_matrix\n",
        "\n",
        "print('Accuracy score with Random Forest Classifier is : ')\n",
        "print(metrics.accuracy_score(Y_test, prediction_on_testing_data)*100)\n",
        "mat = confusion_matrix(Y_test, prediction_on_testing_data)\n",
        "print(mat)"
      ]
    },
    {
      "cell_type": "code",
      "execution_count": null,
      "metadata": {
        "colab": {
          "base_uri": "https://localhost:8080/"
        },
        "id": "kluUuuZcTcjC",
        "outputId": "fdfb66dd-f3d4-42b5-b236-38c859539f2a"
      },
      "outputs": [
        {
          "name": "stdout",
          "output_type": "stream",
          "text": [
            "              precision    recall  f1-score   support\n",
            "\n",
            "         0.0       0.95      0.86      0.90       586\n",
            "         1.0       0.94      0.85      0.89       878\n",
            "         2.0       0.93      0.95      0.94      1719\n",
            "         3.0       0.93      0.87      0.90      1212\n",
            "         4.0       0.79      0.91      0.85      1814\n",
            "         5.0       0.96      0.72      0.82       475\n",
            "         6.0       0.91      0.97      0.94      2183\n",
            "         7.0       0.88      0.77      0.82       753\n",
            "         8.0       0.96      0.95      0.96      1265\n",
            "\n",
            "    accuracy                           0.90     10885\n",
            "   macro avg       0.92      0.87      0.89     10885\n",
            "weighted avg       0.91      0.90      0.90     10885\n",
            "\n"
          ]
        }
      ],
      "source": [
        "# Printing Classification Report\n",
        "\n",
        "from sklearn.metrics import classification_report\n",
        "print(classification_report(Y_test, prediction_on_testing_data))"
      ]
    },
    {
      "cell_type": "markdown",
      "metadata": {
        "id": "4cSuVekrZKYu"
      },
      "source": [
        "## CATEGORY LEVEL 2"
      ]
    },
    {
      "cell_type": "code",
      "execution_count": null,
      "metadata": {
        "id": "16k5kuCIYrPE"
      },
      "outputs": [],
      "source": [
        "X = train_df_imputed['Title_desc']\n",
        "Y1 = train_df_imputed['category_lvl1']\n",
        "Y2 = train_df_imputed['category_lvl2']\n",
        "Y3 = train_df_imputed['category_lvl3']\n",
        "X_train, X_test , Y_train , Y_test = train_test_split(X, Y2, test_size = 0.3, random_state=3 , stratify = Y2)"
      ]
    },
    {
      "cell_type": "markdown",
      "metadata": {
        "id": "3af7kt6pYrPF"
      },
      "source": [
        "Feature Extraction"
      ]
    },
    {
      "cell_type": "code",
      "execution_count": null,
      "metadata": {
        "id": "a3eDuJxjYrPF",
        "outputId": "4febd959-6cd2-4465-f763-a856eab687a2"
      },
      "outputs": [
        {
          "name": "stdout",
          "output_type": "stream",
          "text": [
            "  (0, 23719)\t0.1121815911455606\n",
            "  (0, 21916)\t0.165843922602542\n",
            "  (0, 21080)\t0.16314642624619388\n",
            "  (0, 20795)\t0.14266694982120026\n",
            "  (0, 20768)\t0.4540205756824182\n",
            "  (0, 20641)\t0.09753398231263447\n",
            "  (0, 20352)\t0.1719445991665768\n",
            "  (0, 18875)\t0.1940325100893119\n",
            "  (0, 16817)\t0.1331402248498774\n",
            "  (0, 14214)\t0.129445894319038\n",
            "  (0, 13960)\t0.0795637343615029\n",
            "  (0, 13565)\t0.17375177314638093\n",
            "  (0, 13346)\t0.27287705896965436\n",
            "  (0, 12974)\t0.1307712728515241\n",
            "  (0, 8390)\t0.12818724209190857\n",
            "  (0, 8056)\t0.10080934942966051\n",
            "  (0, 6514)\t0.16600916707170177\n",
            "  (0, 5064)\t0.14187488607322638\n",
            "  (0, 4590)\t0.0935538231595422\n",
            "  (0, 4565)\t0.18181095630667324\n",
            "  (0, 3684)\t0.14047609735665126\n",
            "  (0, 3181)\t0.1484313169258753\n",
            "  (0, 2806)\t0.5248971787175488\n",
            "  (0, 2487)\t0.1847747462569313\n",
            "  (1, 25329)\t0.11951897199288575\n",
            "  :\t:\n",
            "  (10884, 23793)\t0.05005704486302929\n",
            "  (10884, 23318)\t0.18694686009179287\n",
            "  (10884, 20641)\t0.06634897697753309\n",
            "  (10884, 20594)\t0.12275958424836705\n",
            "  (10884, 18086)\t0.1468251272822115\n",
            "  (10884, 17408)\t0.08996818559378193\n",
            "  (10884, 16577)\t0.22888260822346373\n",
            "  (10884, 16564)\t0.12214676418259256\n",
            "  (10884, 15369)\t0.10814230336149243\n",
            "  (10884, 13960)\t0.054124442109589534\n",
            "  (10884, 13728)\t0.09857752023826423\n",
            "  (10884, 13060)\t0.3001293602980869\n",
            "  (10884, 12875)\t0.15408011227849563\n",
            "  (10884, 12422)\t0.23560553043540705\n",
            "  (10884, 10294)\t0.13927401584198015\n",
            "  (10884, 9756)\t0.1097666711876246\n",
            "  (10884, 9394)\t0.1036317799262895\n",
            "  (10884, 8654)\t0.3041990900807211\n",
            "  (10884, 7203)\t0.15692450024438975\n",
            "  (10884, 5971)\t0.3867268566857858\n",
            "  (10884, 4316)\t0.43911268040576257\n",
            "  (10884, 3512)\t0.1671851684050508\n",
            "  (10884, 2783)\t0.10641873769680431\n",
            "  (10884, 2616)\t0.10378559819011364\n",
            "  (10884, 1414)\t0.1886129955611017\n"
          ]
        }
      ],
      "source": [
        "from sklearn.feature_extraction.text import TfidfVectorizer\n",
        "\n",
        "feature_extraction = TfidfVectorizer(min_df = 1, stop_words = 'english' , lowercase = 'True')\n",
        "\n",
        "X_train_features = feature_extraction.fit_transform(X_train.values.astype('U'))\n",
        "X_test_features = feature_extraction.transform(X_test.values.astype('U'))\n",
        "print(X_test_features)"
      ]
    },
    {
      "cell_type": "code",
      "execution_count": null,
      "metadata": {
        "id": "ULmJX0nAYrPF",
        "outputId": "44dadf78-83c9-4f30-9491-b2c83b15f27d"
      },
      "outputs": [
        {
          "data": {
            "text/plain": [
              "(25398, 26119)"
            ]
          },
          "execution_count": 62,
          "metadata": {},
          "output_type": "execute_result"
        }
      ],
      "source": [
        "X_train_features.shape"
      ]
    },
    {
      "cell_type": "code",
      "execution_count": null,
      "metadata": {
        "id": "1Zd3Co6JYrPF",
        "outputId": "c99b0ea8-3faa-4843-aef3-6fa9219dc932"
      },
      "outputs": [
        {
          "data": {
            "text/plain": [
              "(10885, 26119)"
            ]
          },
          "execution_count": 63,
          "metadata": {},
          "output_type": "execute_result"
        }
      ],
      "source": [
        "X_test_features.shape"
      ]
    },
    {
      "cell_type": "code",
      "execution_count": null,
      "metadata": {
        "id": "pgr58HvJYrPF",
        "outputId": "f0e1c447-b26b-4bd4-e433-b4a9150cb0e2"
      },
      "outputs": [
        {
          "name": "stdout",
          "output_type": "stream",
          "text": [
            "159\n"
          ]
        }
      ],
      "source": [
        "import math\n",
        "X_train.shape\n",
        "number_of_trees = X_train.shape\n",
        "estimated_trees = math.sqrt(number_of_trees[0])\n",
        "estimated_trees = int(math.floor(estimated_trees))\n",
        "print(estimated_trees)"
      ]
    },
    {
      "cell_type": "code",
      "execution_count": null,
      "metadata": {
        "id": "vZQ7la1xYrPF",
        "outputId": "7667bc15-5191-44c7-bb2b-10c64acee833"
      },
      "outputs": [
        {
          "data": {
            "text/html": [
              "<style>#sk-container-id-4 {color: black;background-color: white;}#sk-container-id-4 pre{padding: 0;}#sk-container-id-4 div.sk-toggleable {background-color: white;}#sk-container-id-4 label.sk-toggleable__label {cursor: pointer;display: block;width: 100%;margin-bottom: 0;padding: 0.3em;box-sizing: border-box;text-align: center;}#sk-container-id-4 label.sk-toggleable__label-arrow:before {content: \"▸\";float: left;margin-right: 0.25em;color: #696969;}#sk-container-id-4 label.sk-toggleable__label-arrow:hover:before {color: black;}#sk-container-id-4 div.sk-estimator:hover label.sk-toggleable__label-arrow:before {color: black;}#sk-container-id-4 div.sk-toggleable__content {max-height: 0;max-width: 0;overflow: hidden;text-align: left;background-color: #f0f8ff;}#sk-container-id-4 div.sk-toggleable__content pre {margin: 0.2em;color: black;border-radius: 0.25em;background-color: #f0f8ff;}#sk-container-id-4 input.sk-toggleable__control:checked~div.sk-toggleable__content {max-height: 200px;max-width: 100%;overflow: auto;}#sk-container-id-4 input.sk-toggleable__control:checked~label.sk-toggleable__label-arrow:before {content: \"▾\";}#sk-container-id-4 div.sk-estimator input.sk-toggleable__control:checked~label.sk-toggleable__label {background-color: #d4ebff;}#sk-container-id-4 div.sk-label input.sk-toggleable__control:checked~label.sk-toggleable__label {background-color: #d4ebff;}#sk-container-id-4 input.sk-hidden--visually {border: 0;clip: rect(1px 1px 1px 1px);clip: rect(1px, 1px, 1px, 1px);height: 1px;margin: -1px;overflow: hidden;padding: 0;position: absolute;width: 1px;}#sk-container-id-4 div.sk-estimator {font-family: monospace;background-color: #f0f8ff;border: 1px dotted black;border-radius: 0.25em;box-sizing: border-box;margin-bottom: 0.5em;}#sk-container-id-4 div.sk-estimator:hover {background-color: #d4ebff;}#sk-container-id-4 div.sk-parallel-item::after {content: \"\";width: 100%;border-bottom: 1px solid gray;flex-grow: 1;}#sk-container-id-4 div.sk-label:hover label.sk-toggleable__label {background-color: #d4ebff;}#sk-container-id-4 div.sk-serial::before {content: \"\";position: absolute;border-left: 1px solid gray;box-sizing: border-box;top: 0;bottom: 0;left: 50%;z-index: 0;}#sk-container-id-4 div.sk-serial {display: flex;flex-direction: column;align-items: center;background-color: white;padding-right: 0.2em;padding-left: 0.2em;position: relative;}#sk-container-id-4 div.sk-item {position: relative;z-index: 1;}#sk-container-id-4 div.sk-parallel {display: flex;align-items: stretch;justify-content: center;background-color: white;position: relative;}#sk-container-id-4 div.sk-item::before, #sk-container-id-4 div.sk-parallel-item::before {content: \"\";position: absolute;border-left: 1px solid gray;box-sizing: border-box;top: 0;bottom: 0;left: 50%;z-index: -1;}#sk-container-id-4 div.sk-parallel-item {display: flex;flex-direction: column;z-index: 1;position: relative;background-color: white;}#sk-container-id-4 div.sk-parallel-item:first-child::after {align-self: flex-end;width: 50%;}#sk-container-id-4 div.sk-parallel-item:last-child::after {align-self: flex-start;width: 50%;}#sk-container-id-4 div.sk-parallel-item:only-child::after {width: 0;}#sk-container-id-4 div.sk-dashed-wrapped {border: 1px dashed gray;margin: 0 0.4em 0.5em 0.4em;box-sizing: border-box;padding-bottom: 0.4em;background-color: white;}#sk-container-id-4 div.sk-label label {font-family: monospace;font-weight: bold;display: inline-block;line-height: 1.2em;}#sk-container-id-4 div.sk-label-container {text-align: center;}#sk-container-id-4 div.sk-container {/* jupyter's `normalize.less` sets `[hidden] { display: none; }` but bootstrap.min.css set `[hidden] { display: none !important; }` so we also need the `!important` here to be able to override the default hidden behavior on the sphinx rendered scikit-learn.org. See: https://github.com/scikit-learn/scikit-learn/issues/21755 */display: inline-block !important;position: relative;}#sk-container-id-4 div.sk-text-repr-fallback {display: none;}</style><div id=\"sk-container-id-4\" class=\"sk-top-container\"><div class=\"sk-text-repr-fallback\"><pre>RandomForestClassifier(n_estimators=159)</pre><b>In a Jupyter environment, please rerun this cell to show the HTML representation or trust the notebook. <br />On GitHub, the HTML representation is unable to render, please try loading this page with nbviewer.org.</b></div><div class=\"sk-container\" hidden><div class=\"sk-item\"><div class=\"sk-estimator sk-toggleable\"><input class=\"sk-toggleable__control sk-hidden--visually\" id=\"sk-estimator-id-4\" type=\"checkbox\" checked><label for=\"sk-estimator-id-4\" class=\"sk-toggleable__label sk-toggleable__label-arrow\">RandomForestClassifier</label><div class=\"sk-toggleable__content\"><pre>RandomForestClassifier(n_estimators=159)</pre></div></div></div></div></div>"
            ],
            "text/plain": [
              "RandomForestClassifier(n_estimators=159)"
            ]
          },
          "execution_count": 66,
          "metadata": {},
          "output_type": "execute_result"
        }
      ],
      "source": [
        "from sklearn.ensemble import RandomForestClassifier\n",
        "model_cat_2 = RandomForestClassifier(n_estimators = estimated_trees) \n",
        "model_cat_2.fit(X_train_features, Y_train)"
      ]
    },
    {
      "cell_type": "code",
      "execution_count": null,
      "metadata": {
        "id": "09U-b2X7YrPG",
        "outputId": "00ba2dc7-0a56-427b-e296-7e64619585df"
      },
      "outputs": [
        {
          "name": "stdout",
          "output_type": "stream",
          "text": [
            "0.9992125364201906\n"
          ]
        }
      ],
      "source": [
        "#Predicting On Training Data\n",
        "\n",
        "from sklearn.metrics import accuracy_score    \n",
        "\n",
        "prediction_on_training_data = model_cat_2.predict(X_train_features)\n",
        "accuracy_on_training_data = accuracy_score(Y_train , prediction_on_training_data)\n",
        "print(accuracy_on_training_data)"
      ]
    },
    {
      "cell_type": "code",
      "execution_count": null,
      "metadata": {
        "id": "N0e27LQ9YrPG",
        "outputId": "a810890c-e250-47b7-8850-658c25371615"
      },
      "outputs": [
        {
          "name": "stdout",
          "output_type": "stream",
          "text": [
            "0.8215893431327514\n"
          ]
        }
      ],
      "source": [
        "#Predicting On Testing Data\n",
        "\n",
        "prediction_on_testing_data = model.predict(X_test_features)\n",
        "accuracy_on_testing_data = accuracy_score(Y_test , prediction_on_testing_data)\n",
        "print(accuracy_on_testing_data)"
      ]
    },
    {
      "cell_type": "code",
      "execution_count": null,
      "metadata": {
        "id": "WalRK70pYrPG"
      },
      "outputs": [],
      "source": [
        "from sklearn import metrics\n",
        "from sklearn.metrics import confusion_matrix\n",
        "\n",
        "print('Accuracy score with Random Forest Classifier is : ')\n",
        "print(metrics.accuracy_score(Y_test, prediction_on_testing_data)*100)\n",
        "mat = confusion_matrix(Y_test, prediction_on_testing_data)\n",
        "print(mat)"
      ]
    },
    {
      "cell_type": "markdown",
      "metadata": {
        "id": "p7EgJUy0YrPG"
      },
      "source": [
        "# CATEGORY LEVEL 3"
      ]
    },
    {
      "cell_type": "code",
      "execution_count": null,
      "metadata": {
        "id": "Vbhnmw8zYrPG"
      },
      "outputs": [],
      "source": [
        "X = train_df_imputed['Title_desc']\n",
        "Y1 = train_df_imputed['category_lvl1']\n",
        "Y2 = train_df_imputed['category_lvl2']\n",
        "Y3 = train_df_imputed['category_lvl3']\n",
        "X_train, X_test , Y_train , Y_test = train_test_split(X, Y3, test_size = 0.3, random_state=3 , stratify = Y2)"
      ]
    },
    {
      "cell_type": "code",
      "execution_count": null,
      "metadata": {
        "id": "WcnMwijNYrPG"
      },
      "outputs": [],
      "source": [
        "from sklearn.feature_extraction.text import TfidfVectorizer\n",
        "\n",
        "feature_extraction = TfidfVectorizer(min_df = 1, stop_words = 'english' , lowercase = 'True')\n",
        "\n",
        "X_train_features = feature_extraction.fit_transform(X_train.values.astype('U'))\n",
        "X_test_features = feature_extraction.transform(X_test.values.astype('U'))"
      ]
    },
    {
      "cell_type": "code",
      "execution_count": null,
      "metadata": {
        "id": "PR_W5CH1YrPG",
        "outputId": "164ed0e8-d1b3-4b24-a208-eab5c21f0f9e"
      },
      "outputs": [
        {
          "name": "stdout",
          "output_type": "stream",
          "text": [
            "159\n"
          ]
        }
      ],
      "source": [
        "import math\n",
        "X_train.shape\n",
        "number_of_trees = X_train.shape\n",
        "estimated_trees = math.sqrt(number_of_trees[0])\n",
        "estimated_trees = int(math.floor(estimated_trees))\n",
        "print(estimated_trees)"
      ]
    },
    {
      "cell_type": "code",
      "execution_count": null,
      "metadata": {
        "id": "6Bf2C-KrYrPH",
        "outputId": "d39b32e1-3856-4caa-d7af-b471cd4fb468"
      },
      "outputs": [
        {
          "data": {
            "text/html": [
              "<style>#sk-container-id-1 {color: black;background-color: white;}#sk-container-id-1 pre{padding: 0;}#sk-container-id-1 div.sk-toggleable {background-color: white;}#sk-container-id-1 label.sk-toggleable__label {cursor: pointer;display: block;width: 100%;margin-bottom: 0;padding: 0.3em;box-sizing: border-box;text-align: center;}#sk-container-id-1 label.sk-toggleable__label-arrow:before {content: \"▸\";float: left;margin-right: 0.25em;color: #696969;}#sk-container-id-1 label.sk-toggleable__label-arrow:hover:before {color: black;}#sk-container-id-1 div.sk-estimator:hover label.sk-toggleable__label-arrow:before {color: black;}#sk-container-id-1 div.sk-toggleable__content {max-height: 0;max-width: 0;overflow: hidden;text-align: left;background-color: #f0f8ff;}#sk-container-id-1 div.sk-toggleable__content pre {margin: 0.2em;color: black;border-radius: 0.25em;background-color: #f0f8ff;}#sk-container-id-1 input.sk-toggleable__control:checked~div.sk-toggleable__content {max-height: 200px;max-width: 100%;overflow: auto;}#sk-container-id-1 input.sk-toggleable__control:checked~label.sk-toggleable__label-arrow:before {content: \"▾\";}#sk-container-id-1 div.sk-estimator input.sk-toggleable__control:checked~label.sk-toggleable__label {background-color: #d4ebff;}#sk-container-id-1 div.sk-label input.sk-toggleable__control:checked~label.sk-toggleable__label {background-color: #d4ebff;}#sk-container-id-1 input.sk-hidden--visually {border: 0;clip: rect(1px 1px 1px 1px);clip: rect(1px, 1px, 1px, 1px);height: 1px;margin: -1px;overflow: hidden;padding: 0;position: absolute;width: 1px;}#sk-container-id-1 div.sk-estimator {font-family: monospace;background-color: #f0f8ff;border: 1px dotted black;border-radius: 0.25em;box-sizing: border-box;margin-bottom: 0.5em;}#sk-container-id-1 div.sk-estimator:hover {background-color: #d4ebff;}#sk-container-id-1 div.sk-parallel-item::after {content: \"\";width: 100%;border-bottom: 1px solid gray;flex-grow: 1;}#sk-container-id-1 div.sk-label:hover label.sk-toggleable__label {background-color: #d4ebff;}#sk-container-id-1 div.sk-serial::before {content: \"\";position: absolute;border-left: 1px solid gray;box-sizing: border-box;top: 0;bottom: 0;left: 50%;z-index: 0;}#sk-container-id-1 div.sk-serial {display: flex;flex-direction: column;align-items: center;background-color: white;padding-right: 0.2em;padding-left: 0.2em;position: relative;}#sk-container-id-1 div.sk-item {position: relative;z-index: 1;}#sk-container-id-1 div.sk-parallel {display: flex;align-items: stretch;justify-content: center;background-color: white;position: relative;}#sk-container-id-1 div.sk-item::before, #sk-container-id-1 div.sk-parallel-item::before {content: \"\";position: absolute;border-left: 1px solid gray;box-sizing: border-box;top: 0;bottom: 0;left: 50%;z-index: -1;}#sk-container-id-1 div.sk-parallel-item {display: flex;flex-direction: column;z-index: 1;position: relative;background-color: white;}#sk-container-id-1 div.sk-parallel-item:first-child::after {align-self: flex-end;width: 50%;}#sk-container-id-1 div.sk-parallel-item:last-child::after {align-self: flex-start;width: 50%;}#sk-container-id-1 div.sk-parallel-item:only-child::after {width: 0;}#sk-container-id-1 div.sk-dashed-wrapped {border: 1px dashed gray;margin: 0 0.4em 0.5em 0.4em;box-sizing: border-box;padding-bottom: 0.4em;background-color: white;}#sk-container-id-1 div.sk-label label {font-family: monospace;font-weight: bold;display: inline-block;line-height: 1.2em;}#sk-container-id-1 div.sk-label-container {text-align: center;}#sk-container-id-1 div.sk-container {/* jupyter's `normalize.less` sets `[hidden] { display: none; }` but bootstrap.min.css set `[hidden] { display: none !important; }` so we also need the `!important` here to be able to override the default hidden behavior on the sphinx rendered scikit-learn.org. See: https://github.com/scikit-learn/scikit-learn/issues/21755 */display: inline-block !important;position: relative;}#sk-container-id-1 div.sk-text-repr-fallback {display: none;}</style><div id=\"sk-container-id-1\" class=\"sk-top-container\"><div class=\"sk-text-repr-fallback\"><pre>RandomForestClassifier(n_estimators=159)</pre><b>In a Jupyter environment, please rerun this cell to show the HTML representation or trust the notebook. <br />On GitHub, the HTML representation is unable to render, please try loading this page with nbviewer.org.</b></div><div class=\"sk-container\" hidden><div class=\"sk-item\"><div class=\"sk-estimator sk-toggleable\"><input class=\"sk-toggleable__control sk-hidden--visually\" id=\"sk-estimator-id-1\" type=\"checkbox\" checked><label for=\"sk-estimator-id-1\" class=\"sk-toggleable__label sk-toggleable__label-arrow\">RandomForestClassifier</label><div class=\"sk-toggleable__content\"><pre>RandomForestClassifier(n_estimators=159)</pre></div></div></div></div></div>"
            ],
            "text/plain": [
              "RandomForestClassifier(n_estimators=159)"
            ]
          },
          "execution_count": 11,
          "metadata": {},
          "output_type": "execute_result"
        }
      ],
      "source": [
        "from sklearn.ensemble import RandomForestClassifier\n",
        "model_cat_3 = RandomForestClassifier(n_estimators = estimated_trees) \n",
        "model_cat_3.fit(X_train_features, Y_train)"
      ]
    },
    {
      "cell_type": "code",
      "execution_count": null,
      "metadata": {
        "id": "RiZeO7bNYrPH",
        "outputId": "0479e370-d7f7-409b-c0dd-cf616d1d620b"
      },
      "outputs": [
        {
          "name": "stdout",
          "output_type": "stream",
          "text": [
            "0.9990156705252382\n"
          ]
        }
      ],
      "source": [
        "#Predicting On Training Data\n",
        "\n",
        "from sklearn.metrics import accuracy_score    \n",
        "\n",
        "prediction_on_training_data = model_cat_3.predict(X_train_features)\n",
        "accuracy_on_training_data = accuracy_score(Y_train , prediction_on_training_data)\n",
        "print(accuracy_on_training_data)"
      ]
    },
    {
      "cell_type": "code",
      "execution_count": null,
      "metadata": {
        "id": "bYmumEwrYrPH",
        "outputId": "2788e385-605e-4bf6-f33e-ff068dd76bc8"
      },
      "outputs": [
        {
          "name": "stdout",
          "output_type": "stream",
          "text": [
            "0.733210840606339\n"
          ]
        }
      ],
      "source": [
        "#Predicting On Testing Data\n",
        "\n",
        "prediction_on_testing_data = model_cat_3.predict(X_test_features)\n",
        "accuracy_on_testing_data = accuracy_score(Y_test , prediction_on_testing_data)\n",
        "print(accuracy_on_testing_data)"
      ]
    },
    {
      "cell_type": "code",
      "execution_count": null,
      "metadata": {
        "id": "tDyeBEt3YrPH",
        "outputId": "8d0218f1-98c1-414b-fc98-db1180383266"
      },
      "outputs": [
        {
          "name": "stdout",
          "output_type": "stream",
          "text": [
            "Accuracy score with Random Forest Classifier is : \n",
            "73.32108406063391\n",
            "[[  5   0   0 ...   0   0   0]\n",
            " [  0 106   0 ...   0   0   1]\n",
            " [  0   0  13 ...   0   0   0]\n",
            " ...\n",
            " [  0   0   0 ...  16   1   0]\n",
            " [  0   0   0 ...   0   7   0]\n",
            " [  0   0   0 ...   0   0  19]]\n"
          ]
        }
      ],
      "source": [
        "from sklearn import metrics\n",
        "from sklearn.metrics import confusion_matrix\n",
        "\n",
        "print('Accuracy score with Random Forest Classifier is : ')\n",
        "print(metrics.accuracy_score(Y_test, prediction_on_testing_data)*100)\n",
        "mat = confusion_matrix(Y_test, prediction_on_testing_data)\n",
        "print(mat)"
      ]
    },
    {
      "cell_type": "markdown",
      "metadata": {
        "id": "BsBxNEbfYrPH"
      },
      "source": [
        "# TESTING DATA CLEANING"
      ]
    },
    {
      "cell_type": "code",
      "execution_count": null,
      "metadata": {
        "colab": {
          "base_uri": "https://localhost:8080/"
        },
        "id": "5zZHs0kcYrPH",
        "outputId": "7e104a98-7ebd-4b0d-f18f-61629ef2a11f"
      },
      "outputs": [
        {
          "output_type": "stream",
          "name": "stdout",
          "text": [
            "0        Apple MacBook Pro MGXC2ZP/A 16GB i7 15.4-inch ...\n",
            "1        BRAND'S® American Ginseng Triple Pack (3x 6's)...\n",
            "2        Canon EOS M10 Mirrorless Digital Camera 18MP w...\n",
            "3        Dell LED Monitor 23\" (E2316H) <div class=\"prod...\n",
            "4        Esprit Tallac Brave Nubuck Sand ES107601001 Be...\n",
            "                               ...                        \n",
            "11833    Olen Swarovski Crystal ElementsLove Birds Aust...\n",
            "11834    Adele Bethany BLACK Small ladies Shoulder bag ...\n",
            "11835    Spigen Neo Hybrid Series Case for iPhone 7 Plu...\n",
            "11836    Anti-wrinkle Backdrop for Photo Studio Photogr...\n",
            "11837    Waterproof 170° Rear View Parking Car Camera w...\n",
            "Name: titleDescp, Length: 11838, dtype: object\n",
            "                  category_lvl1         category_lvl2 category_lvl3  \\\n",
            "0           Computers & Laptops               Laptops      Macbooks   \n",
            "1               Health & Beauty      Food Supplements    Well Being   \n",
            "2                       Cameras            Mirrorless           NaN   \n",
            "3           Computers & Laptops  Computer Accessories      Monitors   \n",
            "4  Watches Sunglasses Jewellery               Watches           Men   \n",
            "\n",
            "                                          titleDescp  \n",
            "0  appl macbook pro mgxc zp gb inch retina displa...  \n",
            "1  brand american ginseng tripl pack x bottl x gm...  \n",
            "2  canon eo mirrorless digit camera mp mm len whi...  \n",
            "3  dell led monitor e h div class prod content di...  \n",
            "4  esprit tallac brave nubuck sand es beig leathe...  \n"
          ]
        }
      ],
      "source": [
        "labels=[\"country\", \"sku_id\", \"title\", \"category_lvl1\",\"category_lvl2\",\"category_lvl3\", \"description\", \"price\", \"type\"]\n",
        "\n",
        "def getTestingDataset():\n",
        "    return pd.read_csv('/content/drive/MyDrive/Product-Title-Classification/data_valid.csv', header=None, names=labels)  \n",
        "\n",
        "raw_test_data = getTestingDataset()\n",
        "test_df,Y1,Y2,Y3= Utilities.Cleaning_Data_Utility(raw_test_data) #Utilities. hatadena yahan se \n",
        "print(test_df.head())"
      ]
    },
    {
      "cell_type": "code",
      "source": [
        "def NullStatistics(df):\n",
        "    missing_val = df.isnull().sum()\n",
        "    print(missing_val)\n",
        "    total_cells = np.product(df.shape)\n",
        "    missing_percent = (missing_val.sum()/total_cells) *100\n",
        "    print(f'\\nThe missing data percent is: {missing_percent}')\n",
        "\n",
        "NullStatistics(test_df)\n",
        "\n",
        "unique_label_c1, unique_label_c2, unique_label_c3 = KNNImpute.preserve_label(test_df) #It has all unique values lying in ctg1 , 2 , 3 column\n",
        "KNNImpute.encode(['category_lvl1', 'category_lvl2', 'category_lvl3'],test_df)        #Performed encoding for CTGLVL3 KNN\n",
        "test_df_imputed = KNNImpute.impute(test_df)\n",
        "test_df_imputed =  KNNImpute.clean_csv(test_df_imputed,test_df)\n",
        "NullStatistics(test_df_imputed)"
      ],
      "metadata": {
        "colab": {
          "base_uri": "https://localhost:8080/"
        },
        "id": "c2WE6Gitbm7t",
        "outputId": "fbe26c73-3078-468a-8290-43066238ba18"
      },
      "execution_count": null,
      "outputs": [
        {
          "output_type": "stream",
          "name": "stdout",
          "text": [
            "category_lvl1      0\n",
            "category_lvl2      0\n",
            "category_lvl3    687\n",
            "titleDescp         0\n",
            "dtype: int64\n",
            "\n",
            "The missing data percent is: 1.4508362899138367\n"
          ]
        },
        {
          "output_type": "stream",
          "name": "stderr",
          "text": [
            "/usr/local/lib/python3.7/dist-packages/sklearn/preprocessing/_label.py:115: DataConversionWarning: A column-vector y was passed when a 1d array was expected. Please change the shape of y to (n_samples, ), for example using ravel().\n",
            "  y = column_or_1d(y, warn=True)\n"
          ]
        },
        {
          "output_type": "stream",
          "name": "stdout",
          "text": [
            "category_lvl1    0\n",
            "category_lvl2    0\n",
            "category_lvl3    0\n",
            "Title_desc       0\n",
            "dtype: int64\n",
            "\n",
            "The missing data percent is: 0.0\n"
          ]
        }
      ]
    },
    {
      "cell_type": "markdown",
      "metadata": {
        "id": "JPkQrTsTYrPI"
      },
      "source": [
        "# CATEGORY LEVEL 1"
      ]
    },
    {
      "cell_type": "code",
      "source": [
        "test_df.head()"
      ],
      "metadata": {
        "colab": {
          "base_uri": "https://localhost:8080/",
          "height": 206
        },
        "id": "gE4Mw1XmcMOu",
        "outputId": "f5c7d03d-c9b4-4538-857c-d3d893d3e9ed"
      },
      "execution_count": null,
      "outputs": [
        {
          "output_type": "execute_result",
          "data": {
            "text/plain": [
              "  category_lvl1 category_lvl2 category_lvl3  \\\n",
              "0             1            29            98   \n",
              "1             3            15           177   \n",
              "2             0            37           NaN   \n",
              "3             1             8           112   \n",
              "4             8            54           106   \n",
              "\n",
              "                                          titleDescp  \n",
              "0  appl macbook pro mgxc zp gb inch retina displa...  \n",
              "1  brand american ginseng tripl pack x bottl x gm...  \n",
              "2  canon eo mirrorless digit camera mp mm len whi...  \n",
              "3  dell led monitor e h div class prod content di...  \n",
              "4  esprit tallac brave nubuck sand es beig leathe...  "
            ],
            "text/html": [
              "\n",
              "  <div id=\"df-07574ed3-c761-49bf-9068-f3eb8d30ffb5\">\n",
              "    <div class=\"colab-df-container\">\n",
              "      <div>\n",
              "<style scoped>\n",
              "    .dataframe tbody tr th:only-of-type {\n",
              "        vertical-align: middle;\n",
              "    }\n",
              "\n",
              "    .dataframe tbody tr th {\n",
              "        vertical-align: top;\n",
              "    }\n",
              "\n",
              "    .dataframe thead th {\n",
              "        text-align: right;\n",
              "    }\n",
              "</style>\n",
              "<table border=\"1\" class=\"dataframe\">\n",
              "  <thead>\n",
              "    <tr style=\"text-align: right;\">\n",
              "      <th></th>\n",
              "      <th>category_lvl1</th>\n",
              "      <th>category_lvl2</th>\n",
              "      <th>category_lvl3</th>\n",
              "      <th>titleDescp</th>\n",
              "    </tr>\n",
              "  </thead>\n",
              "  <tbody>\n",
              "    <tr>\n",
              "      <th>0</th>\n",
              "      <td>1</td>\n",
              "      <td>29</td>\n",
              "      <td>98</td>\n",
              "      <td>appl macbook pro mgxc zp gb inch retina displa...</td>\n",
              "    </tr>\n",
              "    <tr>\n",
              "      <th>1</th>\n",
              "      <td>3</td>\n",
              "      <td>15</td>\n",
              "      <td>177</td>\n",
              "      <td>brand american ginseng tripl pack x bottl x gm...</td>\n",
              "    </tr>\n",
              "    <tr>\n",
              "      <th>2</th>\n",
              "      <td>0</td>\n",
              "      <td>37</td>\n",
              "      <td>NaN</td>\n",
              "      <td>canon eo mirrorless digit camera mp mm len whi...</td>\n",
              "    </tr>\n",
              "    <tr>\n",
              "      <th>3</th>\n",
              "      <td>1</td>\n",
              "      <td>8</td>\n",
              "      <td>112</td>\n",
              "      <td>dell led monitor e h div class prod content di...</td>\n",
              "    </tr>\n",
              "    <tr>\n",
              "      <th>4</th>\n",
              "      <td>8</td>\n",
              "      <td>54</td>\n",
              "      <td>106</td>\n",
              "      <td>esprit tallac brave nubuck sand es beig leathe...</td>\n",
              "    </tr>\n",
              "  </tbody>\n",
              "</table>\n",
              "</div>\n",
              "      <button class=\"colab-df-convert\" onclick=\"convertToInteractive('df-07574ed3-c761-49bf-9068-f3eb8d30ffb5')\"\n",
              "              title=\"Convert this dataframe to an interactive table.\"\n",
              "              style=\"display:none;\">\n",
              "        \n",
              "  <svg xmlns=\"http://www.w3.org/2000/svg\" height=\"24px\"viewBox=\"0 0 24 24\"\n",
              "       width=\"24px\">\n",
              "    <path d=\"M0 0h24v24H0V0z\" fill=\"none\"/>\n",
              "    <path d=\"M18.56 5.44l.94 2.06.94-2.06 2.06-.94-2.06-.94-.94-2.06-.94 2.06-2.06.94zm-11 1L8.5 8.5l.94-2.06 2.06-.94-2.06-.94L8.5 2.5l-.94 2.06-2.06.94zm10 10l.94 2.06.94-2.06 2.06-.94-2.06-.94-.94-2.06-.94 2.06-2.06.94z\"/><path d=\"M17.41 7.96l-1.37-1.37c-.4-.4-.92-.59-1.43-.59-.52 0-1.04.2-1.43.59L10.3 9.45l-7.72 7.72c-.78.78-.78 2.05 0 2.83L4 21.41c.39.39.9.59 1.41.59.51 0 1.02-.2 1.41-.59l7.78-7.78 2.81-2.81c.8-.78.8-2.07 0-2.86zM5.41 20L4 18.59l7.72-7.72 1.47 1.35L5.41 20z\"/>\n",
              "  </svg>\n",
              "      </button>\n",
              "      \n",
              "  <style>\n",
              "    .colab-df-container {\n",
              "      display:flex;\n",
              "      flex-wrap:wrap;\n",
              "      gap: 12px;\n",
              "    }\n",
              "\n",
              "    .colab-df-convert {\n",
              "      background-color: #E8F0FE;\n",
              "      border: none;\n",
              "      border-radius: 50%;\n",
              "      cursor: pointer;\n",
              "      display: none;\n",
              "      fill: #1967D2;\n",
              "      height: 32px;\n",
              "      padding: 0 0 0 0;\n",
              "      width: 32px;\n",
              "    }\n",
              "\n",
              "    .colab-df-convert:hover {\n",
              "      background-color: #E2EBFA;\n",
              "      box-shadow: 0px 1px 2px rgba(60, 64, 67, 0.3), 0px 1px 3px 1px rgba(60, 64, 67, 0.15);\n",
              "      fill: #174EA6;\n",
              "    }\n",
              "\n",
              "    [theme=dark] .colab-df-convert {\n",
              "      background-color: #3B4455;\n",
              "      fill: #D2E3FC;\n",
              "    }\n",
              "\n",
              "    [theme=dark] .colab-df-convert:hover {\n",
              "      background-color: #434B5C;\n",
              "      box-shadow: 0px 1px 3px 1px rgba(0, 0, 0, 0.15);\n",
              "      filter: drop-shadow(0px 1px 2px rgba(0, 0, 0, 0.3));\n",
              "      fill: #FFFFFF;\n",
              "    }\n",
              "  </style>\n",
              "\n",
              "      <script>\n",
              "        const buttonEl =\n",
              "          document.querySelector('#df-07574ed3-c761-49bf-9068-f3eb8d30ffb5 button.colab-df-convert');\n",
              "        buttonEl.style.display =\n",
              "          google.colab.kernel.accessAllowed ? 'block' : 'none';\n",
              "\n",
              "        async function convertToInteractive(key) {\n",
              "          const element = document.querySelector('#df-07574ed3-c761-49bf-9068-f3eb8d30ffb5');\n",
              "          const dataTable =\n",
              "            await google.colab.kernel.invokeFunction('convertToInteractive',\n",
              "                                                     [key], {});\n",
              "          if (!dataTable) return;\n",
              "\n",
              "          const docLinkHtml = 'Like what you see? Visit the ' +\n",
              "            '<a target=\"_blank\" href=https://colab.research.google.com/notebooks/data_table.ipynb>data table notebook</a>'\n",
              "            + ' to learn more about interactive tables.';\n",
              "          element.innerHTML = '';\n",
              "          dataTable['output_type'] = 'display_data';\n",
              "          await google.colab.output.renderOutput(dataTable, element);\n",
              "          const docLink = document.createElement('div');\n",
              "          docLink.innerHTML = docLinkHtml;\n",
              "          element.appendChild(docLink);\n",
              "        }\n",
              "      </script>\n",
              "    </div>\n",
              "  </div>\n",
              "  "
            ]
          },
          "metadata": {},
          "execution_count": 46
        }
      ]
    },
    {
      "cell_type": "code",
      "execution_count": null,
      "metadata": {
        "id": "szTAHhoXYrPI"
      },
      "outputs": [],
      "source": [
        "X = test_df['titleDescp']\n",
        "Y1 = test_df['category_lvl1']\n",
        "Y2 = test_df['category_lvl2']\n",
        "Y3 = test_df['category_lvl3']"
      ]
    },
    {
      "cell_type": "code",
      "execution_count": null,
      "metadata": {
        "id": "iAAc2z6YYrPI"
      },
      "outputs": [],
      "source": [
        "X_test_tfidf = feature_extraction.transform(X)"
      ]
    },
    {
      "cell_type": "code",
      "execution_count": null,
      "metadata": {
        "id": "xfTYKLBuYrPI"
      },
      "outputs": [],
      "source": [
        "#Predicting On Testing Data\n",
        "\n",
        "prediction_on_testing_data = model_cat_1.predict(X_test_tfidf)\n"
      ]
    },
    {
      "cell_type": "code",
      "source": [
        "abc = prediction_on_testing_data.astype(int)"
      ],
      "metadata": {
        "id": "y1PTRpeThMt8"
      },
      "execution_count": null,
      "outputs": []
    },
    {
      "cell_type": "code",
      "source": [
        "abc"
      ],
      "metadata": {
        "colab": {
          "base_uri": "https://localhost:8080/"
        },
        "id": "98X5jh3mjfBb",
        "outputId": "5ad9dc3d-b016-4fc8-f933-2d5394969acc"
      },
      "execution_count": null,
      "outputs": [
        {
          "output_type": "execute_result",
          "data": {
            "text/plain": [
              "array([1, 3, 0, ..., 6, 4, 0])"
            ]
          },
          "metadata": {},
          "execution_count": 74
        }
      ]
    },
    {
      "cell_type": "code",
      "source": [
        "Y1.head()"
      ],
      "metadata": {
        "colab": {
          "base_uri": "https://localhost:8080/"
        },
        "id": "Mhhex-9tjCiq",
        "outputId": "6a335f4d-1138-4898-d18a-10b6e416c41d"
      },
      "execution_count": null,
      "outputs": [
        {
          "output_type": "execute_result",
          "data": {
            "text/plain": [
              "0    1\n",
              "1    3\n",
              "2    0\n",
              "3    1\n",
              "4    8\n",
              "Name: category_lvl1, dtype: object"
            ]
          },
          "metadata": {},
          "execution_count": 70
        }
      ]
    },
    {
      "cell_type": "code",
      "source": [
        "accuracy_on_testing_data = accuracy_score(Y1 , abc)\n",
        "print(accuracy_on_testing_data)"
      ],
      "metadata": {
        "colab": {
          "base_uri": "https://localhost:8080/",
          "height": 328
        },
        "id": "STEtj7qxjLha",
        "outputId": "5587436d-3a2a-4d59-d44d-6cbba05dc979"
      },
      "execution_count": null,
      "outputs": [
        {
          "output_type": "error",
          "ename": "ValueError",
          "evalue": "ignored",
          "traceback": [
            "\u001b[0;31m---------------------------------------------------------------------------\u001b[0m",
            "\u001b[0;31mValueError\u001b[0m                                Traceback (most recent call last)",
            "\u001b[0;32m<ipython-input-75-12e7f5cb3d76>\u001b[0m in \u001b[0;36m<module>\u001b[0;34m()\u001b[0m\n\u001b[0;32m----> 1\u001b[0;31m \u001b[0maccuracy_on_testing_data\u001b[0m \u001b[0;34m=\u001b[0m \u001b[0maccuracy_score\u001b[0m\u001b[0;34m(\u001b[0m\u001b[0mY1\u001b[0m \u001b[0;34m,\u001b[0m \u001b[0mabc\u001b[0m\u001b[0;34m)\u001b[0m\u001b[0;34m\u001b[0m\u001b[0;34m\u001b[0m\u001b[0m\n\u001b[0m\u001b[1;32m      2\u001b[0m \u001b[0mprint\u001b[0m\u001b[0;34m(\u001b[0m\u001b[0maccuracy_on_testing_data\u001b[0m\u001b[0;34m)\u001b[0m\u001b[0;34m\u001b[0m\u001b[0;34m\u001b[0m\u001b[0m\n",
            "\u001b[0;32m/usr/local/lib/python3.7/dist-packages/sklearn/metrics/_classification.py\u001b[0m in \u001b[0;36maccuracy_score\u001b[0;34m(y_true, y_pred, normalize, sample_weight)\u001b[0m\n\u001b[1;32m    209\u001b[0m \u001b[0;34m\u001b[0m\u001b[0m\n\u001b[1;32m    210\u001b[0m     \u001b[0;31m# Compute accuracy for each possible representation\u001b[0m\u001b[0;34m\u001b[0m\u001b[0;34m\u001b[0m\u001b[0;34m\u001b[0m\u001b[0m\n\u001b[0;32m--> 211\u001b[0;31m     \u001b[0my_type\u001b[0m\u001b[0;34m,\u001b[0m \u001b[0my_true\u001b[0m\u001b[0;34m,\u001b[0m \u001b[0my_pred\u001b[0m \u001b[0;34m=\u001b[0m \u001b[0m_check_targets\u001b[0m\u001b[0;34m(\u001b[0m\u001b[0my_true\u001b[0m\u001b[0;34m,\u001b[0m \u001b[0my_pred\u001b[0m\u001b[0;34m)\u001b[0m\u001b[0;34m\u001b[0m\u001b[0;34m\u001b[0m\u001b[0m\n\u001b[0m\u001b[1;32m    212\u001b[0m     \u001b[0mcheck_consistent_length\u001b[0m\u001b[0;34m(\u001b[0m\u001b[0my_true\u001b[0m\u001b[0;34m,\u001b[0m \u001b[0my_pred\u001b[0m\u001b[0;34m,\u001b[0m \u001b[0msample_weight\u001b[0m\u001b[0;34m)\u001b[0m\u001b[0;34m\u001b[0m\u001b[0;34m\u001b[0m\u001b[0m\n\u001b[1;32m    213\u001b[0m     \u001b[0;32mif\u001b[0m \u001b[0my_type\u001b[0m\u001b[0;34m.\u001b[0m\u001b[0mstartswith\u001b[0m\u001b[0;34m(\u001b[0m\u001b[0;34m\"multilabel\"\u001b[0m\u001b[0;34m)\u001b[0m\u001b[0;34m:\u001b[0m\u001b[0;34m\u001b[0m\u001b[0;34m\u001b[0m\u001b[0m\n",
            "\u001b[0;32m/usr/local/lib/python3.7/dist-packages/sklearn/metrics/_classification.py\u001b[0m in \u001b[0;36m_check_targets\u001b[0;34m(y_true, y_pred)\u001b[0m\n\u001b[1;32m     93\u001b[0m         raise ValueError(\n\u001b[1;32m     94\u001b[0m             \"Classification metrics can't handle a mix of {0} and {1} targets\".format(\n\u001b[0;32m---> 95\u001b[0;31m                 \u001b[0mtype_true\u001b[0m\u001b[0;34m,\u001b[0m \u001b[0mtype_pred\u001b[0m\u001b[0;34m\u001b[0m\u001b[0;34m\u001b[0m\u001b[0m\n\u001b[0m\u001b[1;32m     96\u001b[0m             )\n\u001b[1;32m     97\u001b[0m         )\n",
            "\u001b[0;31mValueError\u001b[0m: Classification metrics can't handle a mix of unknown and multiclass targets"
          ]
        }
      ]
    }
  ],
  "metadata": {
    "colab": {
      "collapsed_sections": [],
      "name": "Temp_RFF.ipynb",
      "provenance": []
    },
    "kernelspec": {
      "display_name": "Python 3 (ipykernel)",
      "language": "python",
      "name": "python3"
    },
    "language_info": {
      "codemirror_mode": {
        "name": "ipython",
        "version": 3
      },
      "file_extension": ".py",
      "mimetype": "text/x-python",
      "name": "python",
      "nbconvert_exporter": "python",
      "pygments_lexer": "ipython3",
      "version": "3.8.10"
    }
  },
  "nbformat": 4,
  "nbformat_minor": 0
}