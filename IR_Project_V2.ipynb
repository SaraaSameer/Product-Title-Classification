{
  "nbformat": 4,
  "nbformat_minor": 0,
  "metadata": {
    "colab": {
      "name": "IR-Project-V2.ipynb",
      "provenance": []
    },
    "kernelspec": {
      "name": "python3",
      "display_name": "Python 3"
    },
    "language_info": {
      "name": "python"
    }
  },
  "cells": [
    {
      "cell_type": "code",
      "source": [
        "import sys#THIS IS FOR GOOGLE COLAB USERS ONLY\n",
        "from google.colab import files\n",
        "sys.path.insert(0,'/content/drive/MyDrive/IR-Project-Colab')"
      ],
      "metadata": {
        "id": "OIpzlsY6tkQ2"
      },
      "execution_count": null,
      "outputs": []
    },
    {
      "cell_type": "code",
      "source": [
        "!cp /content/drive/MyDrive/IR-Project-Colab/Utilities.py /content #THIS IS FOR GOOGLE COLAB USERS ONLY\n",
        "!cp /content/drive/MyDrive/IR-Project-Colab/KNNImpute.py /content"
      ],
      "metadata": {
        "id": "YTFbtZ6TuUF5"
      },
      "execution_count": null,
      "outputs": []
    },
    {
      "cell_type": "code",
      "source": [
        "import Utilities  #THIS IS FOR GOOGLE COLAB USERS ONLY\n",
        "import KNNImpute"
      ],
      "metadata": {
        "id": "b9Bn9ZgWfNFa"
      },
      "execution_count": null,
      "outputs": []
    },
    {
      "cell_type": "code",
      "source": [
        "import nltk\n",
        "import numpy as np\n",
        "nltk.download('stopwords')\n",
        "import pandas as pd\n",
        "labels=[\"country\", \"sku_id\", \"title\", \"category_lvl1\",\"category_lvl2\",\"category_lvl3\", \"description\", \"price\", \"type\"]\n",
        "\n",
        "def getTrainingDataset():\n",
        "    return pd.read_csv('data_train.csv', header=None, names=labels)  \n",
        "\n",
        "\n",
        "def NullStatistics(df):\n",
        "    missing_val = df.isnull().sum()\n",
        "    print(missing_val)\n",
        "    total_cells = np.product(df.shape)\n",
        "    missing_percent = (missing_val.sum()/total_cells) *100\n",
        "    print(f'\\nThe missing data percent is: {missing_percent}')\n",
        "\n",
        "trainingDataset=getTrainingDataset()\n",
        "\n",
        "train_df,Y1,Y2,Y3=Utilities.Cleaning_Data_Utility(trainingDataset) #Utilities. hatadena yahan se \n",
        "# print(train_df)\n",
        "\n",
        "NullStatistics(train_df)\n",
        "\n",
        "unique_label_c1, unique_label_c2, unique_label_c3 = KNNImpute.preserve_label(train_df) #It has all unique values lying in ctg1 , 2 , 3 column\n",
        "\n",
        "KNNImpute.encode(['category_lvl1', 'category_lvl2', 'category_lvl3'],train_df)        #Performed encoding for CTGLVL3 KNN\n",
        "\n",
        "train_df_imputed = KNNImpute.impute(train_df)\n",
        "train_df_imputed =  KNNImpute.clean_csv(train_df_imputed,train_df)\n",
        "NullStatistics(train_df_imputed)"
      ],
      "metadata": {
        "id": "Gyf-YFzxekAr"
      },
      "execution_count": null,
      "outputs": []
    },
    {
      "cell_type": "code",
      "source": [
        "from sklearn.feature_extraction.text import TfidfVectorizer   # Turning textual data into numeric for computation\n",
        "X = train_df_imputed['Title_desc']\n",
        "Y1 = train_df_imputed['category_lvl1']\n",
        "Y2 = train_df_imputed['category_lvl2']\n",
        "Y3 = train_df_imputed['category_lvl3']\n",
        "print(Y1)\n",
        "print(X)\n",
        "vectorizer = TfidfVectorizer()\n",
        "vectorizer.fit(X)\n",
        "X_tfidf = vectorizer.transform(X)\n",
        "print(X_tfidf)"
      ],
      "metadata": {
        "colab": {
          "base_uri": "https://localhost:8080/"
        },
        "id": "T6QEyq5ooDvN",
        "outputId": "255e109b-eaaa-47d3-c40a-9e22dfcd2152"
      },
      "execution_count": null,
      "outputs": [
        {
          "output_type": "stream",
          "name": "stdout",
          "text": [
            "0        2.0\n",
            "1        3.0\n",
            "2        7.0\n",
            "3        3.0\n",
            "4        3.0\n",
            "        ... \n",
            "36278    1.0\n",
            "36279    5.0\n",
            "36280    1.0\n",
            "36281    4.0\n",
            "36282    7.0\n",
            "Name: category_lvl1, Length: 36283, dtype: float64\n",
            "0        adana galleri suri squar hijab light pink ul l...\n",
            "1        cuba heartbreak eau de parfum spray ml oz form...\n",
            "2        andoer cm cellphon smartphon mini dual head om...\n",
            "3        anmyna complaint silki set shampoo ml conditio...\n",
            "4        argit argiltubo green clay face bodi ml ul li ...\n",
            "                               ...                        \n",
            "36278    sade k led backlit wire usb mechan game keyboa...\n",
            "36279    sona l electr oven seo ul li nbsp year warrant...\n",
            "36280    op portabl wireless bluetooth speaker hand fre...\n",
            "36281    woot woot tictacto pillow case white ul li cot...\n",
            "36282    new smart wristband smart bracelet heart rate ...\n",
            "Name: Title_desc, Length: 36283, dtype: object\n",
            "  (0, 28913)\t0.07225424844998868\n",
            "  (0, 26966)\t0.37659487115461027\n",
            "  (0, 26075)\t0.1998311858009805\n",
            "  (0, 25125)\t0.09569136097916549\n",
            "  (0, 24730)\t0.2749088614258273\n",
            "  (0, 24685)\t0.24936730479422012\n",
            "  (0, 21057)\t0.1476446166731313\n",
            "  (0, 19162)\t0.1519301323425332\n",
            "  (0, 16922)\t0.0780089820671493\n",
            "  (0, 15867)\t0.12476995284687205\n",
            "  (0, 15802)\t0.216601402357855\n",
            "  (0, 13585)\t0.26353252165855096\n",
            "  (0, 12712)\t0.28221774410096967\n",
            "  (0, 11066)\t0.31718340705761777\n",
            "  (0, 8884)\t0.20669140444780615\n",
            "  (0, 6559)\t0.16898535529139208\n",
            "  (0, 6539)\t0.21996803699368137\n",
            "  (0, 4947)\t0.20363684473882185\n",
            "  (0, 274)\t0.37659487115461027\n",
            "  (1, 27650)\t0.1629724724469635\n",
            "  (1, 26013)\t0.18366254623451603\n",
            "  (1, 25585)\t0.11212950375728589\n",
            "  (1, 25458)\t0.14501959261082673\n",
            "  (1, 25171)\t0.12734650666253478\n",
            "  (1, 23192)\t0.20554347993281055\n",
            "  :\t:\n",
            "  (36282, 12161)\t0.05780549124389509\n",
            "  (36282, 11830)\t0.05825536109758337\n",
            "  (36282, 11320)\t0.12069189206309493\n",
            "  (36282, 10944)\t0.052211882696263825\n",
            "  (36282, 10132)\t0.04890810200698313\n",
            "  (36282, 9423)\t0.09519421277329085\n",
            "  (36282, 7566)\t0.2296095837640153\n",
            "  (36282, 7546)\t0.16506659317108185\n",
            "  (36282, 6658)\t0.0713211391671284\n",
            "  (36282, 5938)\t0.052659396224827425\n",
            "  (36282, 5710)\t0.05109163575984841\n",
            "  (36282, 4045)\t0.278963602350648\n",
            "  (36282, 4023)\t0.07475566750827757\n",
            "  (36282, 4006)\t0.10639122067157139\n",
            "  (36282, 3825)\t0.12831497534741287\n",
            "  (36282, 3822)\t0.08942373930893509\n",
            "  (36282, 3551)\t0.14654091619489876\n",
            "  (36282, 3431)\t0.06688679555603681\n",
            "  (36282, 3132)\t0.06093927143515811\n",
            "  (36282, 2288)\t0.12113797673844014\n",
            "  (36282, 1959)\t0.0665353600443563\n",
            "  (36282, 1109)\t0.18820730037820457\n",
            "  (36282, 645)\t0.07547548750826906\n",
            "  (36282, 237)\t0.07458974591153449\n",
            "  (36282, 177)\t0.09596402180067315\n"
          ]
        }
      ]
    },
    {
      "cell_type": "markdown",
      "source": [
        "***CATEGORY 1 ***"
      ],
      "metadata": {
        "id": "tntadjFIdYvS"
      }
    },
    {
      "cell_type": "code",
      "source": [
        "from sklearn.svm import SVC\n",
        "from sklearn.model_selection import train_test_split\n",
        "from sklearn.preprocessing import StandardScaler\n",
        "\n",
        "X_train, X_test, y_train, y_test = train_test_split(X_tfidf, Y2, test_size=0.3, random_state=42)\n",
        "print(y_train)\n",
        "print (X_train.shape)\n",
        "print (X_test.shape)\n",
        "\n",
        "SVM_Classfier=SVC(kernel='linear' , random_state=0)\n",
        "SVM_Classfier.fit(X_train,y_train)\n",
        "Y_Pred=SVM_Classfier.predict(X_test)\n",
        "print(Y_Pred)"
      ],
      "metadata": {
        "colab": {
          "base_uri": "https://localhost:8080/"
        },
        "id": "gUb0hZ5Jwlu4",
        "outputId": "9e0f2ad8-9469-42ca-b6ea-f72615ca9070"
      },
      "execution_count": null,
      "outputs": [
        {
          "output_type": "stream",
          "name": "stdout",
          "text": [
            "30176    56.0\n",
            "22940    32.0\n",
            "13208    32.0\n",
            "15075    25.0\n",
            "1106     45.0\n",
            "         ... \n",
            "16850    56.0\n",
            "6265      0.0\n",
            "11284     1.0\n",
            "860       5.0\n",
            "15795    40.0\n",
            "Name: category_lvl2, Length: 25398, dtype: float64\n",
            "(25398, 31798)\n",
            "(10885, 31798)\n",
            "[27. 37. 27. ... 54.  0. 25.]\n"
          ]
        }
      ]
    },
    {
      "cell_type": "code",
      "source": [
        "from sklearn import metrics\n",
        "# import matplotlib.pyplot as plt\n",
        "from sklearn.metrics import confusion_matrix\n",
        "# import seaborn as sns\n",
        "\n",
        "print('Accuracy score with linear kernel is : ')\n",
        "print(metrics.accuracy_score(y_test,Y_Pred)*100)\n",
        "mat = confusion_matrix(y_test, Y_Pred)\n",
        "print(mat)\n",
        "\n",
        "\n"
      ],
      "metadata": {
        "colab": {
          "base_uri": "https://localhost:8080/"
        },
        "id": "AtHdroeXnzpE",
        "outputId": "b1102bdb-18b1-43bd-b33b-1806dbdf3492"
      },
      "execution_count": null,
      "outputs": [
        {
          "output_type": "stream",
          "name": "stdout",
          "text": [
            "Accuracy score with linear kernel is : \n",
            "84.12494258153423\n",
            "[[1974    7    0 ...    0    3    7]\n",
            " [  29  282    0 ...    0    1    3]\n",
            " [   2    0   38 ...    0    0    6]\n",
            " ...\n",
            " [   7    0    0 ...  608    2    4]\n",
            " [  13    4    0 ...    6  124    2]\n",
            " [   3    2    0 ...    0    0 1167]]\n"
          ]
        }
      ]
    }
  ]
}