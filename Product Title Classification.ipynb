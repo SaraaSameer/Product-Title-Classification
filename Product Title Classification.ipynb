{
 "cells": [
  {
   "cell_type": "code",
   "execution_count": 1,
   "id": "ab0a288f",
   "metadata": {},
   "outputs": [],
   "source": [
    "# Importing Libraries\n",
    "\n",
    "import numpy as np\n",
    "import pandas as pd\n",
    "import re\n",
    "import nltk\n",
    "from nltk.corpus import stopwords\n",
    "from nltk.stem.porter import PorterStemmer\n",
    "from sklearn.feature_extraction.text import TfidfVectorizer   # Turning textual data into numeric for computation\n",
    "from sklearn.model_selection import train_test_split\n",
    "from sklearn.tree import DecisionTreeClassifier\n",
    "from sklearn import svm   # Baseline\n",
    "from sklearn.metrics import accuracy_score"
   ]
  },
  {
   "cell_type": "markdown",
   "id": "63a79c2d",
   "metadata": {},
   "source": [
    "## Data Preprocessing"
   ]
  },
  {
   "cell_type": "code",
   "execution_count": 2,
   "id": "bc0121ed",
   "metadata": {},
   "outputs": [
    {
     "name": "stderr",
     "output_type": "stream",
     "text": [
      "[nltk_data] Downloading package stopwords to C:\\Users\\Computer\n",
      "[nltk_data]     Point\\AppData\\Roaming\\nltk_data...\n",
      "[nltk_data]   Package stopwords is already up-to-date!\n"
     ]
    },
    {
     "data": {
      "text/plain": [
       "True"
      ]
     },
     "execution_count": 2,
     "metadata": {},
     "output_type": "execute_result"
    }
   ],
   "source": [
    "nltk.download('stopwords')\n",
    "# stop_words"
   ]
  },
  {
   "cell_type": "code",
   "execution_count": 3,
   "id": "0a69fa08",
   "metadata": {},
   "outputs": [
    {
     "name": "stdout",
     "output_type": "stream",
     "text": [
      "['i', 'me', 'my', 'myself', 'we', 'our', 'ours', 'ourselves', 'you', \"you're\", \"you've\", \"you'll\", \"you'd\", 'your', 'yours', 'yourself', 'yourselves', 'he', 'him', 'his', 'himself', 'she', \"she's\", 'her', 'hers', 'herself', 'it', \"it's\", 'its', 'itself', 'they', 'them', 'their', 'theirs', 'themselves', 'what', 'which', 'who', 'whom', 'this', 'that', \"that'll\", 'these', 'those', 'am', 'is', 'are', 'was', 'were', 'be', 'been', 'being', 'have', 'has', 'had', 'having', 'do', 'does', 'did', 'doing', 'a', 'an', 'the', 'and', 'but', 'if', 'or', 'because', 'as', 'until', 'while', 'of', 'at', 'by', 'for', 'with', 'about', 'against', 'between', 'into', 'through', 'during', 'before', 'after', 'above', 'below', 'to', 'from', 'up', 'down', 'in', 'out', 'on', 'off', 'over', 'under', 'again', 'further', 'then', 'once', 'here', 'there', 'when', 'where', 'why', 'how', 'all', 'any', 'both', 'each', 'few', 'more', 'most', 'other', 'some', 'such', 'no', 'nor', 'not', 'only', 'own', 'same', 'so', 'than', 'too', 'very', 's', 't', 'can', 'will', 'just', 'don', \"don't\", 'should', \"should've\", 'now', 'd', 'll', 'm', 'o', 're', 've', 'y', 'ain', 'aren', \"aren't\", 'couldn', \"couldn't\", 'didn', \"didn't\", 'doesn', \"doesn't\", 'hadn', \"hadn't\", 'hasn', \"hasn't\", 'haven', \"haven't\", 'isn', \"isn't\", 'ma', 'mightn', \"mightn't\", 'mustn', \"mustn't\", 'needn', \"needn't\", 'shan', \"shan't\", 'shouldn', \"shouldn't\", 'wasn', \"wasn't\", 'weren', \"weren't\", 'won', \"won't\", 'wouldn', \"wouldn't\"]\n"
     ]
    }
   ],
   "source": [
    "print(stopwords.words('English'))"
   ]
  },
  {
   "cell_type": "code",
   "execution_count": 18,
   "id": "7c738cc2",
   "metadata": {},
   "outputs": [
    {
     "data": {
      "text/html": [
       "<div>\n",
       "<style scoped>\n",
       "    .dataframe tbody tr th:only-of-type {\n",
       "        vertical-align: middle;\n",
       "    }\n",
       "\n",
       "    .dataframe tbody tr th {\n",
       "        vertical-align: top;\n",
       "    }\n",
       "\n",
       "    .dataframe thead th {\n",
       "        text-align: right;\n",
       "    }\n",
       "</style>\n",
       "<table border=\"1\" class=\"dataframe\">\n",
       "  <thead>\n",
       "    <tr style=\"text-align: right;\">\n",
       "      <th></th>\n",
       "      <th>country</th>\n",
       "      <th>sku_id</th>\n",
       "      <th>title</th>\n",
       "      <th>category_lvl1</th>\n",
       "      <th>category_lvl2</th>\n",
       "      <th>category_lvl3</th>\n",
       "      <th>description</th>\n",
       "      <th>price</th>\n",
       "      <th>type</th>\n",
       "    </tr>\n",
       "  </thead>\n",
       "  <tbody>\n",
       "    <tr>\n",
       "      <th>0</th>\n",
       "      <td>my</td>\n",
       "      <td>AD674FAASTLXANMY</td>\n",
       "      <td>Adana Gallery Suri Square Hijab – Light Pink</td>\n",
       "      <td>Fashion</td>\n",
       "      <td>Women</td>\n",
       "      <td>Muslim Wear</td>\n",
       "      <td>&lt;ul&gt;&lt;li&gt;Material : Non sheer shimmer chiffon&lt;/...</td>\n",
       "      <td>49.00</td>\n",
       "      <td>local</td>\n",
       "    </tr>\n",
       "    <tr>\n",
       "      <th>1</th>\n",
       "      <td>my</td>\n",
       "      <td>AE068HBAA3RPRDANMY</td>\n",
       "      <td>Cuba Heartbreaker Eau De Parfum Spray 100ml/3.3oz</td>\n",
       "      <td>Health &amp; Beauty</td>\n",
       "      <td>Bath &amp; Body</td>\n",
       "      <td>Hand &amp; Foot Care</td>\n",
       "      <td>Formulated with oil-free hydrating botanicals/...</td>\n",
       "      <td>128.00</td>\n",
       "      <td>international</td>\n",
       "    </tr>\n",
       "    <tr>\n",
       "      <th>2</th>\n",
       "      <td>my</td>\n",
       "      <td>AN680ELAA9VN57ANMY</td>\n",
       "      <td>Andoer 150cm Cellphone Smartphone Mini Dual-He...</td>\n",
       "      <td>TV, Audio / Video, Gaming &amp; Wearables</td>\n",
       "      <td>Audio</td>\n",
       "      <td>Live Sound &amp; Stage</td>\n",
       "      <td>&lt;ul&gt; &lt;li&gt;150cm mini microphone compatible for ...</td>\n",
       "      <td>25.07</td>\n",
       "      <td>international</td>\n",
       "    </tr>\n",
       "    <tr>\n",
       "      <th>3</th>\n",
       "      <td>my</td>\n",
       "      <td>AN957HBAAAHDF4ANMY</td>\n",
       "      <td>ANMYNA Complaint Silky Set 柔顺洗发配套 (Shampoo 520...</td>\n",
       "      <td>Health &amp; Beauty</td>\n",
       "      <td>Hair Care</td>\n",
       "      <td>Shampoos &amp; Conditioners</td>\n",
       "      <td>&lt;ul&gt; &lt;li&gt;ANMYNA Complaint Silky Set (Shampoo 5...</td>\n",
       "      <td>118.00</td>\n",
       "      <td>local</td>\n",
       "    </tr>\n",
       "    <tr>\n",
       "      <th>4</th>\n",
       "      <td>my</td>\n",
       "      <td>AR511HBAXNWAANMY</td>\n",
       "      <td>Argital Argiltubo Green Clay For Face and Body...</td>\n",
       "      <td>Health &amp; Beauty</td>\n",
       "      <td>Men's Care</td>\n",
       "      <td>Body and Skin Care</td>\n",
       "      <td>&lt;ul&gt; &lt;li&gt;100% Authentic&lt;/li&gt; &lt;li&gt;Rrefresh and ...</td>\n",
       "      <td>114.80</td>\n",
       "      <td>international</td>\n",
       "    </tr>\n",
       "  </tbody>\n",
       "</table>\n",
       "</div>"
      ],
      "text/plain": [
       "  country              sku_id  \\\n",
       "0      my    AD674FAASTLXANMY   \n",
       "1      my  AE068HBAA3RPRDANMY   \n",
       "2      my  AN680ELAA9VN57ANMY   \n",
       "3      my  AN957HBAAAHDF4ANMY   \n",
       "4      my    AR511HBAXNWAANMY   \n",
       "\n",
       "                                               title  \\\n",
       "0       Adana Gallery Suri Square Hijab – Light Pink   \n",
       "1  Cuba Heartbreaker Eau De Parfum Spray 100ml/3.3oz   \n",
       "2  Andoer 150cm Cellphone Smartphone Mini Dual-He...   \n",
       "3  ANMYNA Complaint Silky Set 柔顺洗发配套 (Shampoo 520...   \n",
       "4  Argital Argiltubo Green Clay For Face and Body...   \n",
       "\n",
       "                           category_lvl1 category_lvl2  \\\n",
       "0                                Fashion         Women   \n",
       "1                        Health & Beauty   Bath & Body   \n",
       "2  TV, Audio / Video, Gaming & Wearables         Audio   \n",
       "3                        Health & Beauty     Hair Care   \n",
       "4                        Health & Beauty    Men's Care   \n",
       "\n",
       "             category_lvl3                                        description  \\\n",
       "0              Muslim Wear  <ul><li>Material : Non sheer shimmer chiffon</...   \n",
       "1         Hand & Foot Care  Formulated with oil-free hydrating botanicals/...   \n",
       "2       Live Sound & Stage  <ul> <li>150cm mini microphone compatible for ...   \n",
       "3  Shampoos & Conditioners  <ul> <li>ANMYNA Complaint Silky Set (Shampoo 5...   \n",
       "4       Body and Skin Care  <ul> <li>100% Authentic</li> <li>Rrefresh and ...   \n",
       "\n",
       "    price           type  \n",
       "0   49.00          local  \n",
       "1  128.00  international  \n",
       "2   25.07  international  \n",
       "3  118.00          local  \n",
       "4  114.80  international  "
      ]
     },
     "execution_count": 18,
     "metadata": {},
     "output_type": "execute_result"
    }
   ],
   "source": [
    "df = pd.read_csv('data_train.csv', header=None, names=[\"country\", \"sku_id\", \"title\", \"category_lvl1\",\"category_lvl2\",\n",
    "                                                       \"category_lvl3\", \"description\", \"price\", \"type\"])   #No titles\n",
    "df.head()"
   ]
  },
  {
   "cell_type": "code",
   "execution_count": 9,
   "id": "67fc57c4",
   "metadata": {},
   "outputs": [
    {
     "data": {
      "text/plain": [
       "(36283, 9)"
      ]
     },
     "execution_count": 9,
     "metadata": {},
     "output_type": "execute_result"
    }
   ],
   "source": [
    "df.shape  # 9 features"
   ]
  },
  {
   "cell_type": "code",
   "execution_count": 14,
   "id": "a04fbe9b",
   "metadata": {},
   "outputs": [
    {
     "name": "stdout",
     "output_type": "stream",
     "text": [
      "Country             0\n",
      "Sku_id              0\n",
      "Title               0\n",
      "Category_lvl1       0\n",
      "Category_lvl2       0\n",
      "Category_lvl3    2135\n",
      "Description        33\n",
      "Price               0\n",
      "Type              277\n",
      "dtype: int64\n",
      "\n",
      "The missing data percent is: 0.7487436724269401\n"
     ]
    }
   ],
   "source": [
    "# Finding the percentage of missing values in dataset\n",
    "missing_val = df.isnull().sum()\n",
    "print(missing_val)\n",
    "total_cells = np.product(df.shape)\n",
    "missing_percent = (missing_val.sum()/total_cells) *100\n",
    "print(f'\\nThe missing data percent is: {missing_percent}')"
   ]
  },
  {
   "cell_type": "code",
   "execution_count": 16,
   "id": "9eade6f1",
   "metadata": {},
   "outputs": [],
   "source": [
    "# Using Imputation to handle missing values, if this technique doesnt work with model training then we will opt for deletion of null values\n",
    "df = df.fillna(\"\")"
   ]
  },
  {
   "cell_type": "code",
   "execution_count": 20,
   "id": "743fad0b",
   "metadata": {},
   "outputs": [
    {
     "data": {
      "text/plain": [
       "array(['Fashion', 'Health & Beauty',\n",
       "       'TV, Audio / Video, Gaming & Wearables', 'Computers & Laptops',\n",
       "       'Cameras', 'Home & Living', 'Watches Sunglasses Jewellery',\n",
       "       'Mobiles & Tablets', 'Home Appliances'], dtype=object)"
      ]
     },
     "execution_count": 20,
     "metadata": {},
     "output_type": "execute_result"
    }
   ],
   "source": [
    "df['category_lvl1'].unique()"
   ]
  },
  {
   "cell_type": "code",
   "execution_count": 24,
   "id": "db727ee3",
   "metadata": {},
   "outputs": [
    {
     "name": "stdout",
     "output_type": "stream",
     "text": [
      "9\n",
      "57\n",
      "184\n"
     ]
    }
   ],
   "source": [
    "# 3 labels in dataset: category1, category2 and category3\n",
    "print(df['category_lvl1'].nunique()) # 9 distinct classes in category 1\n",
    "print(df['category_lvl2'].nunique()) # 57 distinct classes in category 1\n",
    "print(df['category_lvl3'].nunique()) # 184 distinct classes in category 1"
   ]
  },
  {
   "cell_type": "code",
   "execution_count": 27,
   "id": "2fcb429a",
   "metadata": {},
   "outputs": [
    {
     "name": "stdout",
     "output_type": "stream",
     "text": [
      "0    Mobiles & Tablets\n",
      "Name: category_lvl1, dtype: object\n",
      "0    Accessories\n",
      "Name: category_lvl2, dtype: object\n",
      "0    Phone Cases\n",
      "Name: category_lvl3, dtype: object\n"
     ]
    }
   ],
   "source": [
    "# Most occuring category labels\n",
    "print(df['category_lvl1'].mode())\n",
    "print(df['category_lvl2'].mode())\n",
    "print(df['category_lvl3'].mode())"
   ]
  },
  {
   "cell_type": "code",
   "execution_count": 28,
   "id": "220d4faa",
   "metadata": {},
   "outputs": [
    {
     "data": {
      "text/plain": [
       "0        Adana Gallery Suri Square Hijab – Light Pink <...\n",
       "1        Cuba Heartbreaker Eau De Parfum Spray 100ml/3....\n",
       "2        Andoer 150cm Cellphone Smartphone Mini Dual-He...\n",
       "3        ANMYNA Complaint Silky Set 柔顺洗发配套 (Shampoo 520...\n",
       "4        Argital Argiltubo Green Clay For Face and Body...\n",
       "                               ...                        \n",
       "36278    SADES K10 LED Backlit Wired USB Mechanical Gam...\n",
       "36279    SONA 20L Electric Oven SEO 2220 <ul> <li>&nbsp...\n",
       "36280    OP1001 Portable Wireless Bluetooth 2.1 Speaker...\n",
       "36281    Woot-Woot TicTacToe Pillow Case (White) <ul> <...\n",
       "36282    New Smart Wristband D21 Smart Bracelet Heart R...\n",
       "Name: combined, Length: 36283, dtype: object"
      ]
     },
     "execution_count": 28,
     "metadata": {},
     "output_type": "execute_result"
    }
   ],
   "source": [
    "# Merging title and description column to make predictions (Approach 01)\n",
    "\n",
    "df['combined'] = df['title']+\" \"+df['description']\n",
    "df['combined']"
   ]
  },
  {
   "cell_type": "code",
   "execution_count": null,
   "id": "1a4792b4",
   "metadata": {},
   "outputs": [],
   "source": [
    "# Cleaning 'combined' attribute to remove encodings, html tags etc \n",
    "ps = PorterStemmer()\n",
    "\n",
    "# CLEANR = re.compile('<.*?>|&([a-z0-9]+|#[0-9]{1,6}|#x[0-9a-f]{1,6});')\n",
    "\n",
    "def stemming(content):\n",
    "    # Using str(content) because there are some float values in combined\n",
    "    stemmed_content = re.sub('[^a-zA-Z]',' ',str(content))   # Dropping all encodings, numbers etc\n",
    "#     stemmed_content = re.sub(CLEANR, '',stemmed_content)\n",
    "    stemmed_content = stemmed_content.lower()\n",
    "    stemmed_content = stemmed_content.split()\n",
    "    stemmed_content = [ps.stem(word) for word in stemmed_content if not word in stopwords.words('english')]\n",
    "    stemmed_content = ' '.join(stemmed_content)\n",
    "    return stemmed_content\n",
    "\n",
    "\n",
    "df['combined'] = df['combined'].apply(stemming)\n",
    "df['combined']"
   ]
  },
  {
   "cell_type": "code",
   "execution_count": null,
   "id": "f8e3aa25",
   "metadata": {},
   "outputs": [],
   "source": []
  }
 ],
 "metadata": {
  "kernelspec": {
   "display_name": "Python 3 (ipykernel)",
   "language": "python",
   "name": "python3"
  },
  "language_info": {
   "codemirror_mode": {
    "name": "ipython",
    "version": 3
   },
   "file_extension": ".py",
   "mimetype": "text/x-python",
   "name": "python",
   "nbconvert_exporter": "python",
   "pygments_lexer": "ipython3",
   "version": "3.10.1"
  }
 },
 "nbformat": 4,
 "nbformat_minor": 5
}
